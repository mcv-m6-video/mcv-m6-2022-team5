{
 "cells": [
  {
   "cell_type": "code",
   "execution_count": 1,
   "metadata": {},
   "outputs": [],
   "source": [
    "import cv2\n",
    "import numpy as np\n",
    "import pandas as pd\n",
    "import pickle as pkl\n",
    "from matplotlib import pyplot as plt\n",
    "from optical_flow import *\n",
    "from tqdm import tqdm\n",
    "from tracking_utils import *\n",
    "import matplotlib.animation as animation\n",
    "import pickle as pkl\n",
    "from load_utils import *\n",
    "from eval_utils import *\n",
    "from sort import *\n",
    "from VehicleDetection import *\n",
    "\n",
    "import imageio\n",
    "from PIL import Image"
   ]
  },
  {
   "cell_type": "code",
   "execution_count": 2,
   "metadata": {},
   "outputs": [],
   "source": [
    "# Load GT detections\n",
    "gt_detect = readDetectionsXML('ai_challenge_s03_c010-full_annotation.xml')\n",
    "gt_notParked = getNotParkedCars(gt_detect)\n",
    "\n",
    "# Load computed detections\n",
    "detection_path = 'retinanet_101_detections_trained.pkl'\n",
    "data_path = '../../AICity_data/train/S03/c010/'\n",
    "\n",
    "with open(detection_path , 'rb') as f:\n",
    "    all_detections = pkl.load(f)\n",
    "\n",
    "# Load video frames\n",
    "video_path = '../../AICity_data/train/S03/c010/vdo.avi' #UPDATE PATH WHEN PUSHING\n",
    "vidcap = cv2.VideoCapture(video_path)\n",
    "num_frames = int(vidcap.get(cv2.CAP_PROP_FRAME_COUNT))"
   ]
  },
  {
   "cell_type": "markdown",
   "metadata": {},
   "source": [
    "## Overlapping boxes approach"
   ]
  },
  {
   "cell_type": "code",
   "execution_count": 4,
   "metadata": {},
   "outputs": [],
   "source": [
    "def update_track3(detections_pd, previous_detections_pd, tolerance = 0.5, imgs = None):\n",
    "    detections_pd['updated'] = False\n",
    "    detections_pd = detections_pd.reset_index(drop=True)\n",
    "\n",
    "    previous_tracks = []\n",
    "\n",
    "    for index, previous_detection in previous_detections_pd.iterrows():\n",
    "        length, _ = detections_pd.shape\n",
    "\n",
    "        # Calculating IoUs\n",
    "        IoUlist = []\n",
    "        for i in range(length):\n",
    "            IoU = previous_detection['detection'].IoU(detections_pd.iloc[i]['detection'])\n",
    "            IoUlist.append(IoU)\n",
    "\n",
    "        indexMax = IoUlist.index(max(IoUlist))\n",
    "\n",
    "        # Updating detection tracks based on best IoU matches\n",
    "        if max(IoUlist) > tolerance and detections_pd.at[indexMax, 'updated'] != True:\n",
    "            detections_pd.at[indexMax, 'track'] = previous_detection['track']\n",
    "            detections_pd.at[indexMax, 'colour'] = previous_detection['colour']\n",
    "            for line in previous_detection['line']:\n",
    "                if line != detections_pd.at[indexMax,'line'][0]:\n",
    "                    detections_pd.at[indexMax,'line'].append(line)\n",
    "            detections_pd.at[indexMax, 'updated'] = True\n",
    "\n",
    "        previous_tracks.append(previous_detection['track'])\n",
    "\n",
    "    # Create new tracks for unmatched detections\n",
    "    idxs = detections_pd.index[detections_pd['updated'] == False].tolist()\n",
    "    track_check = 1\n",
    "    for ind in idxs:\n",
    "        while track_check in previous_tracks:\n",
    "            track_check += 1\n",
    "        detections_pd.at[ind, 'track'] = track_check\n",
    "        previous_tracks.append(track_check)\n",
    "            \n",
    "    return detections_pd"
   ]
  },
  {
   "cell_type": "code",
   "execution_count": 5,
   "metadata": {},
   "outputs": [
    {
     "name": "stderr",
     "output_type": "stream",
     "text": [
      "100%|██████████| 2139/2139 [02:53<00:00, 12.33it/s]\n"
     ]
    }
   ],
   "source": [
    "detection_history = []\n",
    "\n",
    "# Get the first frame\n",
    "detections_prev_pd = get_detection_dataframe(all_detections['0'], firstFrame = True)\n",
    "\n",
    "# Pre-process the first frame if needed\n",
    "detections_prev_pd = remove_overlaps(detections_prev_pd, 0.9)\n",
    "detection_history.append(detections_prev_pd)\n",
    "\n",
    "vidcap = cv2.VideoCapture(video_path)\n",
    "_, frame_0 = vidcap.read()\n",
    "\n",
    "for frame in tqdm(range(1,num_frames-1)):\n",
    "    _, image = vidcap.read()\n",
    "    \n",
    "    detections_pd = get_detection_dataframe(all_detections[str(frame)])\n",
    "    detections_pd = remove_overlaps(detections_pd, 0.9)\n",
    "    detections_pd = update_track3(detections_pd, detections_prev_pd, tolerance=0.5)\n",
    "    detection_history.append(detections_pd)\n",
    "    detections_prev_pd = detections_pd\n",
    "\n",
    "pkl.dump(detection_history, open('tracking_history3.pkl', 'wb'))"
   ]
  },
  {
   "cell_type": "code",
   "execution_count": 6,
   "metadata": {},
   "outputs": [],
   "source": [
    "detections = {}\n",
    "with open('tracking_history3.pkl','rb') as openFile:\n",
    "    detections = pkl.load(openFile)"
   ]
  },
  {
   "cell_type": "markdown",
   "metadata": {},
   "source": [
    "## Animation generation"
   ]
  },
  {
   "cell_type": "code",
   "execution_count": 7,
   "metadata": {},
   "outputs": [],
   "source": [
    "gif = True\n",
    "initial_gif_frame = 600\n",
    "final_gif_frame = 650\n",
    "scaling = 0.5\n",
    "\n",
    "ims = []\n",
    "\n",
    "vidcap = cv2.VideoCapture(video_path)\n",
    "vidcap.set(1,initial_gif_frame)\n",
    "\n",
    "if gif:\n",
    "    _, initial_image = vidcap.read()\n",
    "\n",
    "    for i in range(initial_gif_frame, final_gif_frame):\n",
    "        _, image = vidcap.read()\n",
    "        for index, row in detections[i].iterrows():\n",
    "            image = drawTrackingOnImage(image, row['bbox'], track=row['track'], line=row['line'], colour=row['colour'])\n",
    "            \n",
    "        image = cv2.cvtColor(image, cv2.COLOR_BGR2RGB)\n",
    "        image = cv2.resize(image, (int(image.shape[1]*scaling), int(image.shape[0]*scaling)), interpolation = cv2.INTER_AREA)\n",
    "\n",
    "        ims.append(image)\n",
    "\n",
    "    imageio.mimsave('test_animation.gif', ims, fps=20, duration = 0.1)"
   ]
  },
  {
   "cell_type": "markdown",
   "metadata": {},
   "source": [
    "## Evaluation"
   ]
  },
  {
   "cell_type": "code",
   "execution_count": 8,
   "metadata": {},
   "outputs": [],
   "source": [
    "total_frames = 2141\n",
    "initial_frame = 535"
   ]
  },
  {
   "cell_type": "code",
   "execution_count": 9,
   "metadata": {},
   "outputs": [
    {
     "name": "stderr",
     "output_type": "stream",
     "text": [
      "100%|██████████| 1605/1605 [01:26<00:00, 18.53it/s]\n"
     ]
    },
    {
     "name": "stdout",
     "output_type": "stream",
     "text": [
      "     num_frames  precision  recall       idp       idr     idf1\n",
      "acc        1605   0.593536     1.0  0.570797  0.961689  0.71639\n"
     ]
    }
   ],
   "source": [
    "acc = create_accumulator()\n",
    "\n",
    "for frame in tqdm(range(initial_frame, total_frames-1)):\n",
    "    acc, frame_id = tracking_acc(frame, gt_detect, detections, acc)\n",
    "\n",
    "display_metrics(acc)"
   ]
  },
  {
   "cell_type": "markdown",
   "metadata": {},
   "source": [
    "## IGNORE EVERYTHING AFTER THIS POINT"
   ]
  },
  {
   "cell_type": "code",
   "execution_count": 9,
   "metadata": {},
   "outputs": [
    {
     "name": "stderr",
     "output_type": "stream",
     "text": [
      "  0%|          | 0/2139 [00:00<?, ?it/s]\n"
     ]
    },
    {
     "ename": "NameError",
     "evalue": "name 'update_track2' is not defined",
     "output_type": "error",
     "traceback": [
      "\u001b[0;31m---------------------------------------------------------------------------\u001b[0m",
      "\u001b[0;31mNameError\u001b[0m                                 Traceback (most recent call last)",
      "\u001b[0;32m/var/folders/h8/jvpg08h90c5bggxybw41glg40000gp/T/ipykernel_16367/2410031370.py\u001b[0m in \u001b[0;36m<module>\u001b[0;34m\u001b[0m\n\u001b[1;32m     22\u001b[0m     \u001b[0mnext_detections_pd\u001b[0m \u001b[0;34m=\u001b[0m \u001b[0mremove_overlaps\u001b[0m\u001b[0;34m(\u001b[0m\u001b[0mnext_detections_pd\u001b[0m\u001b[0;34m,\u001b[0m \u001b[0;36m0.9\u001b[0m\u001b[0;34m)\u001b[0m\u001b[0;34m\u001b[0m\u001b[0;34m\u001b[0m\u001b[0m\n\u001b[1;32m     23\u001b[0m \u001b[0;34m\u001b[0m\u001b[0m\n\u001b[0;32m---> 24\u001b[0;31m     \u001b[0mdetections_pd\u001b[0m \u001b[0;34m=\u001b[0m \u001b[0mupdate_track2\u001b[0m\u001b[0;34m(\u001b[0m\u001b[0mdetections_pd\u001b[0m\u001b[0;34m,\u001b[0m \u001b[0mnext_detections_pd\u001b[0m\u001b[0;34m,\u001b[0m \u001b[0mtolerance\u001b[0m\u001b[0;34m=\u001b[0m\u001b[0;36m0.5\u001b[0m\u001b[0;34m,\u001b[0m \u001b[0mimgs\u001b[0m\u001b[0;34m=\u001b[0m\u001b[0;34m[\u001b[0m\u001b[0mpast_frame\u001b[0m\u001b[0;34m,\u001b[0m \u001b[0mimage\u001b[0m\u001b[0;34m]\u001b[0m\u001b[0;34m)\u001b[0m\u001b[0;34m\u001b[0m\u001b[0;34m\u001b[0m\u001b[0m\n\u001b[0m\u001b[1;32m     25\u001b[0m     \u001b[0mdetection_history\u001b[0m\u001b[0;34m.\u001b[0m\u001b[0mappend\u001b[0m\u001b[0;34m(\u001b[0m\u001b[0mdetections_pd\u001b[0m\u001b[0;34m)\u001b[0m\u001b[0;34m\u001b[0m\u001b[0;34m\u001b[0m\u001b[0m\n\u001b[1;32m     26\u001b[0m     \u001b[0mpast_frame\u001b[0m \u001b[0;34m=\u001b[0m \u001b[0mimage\u001b[0m\u001b[0;34m\u001b[0m\u001b[0;34m\u001b[0m\u001b[0m\n",
      "\u001b[0;31mNameError\u001b[0m: name 'update_track2' is not defined"
     ]
    }
   ],
   "source": [
    "ims = []\n",
    "detection_history = []\n",
    "gif = False\n",
    "\n",
    "# if gif:\n",
    "#     fig, ax = plt.subplots()\n",
    "#     plt.axis('off')\n",
    "\n",
    "# Get the first frame\n",
    "detections_pd = get_detection_dataframe(all_detections['0'])\n",
    "\n",
    "# Pre-process the first frame if needed\n",
    "detections_pd = remove_overlaps(detections_pd, 0.9)\n",
    "detection_history.append(detections_pd)\n",
    "\n",
    "_, past_frame = vidcap.read()\n",
    "\n",
    "for frame in tqdm(range(1,num_frames-1)):\n",
    "    _, image = vidcap.read()\n",
    "    # vidcap.set(1,'frame')\n",
    "    \n",
    "    next_detections_pd = get_detection_dataframe(all_detections[str(frame)])\n",
    "    next_detections_pd = remove_overlaps(next_detections_pd, 0.9)\n",
    "    \n",
    "    detections_pd = update_track2(detections_pd, next_detections_pd, tolerance=0.5, imgs=[past_frame, image])\n",
    "    detection_history.append(detections_pd)\n",
    "    past_frame = image\n",
    "\n",
    "    # if gif:\n",
    "    #     for index, row in detections_pd.iterrows():\n",
    "    #         image = drawTrackingOnImage(image, row['bbox'], track=row['track'], line=row['line'],colour=row['colour'])\n",
    "    #     im = ax.imshow(image, animated=True)\n",
    "    #     ims.append([im])\n",
    "\n",
    "# if gif:\n",
    "#     ani = animation.ArtistAnimation(fig, ims, interval=10, blit=True, repeat_delay=10000)\n",
    "#     ani.save('all_detects' + \".gif\", writer=animation.PillowWriter(fps=24))\n",
    "    \n",
    "pkl.dump(detection_history, open('tracking_history.pkl', 'wb'))"
   ]
  },
  {
   "cell_type": "code",
   "execution_count": null,
   "metadata": {},
   "outputs": [],
   "source": [
    "# def update_track2(detections_pd, next_detections_pd, tolerance=0.5, imgs=None):\n",
    "#     detections_pd['updated'] = False\n",
    "#     detections_pd = detections_pd.reset_index(drop=True)\n",
    "    \n",
    "#     # Loop each new detection\n",
    "#     for index, next_detection in next_detections_pd.iterrows():\n",
    "#         length, _ = detections_pd.shape\n",
    "        \n",
    "#         # Find overlaps with max IoU and update if found\n",
    "#         IoUlist = []\n",
    "#         for i in range(length):\n",
    "#             IoU = next_detection['detection'].IoU(detections_pd.iloc[i]['detection'])\n",
    "#             IoUlist.append(IoU)\n",
    "            \n",
    "#         indexMax = IoUlist.index(max(IoUlist))\n",
    "            \n",
    "#         if max(IoUlist) > tolerance and detections_pd.at[indexMax,'updated'] != True:\n",
    "#             detections_pd.at[indexMax,'detection'] = next_detection['detection']\n",
    "#             detections_pd.at[indexMax,'bbox'] = next_detection['bbox']\n",
    "#             detections_pd.at[indexMax,'size'] = next_detection['size']\n",
    "#             detections_pd.at[indexMax,'line'].append(next_detection['line'][0])\n",
    "#             detections_pd.at[indexMax,'updated'] = True\n",
    "#             detections_pd.at[indexMax, 'opt_flow'] = 0\n",
    "#             next_detections_pd.at[index, 'updated'] = True\n",
    "    \n",
    "\n",
    "\n",
    "#     # If frame images \"imgs\" are provided, use optical flow approach to improve tracking\n",
    "#     if imgs is not None:\n",
    "#         idxs = detections_pd.index[detections_pd['updated'] == False].tolist() #Non-updated detections\n",
    "#         for ind in idxs:\n",
    "#             if detections_pd.at[ind, 'opt_flow'] < 1: # After _ consecutive frames using OF, remove detection\n",
    "#                 box = detections_pd.at[ind, 'bbox']\n",
    "#                 block = imgs[0][int(box[1]):int(box[3]), int(box[0]):int(box[2])]\n",
    "\n",
    "#                 #Compute optical flow of the not updated tracking bounding box\n",
    "#                 of = compute_block_of(block, box, imgs[1], 'backward', 10)\n",
    "                \n",
    "#                 #Update bounding box\n",
    "#                 if len(of) > 0:\n",
    "#                     if (of[0] != 0.0 or of[1] != 0.0):\n",
    "#                         newBox = [box[0]+of[0], box[1]+of[1], box[2]+of[0], box[3]+of[1]]\n",
    "#                         detections_pd.at[ind, 'bbox'] = newBox\n",
    "#                         detections_pd.at[ind, 'updated'] = True # NEED TO DOUBLE CHECK THIS\n",
    "#                         detections_pd.at[ind, 'detection'].updateBBox(newBox)\n",
    "#                         detections_pd.at[ind, 'line'].append(get_box_center(newBox))\n",
    "#                         detections_pd.at[ind, 'opt_flow'] = detections_pd.at[ind, 'opt_flow'] + 1\n",
    "\n",
    "\n",
    "#     # Drop detections no longer exist\n",
    "#     detections_pd = detections_pd[detections_pd['updated'] == True]\n",
    "                \n",
    "#     # Start tracking new detections\n",
    "#     counter = 0\n",
    "#     if any(next_detections_pd['updated'] == False):\n",
    "#         new_pd = next_detections_pd[next_detections_pd['updated'] == False]\n",
    "#         new_pd = new_pd.reset_index(drop=True)\n",
    "        \n",
    "#         # Generate new track number      \n",
    "#         for i in range(len(new_pd)):\n",
    "#             while counter in detections_pd['track'].tolist():\n",
    "#                 counter = counter + 1\n",
    "#             new_pd.at[i, 'track'] = counter\n",
    "#             counter = counter + 1\n",
    "\n",
    "#         # Add new tracks\n",
    "#         detections_pd = pd.concat([detections_pd, new_pd])\n",
    "            \n",
    "#     detections_pd = detections_pd.reset_index(drop=True)\n",
    "#     return detections_pd"
   ]
  }
 ],
 "metadata": {
  "interpreter": {
   "hash": "2bc29f060ed23a123f6d9ca4fac8af0775aca92f5b2f5a596f9ae7b118c743e6"
  },
  "kernelspec": {
   "display_name": "Python 3.8.12 ('Torch')",
   "language": "python",
   "name": "python3"
  },
  "language_info": {
   "codemirror_mode": {
    "name": "ipython",
    "version": 3
   },
   "file_extension": ".py",
   "mimetype": "text/x-python",
   "name": "python",
   "nbconvert_exporter": "python",
   "pygments_lexer": "ipython3",
   "version": "3.8.12"
  },
  "orig_nbformat": 4
 },
 "nbformat": 4,
 "nbformat_minor": 2
}
