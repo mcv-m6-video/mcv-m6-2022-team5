{
 "cells": [
  {
   "cell_type": "code",
   "execution_count": 1,
   "metadata": {},
   "outputs": [],
   "source": [
    "import cv2\n",
    "import numpy as np\n",
    "import pandas as pd\n",
    "import pickle as pkl\n",
    "import imageio\n",
    "from matplotlib import pyplot as plt\n",
    "from optical_flow import *\n",
    "from tqdm import tqdm\n",
    "from tracking_utils import *\n",
    "import matplotlib.animation as animation\n",
    "import pickle as pkl\n",
    "from load_utils import *\n",
    "from eval_utils import *\n",
    "from sort import *\n",
    "from VehicleDetection import *"
   ]
  },
  {
   "cell_type": "code",
   "execution_count": 2,
   "metadata": {},
   "outputs": [],
   "source": [
    "# Load GT detections\n",
    "gt_detect = readDetectionsXML('ai_challenge_s03_c010-full_annotation.xml')\n",
    "gt_notParked = getNotParkedCars(gt_detect)\n",
    "\n",
    "# Load computed detections\n",
    "detection_path = 'retinanet_101_detections_trained.pkl'\n",
    "data_path = '../../AICity_data/train/S03/c010/'\n",
    "\n",
    "with open(detection_path , 'rb') as f:\n",
    "    all_detections = pkl.load(f)\n",
    "\n",
    "# Load video frames\n",
    "video_path = '../../AICity_data/train/S03/c010/vdo.avi' #UPDATE PATH WHEN PUSHING\n",
    "vidcap = cv2.VideoCapture(video_path)\n",
    "num_frames = int(vidcap.get(cv2.CAP_PROP_FRAME_COUNT))"
   ]
  },
  {
   "cell_type": "markdown",
   "metadata": {},
   "source": [
    "## Overlapping boxes approach"
   ]
  },
  {
   "cell_type": "code",
   "execution_count": 3,
   "metadata": {},
   "outputs": [],
   "source": [
    "# Select optical flow compensation\n",
    "    # No correction: None\n",
    "    # Homemade block matching [forward]: 'bm'\n",
    "    \n",
    "OF = 'bm'"
   ]
  },
  {
   "cell_type": "code",
   "execution_count": 4,
   "metadata": {},
   "outputs": [],
   "source": [
    "#     # If frame images \"imgs\" are provided, use optical flow approach to improve tracking\n",
    "#     if imgs is not None:\n",
    "#         idxs = detections_pd.index[detections_pd['updated'] == False].tolist() #Non-updated detections\n",
    "#         for ind in idxs:\n",
    "#             if detections_pd.at[ind, 'opt_flow'] < 1: # After _ consecutive frames using OF, remove detection\n",
    "#                 box = detections_pd.at[ind, 'bbox']\n",
    "#                 block = imgs[0][int(box[1]):int(box[3]), int(box[0]):int(box[2])]\n",
    "\n",
    "#                 #Compute optical flow of the not updated tracking bounding box\n",
    "#                 of = compute_block_of(block, box, imgs[1], 'backward', 10)\n",
    "                \n",
    "#                 #Update bounding box\n",
    "#                 if len(of) > 0:\n",
    "#                     if (of[0] != 0.0 or of[1] != 0.0):\n",
    "#                         newBox = [box[0]+of[0], box[1]+of[1], box[2]+of[0], box[3]+of[1]]\n",
    "#                         detections_pd.at[ind, 'bbox'] = newBox\n",
    "#                         detections_pd.at[ind, 'updated'] = True # NEED TO DOUBLE CHECK THIS\n",
    "#                         detections_pd.at[ind, 'detection'].updateBBox(newBox)\n",
    "#                         detections_pd.at[ind, 'line'].append(get_box_center(newBox))\n",
    "#                         detections_pd.at[ind, 'opt_flow'] = detections_pd.at[ind, 'opt_flow'] + 1"
   ]
  },
  {
   "cell_type": "code",
   "execution_count": 5,
   "metadata": {},
   "outputs": [],
   "source": [
    "# def compute_block_of(block, box, im_target, mode, P, stride=1):\n",
    "#     blocH_size = block.shape[0]\n",
    "#     blocW_size = block.shape[1]                \n",
    "#     area_minx = max(0, int(box[0]) - P)\n",
    "#     area_miny = max(0, int(box[1]) - P)\n",
    "#     area_maxX = min(im_target.shape[1], int(box[2]) + P)\n",
    "#     area_maxy = min(im_target.shape[0], int(box[3]) + P)\n",
    "#     minDist = inf\n",
    "#     of = []\n",
    "#     for y in (range(area_miny, area_maxy-blocH_size, stride)):\n",
    "#         for x in range(area_minx, area_maxX-blocW_size, stride):\n",
    "#             dist = distance(block, im_target[y:y+blocH_size, x:x+blocW_size], 'ssd')\n",
    "#             if dist < minDist:\n",
    "#                 minDist = dist\n",
    "#                 if mode == 'forward':\n",
    "#                     of = np.array([box[0] - x, box[1] - y])\n",
    "#                 elif mode == 'backward':\n",
    "#                     of = np.array([x - box[0], y - box[1]])\n",
    "#     return of"
   ]
  },
  {
   "cell_type": "code",
   "execution_count": 4,
   "metadata": {},
   "outputs": [],
   "source": [
    "def update_track3(detections_pd, previous_detections_pd, tolerance = 0.5, of = None, imgs = None):\n",
    "    detections_pd['updated'] = False\n",
    "    detections_pd = detections_pd.reset_index(drop=True)\n",
    "\n",
    "    previous_tracks = []\n",
    "\n",
    "    for index, previous_detection in previous_detections_pd.iterrows():\n",
    "    \n",
    "        # Calculating IoUs\n",
    "        IoUlist = []\n",
    "\n",
    "        ###############\n",
    "\n",
    "        # Apply OF correction if applicable\n",
    "        newBox = apply_of_to_box(previous_detection['bbox'], [imgs[0], imgs[1]])\n",
    "\n",
    "        previous_detection['detection'].updateBBox(newBox)\n",
    "\n",
    "        # if OF == 'bm':\n",
    "        #     box = previous_detection['bbox']\n",
    "        #     block = imgs[0][int(box[1]):int(box[3]), int(box[0]):int(box[2])]\n",
    "\n",
    "        #     of = compute_block_of(block, box, imgs[1], 'backward', 10, stride = 2)\n",
    "\n",
    "        #     if len(of) > 0:\n",
    "        #         if (of[0] != 0.0 or of[1] != 0.0):\n",
    "        #             newBox = [box[0]+of[0], box[1]+of[1], box[2]+of[0], box[3]+of[1]]\n",
    "        #             previous_detection['detection'].updateBBox(newBox)\n",
    "\n",
    "\n",
    "        ##############\n",
    "        \n",
    "        length, _ = detections_pd.shape\n",
    "\n",
    "        for i in range(length):\n",
    "            IoU = previous_detection['detection'].IoU(detections_pd.iloc[i]['detection'])\n",
    "            IoUlist.append(IoU)\n",
    "\n",
    "        indexMax = IoUlist.index(max(IoUlist))\n",
    "\n",
    "        # Updating detection tracks based on best IoU matches\n",
    "        if max(IoUlist) > tolerance and detections_pd.at[indexMax, 'updated'] != True:\n",
    "            detections_pd.at[indexMax, 'track'] = previous_detection['track']\n",
    "            detections_pd.at[indexMax, 'colour'] = previous_detection['colour']\n",
    "            for line in previous_detection['line']:\n",
    "                if line != detections_pd.at[indexMax,'line'][0]:\n",
    "                    detections_pd.at[indexMax,'line'].append(line)\n",
    "            detections_pd.at[indexMax, 'updated'] = True\n",
    "\n",
    "        previous_tracks.append(previous_detection['track'])\n",
    "\n",
    "    # Create new tracks for unmatched detections\n",
    "    idxs = detections_pd.index[detections_pd['updated'] == False].tolist()\n",
    "    track_check = 1\n",
    "    for ind in idxs:\n",
    "        while track_check in previous_tracks:\n",
    "            track_check += 1\n",
    "        detections_pd.at[ind, 'track'] = track_check\n",
    "        previous_tracks.append(track_check)\n",
    "            \n",
    "    return detections_pd"
   ]
  },
  {
   "cell_type": "code",
   "execution_count": 5,
   "metadata": {},
   "outputs": [
    {
     "name": "stderr",
     "output_type": "stream",
     "text": [
      "100%|██████████| 2139/2139 [40:07<00:00,  1.13s/it]\n"
     ]
    }
   ],
   "source": [
    "detection_history = []\n",
    "\n",
    "# Get the first frame\n",
    "detections_prev_pd = get_detection_dataframe(all_detections['0'], firstFrame = True)\n",
    "\n",
    "# Pre-process the first frame if needed\n",
    "detections_prev_pd = remove_overlaps(detections_prev_pd, 0.9)\n",
    "detection_history.append(detections_prev_pd)\n",
    "\n",
    "vidcap = cv2.VideoCapture(video_path)\n",
    "_, past_frame = vidcap.read()\n",
    "\n",
    "for frame in tqdm(range(1,num_frames-1)):\n",
    "    _, current_frame = vidcap.read()\n",
    "    \n",
    "    detections_pd = get_detection_dataframe(all_detections[str(frame)])\n",
    "    detections_pd = remove_overlaps(detections_pd, 0.9)\n",
    "    detections_pd = update_track3(detections_pd, detections_prev_pd, tolerance=0.5, of = OF, imgs=[past_frame, current_frame])\n",
    "    detection_history.append(detections_pd)\n",
    "    detections_prev_pd = detections_pd\n",
    "\n",
    "    past_frame = current_frame\n",
    "\n",
    "pkl.dump(detection_history, open(f'tracking_history_{str(OF)}.pkl', 'wb'))"
   ]
  },
  {
   "cell_type": "code",
   "execution_count": 6,
   "metadata": {},
   "outputs": [],
   "source": [
    "detections = {}\n",
    "with open(f'tracking_history_{str(OF)}.pkl','rb') as openFile:\n",
    "    detections = pkl.load(openFile)"
   ]
  },
  {
   "cell_type": "markdown",
   "metadata": {},
   "source": [
    "## Animation generation"
   ]
  },
  {
   "cell_type": "code",
   "execution_count": 7,
   "metadata": {},
   "outputs": [],
   "source": [
    "# Generating a tracking GIF for a frame interval\n",
    "gif1 = True\n",
    "initial_gif_frame = 750\n",
    "final_gif_frame = 820\n",
    "scaling = 0.5\n",
    "\n",
    "ims = []\n",
    "\n",
    "vidcap = cv2.VideoCapture(video_path)\n",
    "vidcap.set(1,initial_gif_frame)\n",
    "\n",
    "if gif1:\n",
    "    _, initial_image = vidcap.read()\n",
    "\n",
    "    for i in tqdm(range(initial_gif_frame, final_gif_frame)):\n",
    "        _, image = vidcap.read()\n",
    "        for index, row in detections[i].iterrows():\n",
    "            image = drawTrackingOnImage(image, row['bbox'], track=row['track'], line=row['line'], colour=row['colour'])\n",
    "            \n",
    "        image = cv2.cvtColor(image, cv2.COLOR_BGR2RGB)\n",
    "        image = cv2.resize(image, (int(image.shape[1]*scaling), int(image.shape[0]*scaling)), interpolation = cv2.INTER_AREA)\n",
    "\n",
    "        ims.append(image)\n",
    "\n",
    "    imageio.mimsave('tracking.gif', ims, fps=20, duration = 0.1)"
   ]
  },
  {
   "cell_type": "code",
   "execution_count": 3,
   "metadata": {},
   "outputs": [
    {
     "name": "stderr",
     "output_type": "stream",
     "text": [
      "100%|██████████| 50/50 [00:01<00:00, 48.45it/s]\n"
     ]
    }
   ],
   "source": [
    "# Generating a GIF with current and previous detections\n",
    "gif2 = True\n",
    "initial_gif_frame = 600\n",
    "final_gif_frame = 650\n",
    "scaling = 0.5\n",
    "\n",
    "ims = []\n",
    "\n",
    "vidcap = cv2.VideoCapture(video_path)\n",
    "vidcap.set(1,initial_gif_frame)\n",
    "\n",
    "if gif2:\n",
    "    _, initial_image = vidcap.read()\n",
    "\n",
    "    for i in tqdm(range(initial_gif_frame, final_gif_frame)):\n",
    "        _, image = vidcap.read()\n",
    "\n",
    "        detections_pd = get_detection_dataframe(all_detections[str(i)])\n",
    "        detections_pd_prev = get_detection_dataframe(all_detections[str(i-1)])\n",
    "\n",
    "        # Plot previous detections in red\n",
    "        for index, row in detections_pd_prev.iterrows():\n",
    "            image = drawTrackingOnImage(image, row['bbox'], colour=(0, 0, 255), showTracking = False)\n",
    "\n",
    "        # Plot current detections in blue\n",
    "        for index, row in detections_pd.iterrows():\n",
    "            image = drawTrackingOnImage(image, row['bbox'], colour=(255, 0, 0), showTracking = False)\n",
    "            \n",
    "        image = cv2.cvtColor(image, cv2.COLOR_BGR2RGB)\n",
    "        image = cv2.resize(image, (int(image.shape[1]*scaling), int(image.shape[0]*scaling)), interpolation = cv2.INTER_AREA)\n",
    "\n",
    "        ims.append(image)\n",
    "\n",
    "    imageio.mimsave('current_and_previous_detections.gif', ims, fps=20, duration = 0.2)"
   ]
  },
  {
   "cell_type": "code",
   "execution_count": 4,
   "metadata": {},
   "outputs": [
    {
     "name": "stderr",
     "output_type": "stream",
     "text": [
      "100%|██████████| 50/50 [00:56<00:00,  1.12s/it]\n"
     ]
    }
   ],
   "source": [
    "# Generating a GIF with current and OF-displaced previous detections\n",
    "gif3 = True\n",
    "initial_gif_frame = 600\n",
    "final_gif_frame = 650\n",
    "scaling = 0.5\n",
    "\n",
    "ims = []\n",
    "\n",
    "vidcap = cv2.VideoCapture(video_path)\n",
    "vidcap.set(1,initial_gif_frame)\n",
    "\n",
    "if gif3:\n",
    "    _, initial_image = vidcap.read()\n",
    "\n",
    "    for i in tqdm(range(initial_gif_frame, final_gif_frame)):\n",
    "        _, image = vidcap.read()\n",
    "\n",
    "        detections_pd = get_detection_dataframe(all_detections[str(i)])\n",
    "        detections_pd_prev = get_detection_dataframe(all_detections[str(i-1)])\n",
    "\n",
    "        # Plot previous detections in green\n",
    "        for index, row in detections_pd_prev.iterrows():\n",
    "            correctedBox = apply_of_to_box(row['bbox'], [initial_image, image])\n",
    "\n",
    "            image_edit = drawTrackingOnImage(image, correctedBox, colour=(0, 255, 0), showTracking = False)\n",
    "\n",
    "        # Plot current detections in blue\n",
    "        for index, row in detections_pd.iterrows():\n",
    "            image = drawTrackingOnImage(image, row['bbox'], colour=(255, 0, 0), showTracking = False)\n",
    "\n",
    "        initial_image = image\n",
    "\n",
    "        image_edit = cv2.cvtColor(image_edit, cv2.COLOR_BGR2RGB)\n",
    "        image_edit = cv2.resize(image_edit, (int(image.shape[1]*scaling), int(image.shape[0]*scaling)), interpolation = cv2.INTER_AREA)\n",
    "\n",
    "        ims.append(image_edit)\n",
    "\n",
    "    imageio.mimsave('current_and_previous_corrected_detections.gif', ims, fps=20, duration = 0.2)"
   ]
  },
  {
   "cell_type": "code",
   "execution_count": 12,
   "metadata": {},
   "outputs": [
    {
     "name": "stderr",
     "output_type": "stream",
     "text": [
      "100%|██████████| 2139/2139 [00:10<00:00, 208.21it/s]\n"
     ]
    }
   ],
   "source": [
    "vidcap = cv2.VideoCapture(video_path)\n",
    "_, past_frame = vidcap.read()\n",
    "\n",
    "for frame in tqdm(range(1,num_frames-1)):\n",
    "    _, current_frame = vidcap.read()"
   ]
  },
  {
   "cell_type": "markdown",
   "metadata": {},
   "source": [
    "## Evaluation"
   ]
  },
  {
   "cell_type": "code",
   "execution_count": 13,
   "metadata": {},
   "outputs": [],
   "source": [
    "total_frames = 2141\n",
    "initial_frame = 535"
   ]
  },
  {
   "cell_type": "code",
   "execution_count": 15,
   "metadata": {},
   "outputs": [
    {
     "name": "stderr",
     "output_type": "stream",
     "text": [
      "100%|██████████| 1605/1605 [01:17<00:00, 20.65it/s]\n"
     ]
    },
    {
     "name": "stdout",
     "output_type": "stream",
     "text": [
      "     num_frames  precision  recall      idp       idr      idf1\n",
      "acc        1605   0.593536     1.0  0.56759  0.956287  0.712366\n"
     ]
    }
   ],
   "source": [
    "acc = create_accumulator()\n",
    "\n",
    "for frame in tqdm(range(initial_frame, total_frames-1)):\n",
    "    acc, frame_id = tracking_acc(frame, gt_detect, detections, acc)\n",
    "\n",
    "display_metrics(acc)"
   ]
  }
 ],
 "metadata": {
  "interpreter": {
   "hash": "2bc29f060ed23a123f6d9ca4fac8af0775aca92f5b2f5a596f9ae7b118c743e6"
  },
  "kernelspec": {
   "display_name": "Python 3.8.12 ('Torch')",
   "language": "python",
   "name": "python3"
  },
  "language_info": {
   "codemirror_mode": {
    "name": "ipython",
    "version": 3
   },
   "file_extension": ".py",
   "mimetype": "text/x-python",
   "name": "python",
   "nbconvert_exporter": "python",
   "pygments_lexer": "ipython3",
   "version": "3.8.12"
  },
  "orig_nbformat": 4
 },
 "nbformat": 4,
 "nbformat_minor": 2
}
