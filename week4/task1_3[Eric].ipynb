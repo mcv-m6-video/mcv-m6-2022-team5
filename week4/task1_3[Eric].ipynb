{
 "cells": [
  {
   "cell_type": "code",
   "execution_count": 1,
   "metadata": {},
   "outputs": [],
   "source": [
    "import cv2\n",
    "import numpy as np\n",
    "import pandas as pd\n",
    "import pickle as pkl\n",
    "from matplotlib import pyplot as plt\n",
    "from optical_flow import *\n",
    "from tqdm import tqdm\n",
    "from tracking_utils import *\n",
    "import matplotlib.animation as animation\n",
    "import pickle as pkl\n",
    "from load_utils import *\n",
    "from eval_utils import *\n",
    "from sort import *\n",
    "from VehicleDetection import *"
   ]
  },
  {
   "cell_type": "code",
   "execution_count": 2,
   "metadata": {},
   "outputs": [],
   "source": [
    "# Load GT detections\n",
    "gt_detect = readDetectionsXML('ai_challenge_s03_c010-full_annotation.xml')\n",
    "gt_notParked = getNotParkedCars(gt_detect)\n",
    "\n",
    "# Load computed detections\n",
    "detection_path = 'retinanet_101_detections_trained.pkl'\n",
    "data_path = '../../AICity_data/train/S03/c010/'\n",
    "\n",
    "with open(detection_path , 'rb') as f:\n",
    "    all_detections = pkl.load(f)\n",
    "\n",
    "# Load video frames\n",
    "video_path = '../../AICity_data/train/S03/c010/vdo.avi' #UPDATE PATH WHEN PUSHING\n",
    "vidcap = cv2.VideoCapture(video_path)\n",
    "num_frames = int(vidcap.get(cv2.CAP_PROP_FRAME_COUNT))"
   ]
  },
  {
   "cell_type": "markdown",
   "metadata": {},
   "source": [
    "## Overlapping boxes approach"
   ]
  },
  {
   "cell_type": "code",
   "execution_count": 3,
   "metadata": {},
   "outputs": [],
   "source": [
    "def update_track2(detections_pd, next_detections_pd, tolerance=0.5, imgs=None):\n",
    "    detections_pd['updated'] = False\n",
    "    detections_pd = detections_pd.reset_index(drop=True)\n",
    "    \n",
    "    # Loop each new detection\n",
    "    for index, next_detection in next_detections_pd.iterrows():\n",
    "        length, _ = detections_pd.shape\n",
    "        \n",
    "        # Find overlaps with max IoU and update if found\n",
    "        IoUlist = []\n",
    "        for i in range(length):\n",
    "            IoU = next_detection['detection'].IoU(detections_pd.iloc[i]['detection'])\n",
    "            IoUlist.append(IoU)\n",
    "            \n",
    "        indexMax = IoUlist.index(max(IoUlist))\n",
    "            \n",
    "        if max(IoUlist) > tolerance and detections_pd.at[indexMax,'updated'] != True:\n",
    "            detections_pd.at[indexMax,'detection'] = next_detection['detection']\n",
    "            detections_pd.at[indexMax,'bbox'] = next_detection['bbox']\n",
    "            detections_pd.at[indexMax,'size'] = next_detection['size']\n",
    "            detections_pd.at[indexMax,'line'].append(next_detection['line'][0])\n",
    "            detections_pd.at[indexMax,'updated'] = True\n",
    "            detections_pd.at[indexMax, 'opt_flow'] = 0\n",
    "            next_detections_pd.at[index, 'updated'] = True\n",
    "    \n",
    "\n",
    "\n",
    "    # If frame images \"imgs\" are provided, use optical flow approach to improve tracking\n",
    "    if imgs is not None:\n",
    "        idxs = detections_pd.index[detections_pd['updated'] == False].tolist() #Non-updated detections\n",
    "        for ind in idxs:\n",
    "            if detections_pd.at[ind, 'opt_flow'] < 3: # after three consecutive frames using of, remove detection\n",
    "                box = detections_pd.at[ind, 'bbox']\n",
    "                block = imgs[0][int(box[1]):int(box[3]), int(box[0]):int(box[2])]\n",
    "\n",
    "                #Compute optical flow of the not updated tracking bounding box\n",
    "                of = compute_block_of(block, box, imgs[1], 'backward', 10)\n",
    "                \n",
    "                #Update bounding box\n",
    "                if len(of) > 0:\n",
    "                    if (of[0] != 0.0 or of[1] != 0.0):\n",
    "                        newBox = [box[0]+of[0], box[1]+of[1], box[2]+of[0], box[3]+of[1]]\n",
    "                        detections_pd.at[ind, 'bbox'] = newBox\n",
    "                        detections_pd.at[ind, 'updated'] = True # NEED TO DOUBLE CHECK THIS\n",
    "                        detections_pd.at[ind, 'detection'].updateBBox(newBox)\n",
    "                        detections_pd.at[ind, 'line'].append(get_box_center(newBox))\n",
    "                        detections_pd.at[ind, 'opt_flow'] = detections_pd.at[ind, 'opt_flow'] + 1\n",
    "\n",
    "\n",
    "    # Drop detections no longer exist\n",
    "    detections_pd = detections_pd[detections_pd['updated'] == True]\n",
    "                \n",
    "    # Start tracking new detections\n",
    "    counter = 0\n",
    "    if any(next_detections_pd['updated'] == False):\n",
    "        new_pd = next_detections_pd[next_detections_pd['updated'] == False]\n",
    "        new_pd = new_pd.reset_index(drop=True)\n",
    "        \n",
    "        # Generate new track number      \n",
    "        for i in range(len(new_pd)):\n",
    "            while counter in detections_pd['track'].tolist():\n",
    "                counter = counter + 1\n",
    "            new_pd.at[i, 'track'] = counter\n",
    "            counter = counter + 1\n",
    "\n",
    "        # Add new tracks\n",
    "        detections_pd = pd.concat([detections_pd, new_pd])\n",
    "            \n",
    "    detections_pd = detections_pd.reset_index(drop=True)\n",
    "    return detections_pd"
   ]
  },
  {
   "cell_type": "code",
   "execution_count": 4,
   "metadata": {},
   "outputs": [
    {
     "name": "stderr",
     "output_type": "stream",
     "text": [
      "100%|██████████| 2139/2139 [03:03<00:00, 11.66it/s]\n"
     ]
    }
   ],
   "source": [
    "ims = []\n",
    "detection_history = []\n",
    "gif = False\n",
    "\n",
    "if gif:\n",
    "    fig, ax = plt.subplots()\n",
    "    plt.axis('off')\n",
    "\n",
    "# Get the first frame\n",
    "detections_pd = get_detection_dataframe(all_detections['0'])\n",
    "\n",
    "# Pre-process the first frame if needed\n",
    "detections_pd = remove_overlaps(detections_pd, 0.9)\n",
    "detection_history.append(detections_pd)\n",
    "\n",
    "success, past_frame = vidcap.read()\n",
    "\n",
    "for frame in tqdm(range(1,num_frames-1)):\n",
    "    success, image = vidcap.read()\n",
    "    if not success:\n",
    "        print('Error reading the video!!')\n",
    "        break\n",
    "    \n",
    "    next_detections_pd = get_detection_dataframe(all_detections[str(frame)])\n",
    "    next_detections_pd = remove_overlaps(next_detections_pd, 0.9)\n",
    "    \n",
    "    detections_pd = update_track2(detections_pd, next_detections_pd, tolerance=0.5, imgs=[past_frame, image])\n",
    "    detection_history.append(detections_pd)\n",
    "    past_frame = image\n",
    "\n",
    "    if gif:\n",
    "        for index, row in detections_pd.iterrows():\n",
    "            image = drawTrackingOnImage(image, row['bbox'], track=row['track'], line=row['line'],colour=row['colour'])\n",
    "        im = ax.imshow(image, animated=True)\n",
    "        ims.append([im])\n",
    "\n",
    "if gif:\n",
    "    ani = animation.ArtistAnimation(fig, ims, interval=10, blit=True, repeat_delay=10000)\n",
    "    ani.save('all_detects' + \".gif\", writer=animation.PillowWriter(fps=24))\n",
    "    \n",
    "# pkl.dump(detection_history, open('tracking_history.pkl', 'wb'))"
   ]
  },
  {
   "cell_type": "markdown",
   "metadata": {},
   "source": [
    "## Kalman filter approach"
   ]
  },
  {
   "cell_type": "code",
   "execution_count": null,
   "metadata": {},
   "outputs": [
    {
     "name": "stderr",
     "output_type": "stream",
     "text": [
      "Tracking objects each frame...: 100%|██████████| 2141/2141 [00:21<00:00, 100.26it/s]\n"
     ]
    }
   ],
   "source": [
    "# Create Kalman tracker\n",
    "mot_tracker = Sort(max_age=10, min_hits=3, iou_threshold=0.3) # Sort Kalman tracker with default values\n",
    "\n",
    "results = {}\n",
    "\n",
    "# Iterate through frames\n",
    "for frame in tqdm(range(num_frames), desc = \"Tracking objects each frame...\"):\n",
    "    dets = []\n",
    "\n",
    "    _, im = vidcap.read() # Read frame\n",
    "    detections = get_detection_dataframe(all_detections[str(frame)], iclLineAndUpdate = False).sort_values(\"track\") # Load detections\n",
    "\n",
    "    # Iterate through frame's detections\n",
    "    for (track_id, det, bbox, size, colour) in detections.itertuples(index=False):\n",
    "        dets.append(np.array(bbox))\n",
    "\n",
    "    trackers = mot_tracker.update(np.array(dets)) # Update tracker with current detections\n",
    "\n",
    "    for d in trackers: # Store new bboxes\n",
    "        d = d.astype(np.int32)\n",
    "        if frame not in results:\n",
    "            results[frame] = {d[4] % 47: {\"bbox\": [d[0], d[1], d[2], d[3]]}}\n",
    "        else:\n",
    "            results[frame][d[4] % 47] = {\"bbox\": [d[0], d[1], d[2], d[3]]}\n",
    "\n",
    "# Save Results to Disk\n",
    "pkl.dump(results, open(\"sort_bbox.pkl\", \"wb\"))"
   ]
  },
  {
   "cell_type": "code",
   "execution_count": null,
   "metadata": {},
   "outputs": [],
   "source": [
    "# Pkl to pd.DataFrame\n",
    "colours = np.random.rand(47, 3) #Generate Random Colors\n",
    "old_pkl = pkl.load(open(\"sort_bbox.pkl\", \"rb\"))\n",
    "new_pkl = []\n",
    "df = None\n",
    "\n",
    "for frame in old_pkl.keys():\n",
    "    new_data = {\"frame\": [],\"track\": [], \"bbox\": [], \"colour\": [], \"size\": [], \"detection\": []}\n",
    "    old_data = old_pkl[frame]\n",
    "    \n",
    "    for track_id in old_data.keys():\n",
    "        new_data[\"track\"].append(track_id)\n",
    "        bbox = old_data[track_id][\"bbox\"]\n",
    "        new_data[\"bbox\"].append(bbox)\n",
    "        new_data[\"frame\"].append(\"Frame {}\".format(frame))\n",
    "        new_data[\"colour\"].append(np.round(colours[track_id]*255).astype(np.uint8))\n",
    "        new_data[\"size\"].append(int(np.abs(bbox[0] - bbox[2]) * np.abs(bbox[1] - bbox[3])))\n",
    "        new_data[\"detection\"].append(VehicleDetection(frame=frame, ID=track_id, width=np.abs(bbox[0] - bbox[2]), conf=0.5,\n",
    "                                                      height=np.abs(bbox[1] - bbox[3]), left=bbox[0], right=bbox[2], top=bbox[1], bot=bbox[3]))\n",
    "    \n",
    "    df = pd.DataFrame.from_dict(new_data).sort_values(by=\"track\")\n",
    "\n",
    "    new_pkl.append(df)\n",
    "\n",
    "pkl.dump(new_pkl, open(\"kalman_tracking.pkl\", \"wb\"))"
   ]
  },
  {
   "cell_type": "markdown",
   "metadata": {},
   "source": [
    "## Evaluation"
   ]
  },
  {
   "cell_type": "code",
   "execution_count": 8,
   "metadata": {},
   "outputs": [],
   "source": [
    "total_frames = 2141\n",
    "initial_frame = 535"
   ]
  },
  {
   "cell_type": "code",
   "execution_count": null,
   "metadata": {},
   "outputs": [],
   "source": [
    "detections = {}\n",
    "with open('tracking_history.pkl','rb') as openFile:\n",
    "    detections = pkl.load(openFile)"
   ]
  },
  {
   "cell_type": "code",
   "execution_count": null,
   "metadata": {},
   "outputs": [],
   "source": [
    "acc = create_accumulator()\n",
    "\n",
    "for frame in tqdm(range(initial_frame, total_frames-1)):\n",
    "    acc, frame_id = tracking_acc(frame, gt_detect, detection_history, acc)\n",
    "\n",
    "display_metrics(acc)"
   ]
  },
  {
   "cell_type": "code",
   "execution_count": null,
   "metadata": {},
   "outputs": [],
   "source": [
    "detectionsK = {}\n",
    "with open('kalman_tracking.pkl','rb') as openFile:\n",
    "    detectionsK = pkl.load(openFile)"
   ]
  },
  {
   "cell_type": "code",
   "execution_count": null,
   "metadata": {},
   "outputs": [
    {
     "name": "stderr",
     "output_type": "stream",
     "text": [
      "100%|██████████| 1605/1605 [01:06<00:00, 24.01it/s]\n"
     ]
    },
    {
     "name": "stdout",
     "output_type": "stream",
     "text": [
      "     num_frames  precision    recall      idp       idr      idf1\n",
      "acc        1605   0.708708  0.999627  0.62916  0.887426  0.736303\n"
     ]
    }
   ],
   "source": [
    "total_frames = 2141\n",
    "initial_frame = 535\n",
    "\n",
    "accK = create_accumulator()\n",
    "\n",
    "for frame in tqdm(range(initial_frame, total_frames-1)):\n",
    "    accK, frame_id = tracking_acc(frame, gt_detect, detectionsK, accK)\n",
    "\n",
    "display_metrics(accK)"
   ]
  }
 ],
 "metadata": {
  "interpreter": {
   "hash": "2bc29f060ed23a123f6d9ca4fac8af0775aca92f5b2f5a596f9ae7b118c743e6"
  },
  "kernelspec": {
   "display_name": "Python 3.8.12 ('Torch')",
   "language": "python",
   "name": "python3"
  },
  "language_info": {
   "codemirror_mode": {
    "name": "ipython",
    "version": 3
   },
   "file_extension": ".py",
   "mimetype": "text/x-python",
   "name": "python",
   "nbconvert_exporter": "python",
   "pygments_lexer": "ipython3",
   "version": "3.8.12"
  },
  "orig_nbformat": 4
 },
 "nbformat": 4,
 "nbformat_minor": 2
}
