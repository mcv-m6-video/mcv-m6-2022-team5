{
 "cells": [
  {
   "cell_type": "code",
   "execution_count": 1,
   "metadata": {},
   "outputs": [],
   "source": [
    "import cv2\n",
    "import numpy as np\n",
    "import pandas as pd\n",
    "import pickle as pkl\n",
    "from matplotlib import pyplot as plt\n",
    "from optical_flow import *\n",
    "from tqdm import tqdm\n",
    "from tracking_utils import *\n",
    "import matplotlib.animation as animation\n",
    "import pickle as pkl\n",
    "from load_utils import *\n",
    "from eval_utils import *\n",
    "from sort import *\n",
    "from VehicleDetection import *"
   ]
  },
  {
   "cell_type": "code",
   "execution_count": 2,
   "metadata": {},
   "outputs": [],
   "source": [
    "# Load GT detections\n",
    "gt_detect = readDetectionsXML('ai_challenge_s03_c010-full_annotation.xml')\n",
    "gt_notParked = getNotParkedCars(gt_detect)\n",
    "\n",
    "# Load computed detections\n",
    "detection_path = 'retinanet_101_detections_trained.pkl'\n",
    "data_path = '../../AICity_data/train/S03/c010/'\n",
    "\n",
    "with open(detection_path , 'rb') as f:\n",
    "    all_detections = pkl.load(f)\n",
    "\n",
    "# Load video frames\n",
    "video_path = '../../AICity_data/train/S03/c010/vdo.avi' #UPDATE PATH WHEN PUSHING\n",
    "vidcap = cv2.VideoCapture(video_path)\n",
    "num_frames = int(vidcap.get(cv2.CAP_PROP_FRAME_COUNT))"
   ]
  },
  {
   "cell_type": "markdown",
   "metadata": {},
   "source": [
    "## Overlapping boxes approach"
   ]
  },
  {
   "cell_type": "code",
   "execution_count": null,
   "metadata": {},
   "outputs": [],
   "source": [
    "detections_pd = get_detection_dataframe(all_detections['0'], firstFrame=True)\n",
    "detections_pd"
   ]
  },
  {
   "cell_type": "code",
   "execution_count": null,
   "metadata": {},
   "outputs": [],
   "source": [
    "detections_pd = get_detection_dataframe(all_detections['1'])\n",
    "detections_pd"
   ]
  },
  {
   "cell_type": "code",
   "execution_count": 3,
   "metadata": {},
   "outputs": [],
   "source": [
    "def get_detection_dataframe(detections, iclLineAndUpdate = True, firstFrame = False):\n",
    "    bboxes = []\n",
    "    bsizes = []\n",
    "    lines = deque(maxlen=32)\n",
    "    bdetections = []\n",
    "\n",
    "    if firstFrame == True:\n",
    "        tracks = list(range(1, len(detections)+1))\n",
    "    else:    \n",
    "        tracks = [0]*len(detections)\n",
    "\n",
    "    colours = []\n",
    "    for i in range(len(detections)):\n",
    "        colours.append(tuple(np.random.choice(range(256), size=3).astype('int')))\n",
    "        \n",
    "    updated = [False]*len(detections)\n",
    "    use_of = [0]*len(detections)\n",
    "    \n",
    "    for detection in detections:\n",
    "        bbox = np.array(detection.getBBox()).astype('int')\n",
    "        bboxes.append(bbox)\n",
    "        \n",
    "        centers = []\n",
    "        centers.append(get_box_center(bbox))\n",
    "        lines.append(centers)\n",
    "\n",
    "        bsize = int(detection.areaOfRec())\n",
    "        bsizes.append(bsize)\n",
    "\n",
    "        bdetections.append(detection)\n",
    "\n",
    "    if iclLineAndUpdate == True: \n",
    "        detec = {\n",
    "            'track': tracks,\n",
    "            'detection': bdetections,\n",
    "            'bbox': bboxes,\n",
    "            'size': bsizes,\n",
    "            'line': lines,\n",
    "            'colour': colours,\n",
    "            'updated': updated,\n",
    "            'opt_flow': use_of\n",
    "        }\n",
    "    else:\n",
    "        detec = {\n",
    "            'track': tracks,\n",
    "            'detection': bdetections,\n",
    "            'bbox': bboxes,\n",
    "            'size': bsizes,\n",
    "            'colour': colours,\n",
    "        }\n",
    "    detections_pd = pd.DataFrame(detec)\n",
    "    detections_pd = detections_pd.sort_values(by=['size'], ascending=False)\n",
    "    detections_pd = detections_pd.reset_index(drop=True)\n",
    "    \n",
    "    return detections_pd"
   ]
  },
  {
   "cell_type": "code",
   "execution_count": 4,
   "metadata": {},
   "outputs": [],
   "source": [
    "def update_track3(detections_pd, previous_detections_pd, tolerance = 0.5, imgs = None):\n",
    "    detections_pd['updated'] = False\n",
    "    detections_pd = previous_detections_pd.reset_index(drop=True)\n",
    "\n",
    "    previous_tracks = []\n",
    "\n",
    "    for index, previous_detection in previous_detections_pd.iterrows():\n",
    "        length, _ = detections_pd.shape\n",
    "\n",
    "        IoUlist = []\n",
    "        for i in range(length):\n",
    "            IoU = previous_detection['detection'].IoU(detections_pd.iloc[i]['detection'])\n",
    "            IoUlist.append(IoU)\n",
    "\n",
    "        indexMax = IoUlist.index(max(IoUlist))\n",
    "\n",
    "        if max(IoUlist) > tolerance and detections_pd.at[indexMax, 'updated'] != True:\n",
    "            detections_pd.at[indexMax, 'track'] = previous_detection['track']\n",
    "            # add line\n",
    "            detections_pd.at[indexMax, 'updated'] = True\n",
    "\n",
    "        previous_tracks.append(previous_detection['track'])\n",
    "\n",
    "    idxs = detections_pd.index[detections_pd['updated'] == False].tolist() #Non-updated detections\n",
    "    track_check = 1\n",
    "    for ind in idxs:\n",
    "        while track_check in previous_tracks:\n",
    "            track_check += 1\n",
    "        detections_pd.at[ind, 'track'] = track_check\n",
    "        previous_tracks.append(track_check)\n",
    "            \n",
    "    return detections_pd"
   ]
  },
  {
   "cell_type": "code",
   "execution_count": 5,
   "metadata": {},
   "outputs": [
    {
     "name": "stderr",
     "output_type": "stream",
     "text": [
      "100%|██████████| 2139/2139 [02:47<00:00, 12.81it/s]\n"
     ]
    }
   ],
   "source": [
    "detection_history = []\n",
    "\n",
    "# Get the first frame\n",
    "detections_prev_pd = get_detection_dataframe(all_detections['0'], firstFrame = True)\n",
    "\n",
    "# Pre-process the first frame if needed\n",
    "detections_prev_pd = remove_overlaps(detections_prev_pd, 0.9)\n",
    "detection_history.append(detections_prev_pd)\n",
    "\n",
    "_, frame_0 = vidcap.read()\n",
    "\n",
    "for frame in tqdm(range(1,num_frames-1)):\n",
    "    _, image = vidcap.read()\n",
    "    \n",
    "    detections_pd = get_detection_dataframe(all_detections[str(frame)])\n",
    "    detections_pd = remove_overlaps(detections_pd, 0.9)\n",
    "\n",
    "    detections_pd = update_track3(detections_pd, detections_prev_pd, tolerance=0.5)\n",
    "    detection_history.append(detections_pd)\n",
    "\n",
    "    detections_prev_pd = detections_pd\n",
    "\n",
    "pkl.dump(detection_history, open('tracking_history3.pkl', 'wb'))"
   ]
  },
  {
   "cell_type": "code",
   "execution_count": 18,
   "metadata": {},
   "outputs": [],
   "source": [
    "def update_track2(detections_pd, next_detections_pd, tolerance=0.5, imgs=None):\n",
    "    detections_pd['updated'] = False\n",
    "    detections_pd = detections_pd.reset_index(drop=True)\n",
    "    \n",
    "    # Loop each new detection\n",
    "    for index, next_detection in next_detections_pd.iterrows():\n",
    "        length, _ = detections_pd.shape\n",
    "        \n",
    "        # Find overlaps with max IoU and update if found\n",
    "        IoUlist = []\n",
    "        for i in range(length):\n",
    "            IoU = next_detection['detection'].IoU(detections_pd.iloc[i]['detection'])\n",
    "            IoUlist.append(IoU)\n",
    "            \n",
    "        indexMax = IoUlist.index(max(IoUlist))\n",
    "            \n",
    "        if max(IoUlist) > tolerance and detections_pd.at[indexMax,'updated'] != True:\n",
    "            detections_pd.at[indexMax,'detection'] = next_detection['detection']\n",
    "            detections_pd.at[indexMax,'bbox'] = next_detection['bbox']\n",
    "            detections_pd.at[indexMax,'size'] = next_detection['size']\n",
    "            detections_pd.at[indexMax,'line'].append(next_detection['line'][0])\n",
    "            detections_pd.at[indexMax,'updated'] = True\n",
    "            detections_pd.at[indexMax, 'opt_flow'] = 0\n",
    "            next_detections_pd.at[index, 'updated'] = True\n",
    "    \n",
    "\n",
    "\n",
    "    # If frame images \"imgs\" are provided, use optical flow approach to improve tracking\n",
    "    if imgs is not None:\n",
    "        idxs = detections_pd.index[detections_pd['updated'] == False].tolist() #Non-updated detections\n",
    "        for ind in idxs:\n",
    "            if detections_pd.at[ind, 'opt_flow'] < 1: # After _ consecutive frames using OF, remove detection\n",
    "                box = detections_pd.at[ind, 'bbox']\n",
    "                block = imgs[0][int(box[1]):int(box[3]), int(box[0]):int(box[2])]\n",
    "\n",
    "                #Compute optical flow of the not updated tracking bounding box\n",
    "                of = compute_block_of(block, box, imgs[1], 'backward', 10)\n",
    "                \n",
    "                #Update bounding box\n",
    "                if len(of) > 0:\n",
    "                    if (of[0] != 0.0 or of[1] != 0.0):\n",
    "                        newBox = [box[0]+of[0], box[1]+of[1], box[2]+of[0], box[3]+of[1]]\n",
    "                        detections_pd.at[ind, 'bbox'] = newBox\n",
    "                        detections_pd.at[ind, 'updated'] = True # NEED TO DOUBLE CHECK THIS\n",
    "                        detections_pd.at[ind, 'detection'].updateBBox(newBox)\n",
    "                        detections_pd.at[ind, 'line'].append(get_box_center(newBox))\n",
    "                        detections_pd.at[ind, 'opt_flow'] = detections_pd.at[ind, 'opt_flow'] + 1\n",
    "\n",
    "\n",
    "    # Drop detections no longer exist\n",
    "    detections_pd = detections_pd[detections_pd['updated'] == True]\n",
    "                \n",
    "    # Start tracking new detections\n",
    "    counter = 0\n",
    "    if any(next_detections_pd['updated'] == False):\n",
    "        new_pd = next_detections_pd[next_detections_pd['updated'] == False]\n",
    "        new_pd = new_pd.reset_index(drop=True)\n",
    "        \n",
    "        # Generate new track number      \n",
    "        for i in range(len(new_pd)):\n",
    "            while counter in detections_pd['track'].tolist():\n",
    "                counter = counter + 1\n",
    "            new_pd.at[i, 'track'] = counter\n",
    "            counter = counter + 1\n",
    "\n",
    "        # Add new tracks\n",
    "        detections_pd = pd.concat([detections_pd, new_pd])\n",
    "            \n",
    "    detections_pd = detections_pd.reset_index(drop=True)\n",
    "    return detections_pd"
   ]
  },
  {
   "cell_type": "code",
   "execution_count": 19,
   "metadata": {},
   "outputs": [
    {
     "name": "stderr",
     "output_type": "stream",
     "text": [
      "100%|██████████| 2139/2139 [03:50<00:00,  9.29it/s]\n"
     ]
    }
   ],
   "source": [
    "ims = []\n",
    "detection_history = []\n",
    "gif = False\n",
    "\n",
    "# if gif:\n",
    "#     fig, ax = plt.subplots()\n",
    "#     plt.axis('off')\n",
    "\n",
    "# Get the first frame\n",
    "detections_pd = get_detection_dataframe(all_detections['0'])\n",
    "\n",
    "# Pre-process the first frame if needed\n",
    "detections_pd = remove_overlaps(detections_pd, 0.9)\n",
    "detection_history.append(detections_pd)\n",
    "\n",
    "_, past_frame = vidcap.read()\n",
    "\n",
    "for frame in tqdm(range(1,num_frames-1)):\n",
    "    _, image = vidcap.read()\n",
    "    \n",
    "    next_detections_pd = get_detection_dataframe(all_detections[str(frame)])\n",
    "    next_detections_pd = remove_overlaps(next_detections_pd, 0.9)\n",
    "    \n",
    "    detections_pd = update_track2(detections_pd, next_detections_pd, tolerance=0.5, imgs=[past_frame, image])\n",
    "    detection_history.append(detections_pd)\n",
    "    past_frame = image\n",
    "\n",
    "    # if gif:\n",
    "    #     for index, row in detections_pd.iterrows():\n",
    "    #         image = drawTrackingOnImage(image, row['bbox'], track=row['track'], line=row['line'],colour=row['colour'])\n",
    "    #     im = ax.imshow(image, animated=True)\n",
    "    #     ims.append([im])\n",
    "\n",
    "# if gif:\n",
    "#     ani = animation.ArtistAnimation(fig, ims, interval=10, blit=True, repeat_delay=10000)\n",
    "#     ani.save('all_detects' + \".gif\", writer=animation.PillowWriter(fps=24))\n",
    "    \n",
    "pkl.dump(detection_history, open('tracking_history.pkl', 'wb'))"
   ]
  },
  {
   "cell_type": "markdown",
   "metadata": {},
   "source": [
    "## Kalman filter approach"
   ]
  },
  {
   "cell_type": "code",
   "execution_count": 5,
   "metadata": {},
   "outputs": [
    {
     "name": "stderr",
     "output_type": "stream",
     "text": [
      "Tracking objects each frame...: 100%|██████████| 2141/2141 [00:22<00:00, 95.27it/s] \n"
     ]
    }
   ],
   "source": [
    "# # Create Kalman tracker\n",
    "# mot_tracker = Sort(max_age=10, min_hits=3, iou_threshold=0.3) # Sort Kalman tracker with default values\n",
    "\n",
    "# results = {}\n",
    "\n",
    "# # Iterate through frames\n",
    "# for frame in tqdm(range(num_frames), desc = \"Tracking objects each frame...\"):\n",
    "#     dets = []\n",
    "\n",
    "#     _, im = vidcap.read() # Read frame\n",
    "#     detections = get_detection_dataframe(all_detections[str(frame)], iclLineAndUpdate = False).sort_values(\"track\") # Load detections\n",
    "\n",
    "#     # Iterate through frame's detections\n",
    "#     for (track_id, det, bbox, size, colour) in detections.itertuples(index=False):\n",
    "#         dets.append(np.array(bbox))\n",
    "\n",
    "#     trackers = mot_tracker.update(np.array(dets)) # Update tracker with current detections\n",
    "\n",
    "#     for d in trackers: # Store new bboxes\n",
    "#         d = d.astype(np.int32)\n",
    "#         if frame not in results:\n",
    "#             results[frame] = {d[4] % 47: {\"bbox\": [d[0], d[1], d[2], d[3]]}}\n",
    "#         else:\n",
    "#             results[frame][d[4] % 47] = {\"bbox\": [d[0], d[1], d[2], d[3]]}\n",
    "\n",
    "# # Save Results to Disk\n",
    "# pkl.dump(results, open(\"sort_bbox.pkl\", \"wb\"))"
   ]
  },
  {
   "cell_type": "code",
   "execution_count": 6,
   "metadata": {},
   "outputs": [],
   "source": [
    "# # Pkl to pd.DataFrame\n",
    "# colours = np.random.rand(47, 3) #Generate Random Colors\n",
    "# old_pkl = pkl.load(open(\"sort_bbox.pkl\", \"rb\"))\n",
    "# new_pkl = []\n",
    "# df = None\n",
    "\n",
    "# for frame in old_pkl.keys():\n",
    "#     new_data = {\"frame\": [],\"track\": [], \"bbox\": [], \"colour\": [], \"size\": [], \"detection\": []}\n",
    "#     old_data = old_pkl[frame]\n",
    "    \n",
    "#     for track_id in old_data.keys():\n",
    "#         new_data[\"track\"].append(track_id)\n",
    "#         bbox = old_data[track_id][\"bbox\"]\n",
    "#         new_data[\"bbox\"].append(bbox)\n",
    "#         new_data[\"frame\"].append(\"Frame {}\".format(frame))\n",
    "#         new_data[\"colour\"].append(np.round(colours[track_id]*255).astype(np.uint8))\n",
    "#         new_data[\"size\"].append(int(np.abs(bbox[0] - bbox[2]) * np.abs(bbox[1] - bbox[3])))\n",
    "#         new_data[\"detection\"].append(VehicleDetection(frame=frame, ID=track_id, width=np.abs(bbox[0] - bbox[2]), conf=0.5,\n",
    "#                                                       height=np.abs(bbox[1] - bbox[3]), left=bbox[0], right=bbox[2], top=bbox[1], bot=bbox[3]))\n",
    "    \n",
    "#     df = pd.DataFrame.from_dict(new_data).sort_values(by=\"track\")\n",
    "\n",
    "#     new_pkl.append(df)\n",
    "\n",
    "# pkl.dump(new_pkl, open(\"kalman_tracking.pkl\", \"wb\"))"
   ]
  },
  {
   "cell_type": "markdown",
   "metadata": {},
   "source": [
    "## Evaluation"
   ]
  },
  {
   "cell_type": "code",
   "execution_count": 6,
   "metadata": {},
   "outputs": [],
   "source": [
    "total_frames = 2141\n",
    "initial_frame = 535"
   ]
  },
  {
   "cell_type": "code",
   "execution_count": 7,
   "metadata": {},
   "outputs": [],
   "source": [
    "detections = {}\n",
    "with open('tracking_history3.pkl','rb') as openFile:\n",
    "    detections = pkl.load(openFile)"
   ]
  },
  {
   "cell_type": "code",
   "execution_count": 9,
   "metadata": {},
   "outputs": [
    {
     "name": "stderr",
     "output_type": "stream",
     "text": [
      "100%|██████████| 1605/1605 [01:10<00:00, 22.87it/s]\n"
     ]
    },
    {
     "name": "stdout",
     "output_type": "stream",
     "text": [
      "     num_frames  precision    recall      idp       idr      idf1\n",
      "acc        1605    0.77134  0.999317  0.77134  0.999317  0.870652\n"
     ]
    }
   ],
   "source": [
    "acc = create_accumulator()\n",
    "\n",
    "for frame in tqdm(range(initial_frame, total_frames-1)):\n",
    "    acc, frame_id = tracking_acc(frame, gt_detect, detection_history, acc)\n",
    "\n",
    "display_metrics(acc)"
   ]
  },
  {
   "cell_type": "code",
   "execution_count": 12,
   "metadata": {},
   "outputs": [],
   "source": [
    "# detectionsK = {}\n",
    "# with open('kalman_tracking.pkl','rb') as openFile:\n",
    "#     detectionsK = pkl.load(openFile)"
   ]
  },
  {
   "cell_type": "code",
   "execution_count": 13,
   "metadata": {},
   "outputs": [
    {
     "name": "stderr",
     "output_type": "stream",
     "text": [
      "100%|██████████| 1605/1605 [01:07<00:00, 23.87it/s]\n"
     ]
    },
    {
     "name": "stdout",
     "output_type": "stream",
     "text": [
      "     num_frames  precision    recall       idp       idr      idf1\n",
      "acc        1605   0.729659  0.999503  0.634604  0.869295  0.733637\n"
     ]
    }
   ],
   "source": [
    "# total_frames = 2141\n",
    "# initial_frame = 535\n",
    "\n",
    "# accK = create_accumulator()\n",
    "\n",
    "# for frame in tqdm(range(initial_frame, total_frames-1)):\n",
    "#     accK, frame_id = tracking_acc(frame, gt_detect, detectionsK, accK)\n",
    "\n",
    "# display_metrics(accK)"
   ]
  }
 ],
 "metadata": {
  "interpreter": {
   "hash": "2bc29f060ed23a123f6d9ca4fac8af0775aca92f5b2f5a596f9ae7b118c743e6"
  },
  "kernelspec": {
   "display_name": "Python 3.8.12 ('Torch')",
   "language": "python",
   "name": "python3"
  },
  "language_info": {
   "codemirror_mode": {
    "name": "ipython",
    "version": 3
   },
   "file_extension": ".py",
   "mimetype": "text/x-python",
   "name": "python",
   "nbconvert_exporter": "python",
   "pygments_lexer": "ipython3",
   "version": "3.8.12"
  },
  "orig_nbformat": 4
 },
 "nbformat": 4,
 "nbformat_minor": 2
}
