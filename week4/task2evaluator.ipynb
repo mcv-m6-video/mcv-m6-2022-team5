{
 "cells": [
  {
   "cell_type": "code",
   "execution_count": 13,
   "metadata": {},
   "outputs": [],
   "source": [
    "import cv2\n",
    "import numpy as np\n",
    "import pandas as pd\n",
    "import pickle as pkl\n",
    "import imageio\n",
    "from matplotlib import pyplot as plt\n",
    "from optical_flow import *\n",
    "from tqdm import tqdm\n",
    "from tracking_utils import *\n",
    "import matplotlib.animation as animation\n",
    "import pickle as pkl\n",
    "from load_utils import *\n",
    "from eval_utils import *\n",
    "from sort import *\n",
    "from VehicleDetection import *"
   ]
  },
  {
   "cell_type": "code",
   "execution_count": 14,
   "metadata": {},
   "outputs": [],
   "source": [
    "# SELECT SEQUENCE TO EVALUATE\n",
    "S = 'seq3'\n",
    "\n",
    "# SELECT CAMERA TO EVALUATE\n",
    "C = 'c10'\n",
    "\n",
    "# SET NUMBER OF FRAMES\n",
    "num_frames = 2141"
   ]
  },
  {
   "cell_type": "code",
   "execution_count": 15,
   "metadata": {},
   "outputs": [],
   "source": [
    "# Load GT detections\n",
    "gt_detect_path = f'./cam_pred/{S}_{C}_gt.pkl'\n",
    "\n",
    "# Load computed detections\n",
    "detection_path = f'./cam_pred/{S}_{C}.pkl'\n",
    "\n",
    "with open(detection_path, 'rb') as f:\n",
    "    all_detections = pkl.load(f)\n",
    "\n",
    "with open(gt_detect_path, 'rb') as f:\n",
    "    all_gt_detections = pkl.load(f)\n"
   ]
  },
  {
   "cell_type": "code",
   "execution_count": 16,
   "metadata": {},
   "outputs": [
    {
     "name": "stderr",
     "output_type": "stream",
     "text": [
      "Tracking objects each frame...: 100%|██████████| 2141/2141 [00:13<00:00, 162.69it/s]\n"
     ]
    }
   ],
   "source": [
    "# Load video frames\n",
    "results = {}\n",
    "\n",
    "mot_tracker = Sort(max_age=10, min_hits=3, iou_threshold=0.3) # Sort Kalman tracker with default values\n",
    "\n",
    "# Iterate Frames\n",
    "for frame in tqdm(range(num_frames), desc = \"Tracking objects each frame...\"):\n",
    "    dets = []\n",
    "\n",
    "    detections = get_detection_dataframe(all_detections[str(frame)], iclLineAndUpdate = False, firstFrame = True).sort_values(\"track\") # Load detections\n",
    "\n",
    "    for (track_id, det, bbox, size, colour) in detections.itertuples(index=False): # Iter All Detections\n",
    "        dets.append(np.array(bbox))\n",
    "\n",
    "\n",
    "    trackers = mot_tracker.update(np.array(dets)) # Update tracker with current detections\n",
    "\n",
    "\n",
    "    for d in trackers: # Store new bboxes\n",
    "        d = d.astype(np.int32)\n",
    "        if frame not in results:\n",
    "            results[frame] = {d[4] % 47: {\"bbox\": [d[0], d[1], d[2], d[3]]}}\n",
    "        else:\n",
    "            results[frame][d[4] % 47] = {\"bbox\": [d[0], d[1], d[2], d[3]]}\n",
    "\n",
    "            \n",
    "# Save Results to Disk\n",
    "pkl.dump(results, open(f\"sort_bbox_{S}_{C}.pkl\", \"wb\"))"
   ]
  },
  {
   "cell_type": "code",
   "execution_count": 17,
   "metadata": {},
   "outputs": [],
   "source": [
    "# Pkl to pd.DataFrame\n",
    "colours = np.random.rand(47, 3) #Generate Random Colors\n",
    "old_pkl = pkl.load(open(f\"sort_bbox_{S}_{C}.pkl\", \"rb\"))\n",
    "new_pkl = []\n",
    "df = None\n",
    "\n",
    "for frame in old_pkl.keys():\n",
    "    new_data = {\"frame\": [],\"track\": [], \"bbox\": [], \"colour\": [], \"size\": [], \"detection\": []}\n",
    "    old_data = old_pkl[frame]\n",
    "    \n",
    "    for track_id in old_data.keys():\n",
    "        new_data[\"track\"].append(track_id)\n",
    "        bbox = old_data[track_id][\"bbox\"]\n",
    "        new_data[\"bbox\"].append(bbox)\n",
    "        new_data[\"frame\"].append(\"Frame {}\".format(frame))\n",
    "        new_data[\"colour\"].append(np.round(colours[track_id]*255).astype(np.uint8))\n",
    "        new_data[\"size\"].append(int(np.abs(bbox[0] - bbox[2]) * np.abs(bbox[1] - bbox[3])))\n",
    "        new_data[\"detection\"].append(VehicleDetection(frame=frame, ID=track_id, width=np.abs(bbox[0] - bbox[2]), conf=0.5,\n",
    "                                                      height=np.abs(bbox[1] - bbox[3]), left=bbox[0], right=bbox[2], top=bbox[1], bot=bbox[3]))\n",
    "    \n",
    "    df = pd.DataFrame.from_dict(new_data).sort_values(by=\"track\")\n",
    "\n",
    "    new_pkl.append(df)\n",
    "\n",
    "pkl.dump(new_pkl, open(f\"kalman_tracking_{S}_{C}.pkl\", \"wb\"))"
   ]
  },
  {
   "cell_type": "code",
   "execution_count": 202,
   "metadata": {},
   "outputs": [],
   "source": [
    "detections = {}\n",
    "with open(f'kalman_tracking_{S}_{C}.pkl','rb') as openFile:\n",
    "    detections = pkl.load(openFile)"
   ]
  },
  {
   "cell_type": "markdown",
   "metadata": {},
   "source": [
    "## Evaluation"
   ]
  },
  {
   "cell_type": "code",
   "execution_count": 203,
   "metadata": {},
   "outputs": [],
   "source": [
    "total_frames = num_frames\n",
    "initial_frame = 1"
   ]
  },
  {
   "cell_type": "code",
   "execution_count": 204,
   "metadata": {},
   "outputs": [],
   "source": [
    "i = initial_frame\n",
    "\n",
    "while i < total_frames:\n",
    "    detections[i]['parked'] = False\n",
    "    for index_prev, previous_detection in detections[i-1].iterrows():\n",
    "        length, _ = detections[i].shape\n",
    "        for j in range(length):\n",
    "            IoU = previous_detection['detection'].IoU(detections[i].iloc[j]['detection'])\n",
    "            if IoU > 0.95:\n",
    "                detections[i].at[j, 'parked'] = True\n",
    "    i += 1"
   ]
  },
  {
   "cell_type": "code",
   "execution_count": 201,
   "metadata": {},
   "outputs": [
    {
     "name": "stderr",
     "output_type": "stream",
     "text": [
      "100%|██████████| 2139/2139 [00:15<00:00, 139.34it/s]"
     ]
    },
    {
     "name": "stdout",
     "output_type": "stream",
     "text": [
      "seq3 c10 results:\n",
      "     num_frames  precision    recall       idp      idr      idf1\n",
      "acc        1355   0.367835  0.944984  0.184548  0.47411  0.265679\n"
     ]
    },
    {
     "name": "stderr",
     "output_type": "stream",
     "text": [
      "\n"
     ]
    }
   ],
   "source": [
    "acc = create_accumulator()\n",
    "\n",
    "# detections = detections[detections['parked'] == False]\n",
    "\n",
    "for frame in tqdm(range(initial_frame, total_frames-1)):\n",
    "    detections[frame] = detections[frame][detections[frame]['parked'] == False]\n",
    "    if str(frame) in all_gt_detections:\n",
    "        acc, frame_id = tracking_acc(frame, all_gt_detections, detections, acc)\n",
    "\n",
    "print(f'{S} {C} results:')\n",
    "display_metrics(acc)"
   ]
  }
 ],
 "metadata": {
  "interpreter": {
   "hash": "2bc29f060ed23a123f6d9ca4fac8af0775aca92f5b2f5a596f9ae7b118c743e6"
  },
  "kernelspec": {
   "display_name": "Python 3.8.12 ('Torch')",
   "language": "python",
   "name": "python3"
  },
  "language_info": {
   "codemirror_mode": {
    "name": "ipython",
    "version": 3
   },
   "file_extension": ".py",
   "mimetype": "text/x-python",
   "name": "python",
   "nbconvert_exporter": "python",
   "pygments_lexer": "ipython3",
   "version": "3.9.7"
  },
  "orig_nbformat": 4
 },
 "nbformat": 4,
 "nbformat_minor": 2
}
