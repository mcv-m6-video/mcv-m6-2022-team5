{
 "cells": [
  {
   "cell_type": "code",
   "execution_count": 20,
   "metadata": {},
   "outputs": [],
   "source": [
    "\n",
    "from VehicleDetection import VehicleDetection\n",
    "import os\n",
    "import cv2\n",
    "import numpy as np\n",
    "import matplotlib.pyplot as plt\n",
    "import random\n",
    "import copy\n",
    "import statistics\n",
    "from eval_utils import *\n",
    "from video_utils import *\n",
    "from load_utils import *\n",
    "from background_remover import *\n",
    "\n",
    "data_path = '../../AICity_data/train/S03/c010/'"
   ]
  },
  {
   "cell_type": "code",
   "execution_count": 21,
   "metadata": {},
   "outputs": [
    {
     "name": "stderr",
     "output_type": "stream",
     "text": [
      "100%|██████████| 513/513 [00:08<00:00, 57.64it/s]\n"
     ]
    }
   ],
   "source": [
    "means, stds = get_background_stats(data_path + 'vdo.avi', 1, 534) # 514 is the 25% of the frames"
   ]
  },
  {
   "cell_type": "code",
   "execution_count": 22,
   "metadata": {},
   "outputs": [],
   "source": [
    "gt_detect = readDetectionsXML('ai_challenge_s03_c010-full_annotation.xml')"
   ]
  },
  {
   "cell_type": "code",
   "execution_count": 23,
   "metadata": {},
   "outputs": [],
   "source": [
    "def remove_background_adaptative2(means, stds, videoPath, alpha=4, sigma=2, p=0.1):\n",
    "    vidcap = cv2.VideoCapture(videoPath)\n",
    "    num_frames = int(vidcap.get(cv2.CAP_PROP_FRAME_COUNT))\n",
    "    detections = {}\n",
    "    for frame in tqdm(range(num_frames)):\n",
    "        _, image = vidcap.read()\n",
    "        if frame >= num_frames // 4:\n",
    "            img_gray = cv2.cvtColor(image, cv2.COLOR_BGR2GRAY)\n",
    "            img_mask = np.zeros(img_gray.shape)\n",
    "            img_mask[abs(img_gray - means) >= alpha * (stds + sigma)] = 255\n",
    "\n",
    "            cleaned = cleanMask(img_mask, 7)\n",
    "            cv2.imwrite(f'./masks_adaptative/mask_{frame}.png', cleaned)\n",
    "\n",
    "            #update mean and std\n",
    "            idxs = cleaned == 0\n",
    "            means[idxs] = p * img_gray[idxs] + (1 - p) * means[idxs]\n",
    "            stds[idxs] = np.sqrt(p * (img_gray[idxs] - means[idxs])**2 + (1 - p) * stds[idxs]**2)\n",
    "\n",
    "            detections[str(frame)] = getBoxesFromMask(cleaned)\n",
    "\n",
    "    return detections"
   ]
  },
  {
   "cell_type": "code",
   "execution_count": 15,
   "metadata": {},
   "outputs": [
    {
     "name": "stdout",
     "output_type": "stream",
     "text": [
      "0.0 42.98780713802363\n"
     ]
    }
   ],
   "source": [
    "print(np.min(stds),np.max(stds))"
   ]
  },
  {
   "cell_type": "code",
   "execution_count": 24,
   "metadata": {},
   "outputs": [
    {
     "name": "stderr",
     "output_type": "stream",
     "text": [
      " 77%|███████▋  | 1640/2141 [03:11<01:25,  5.87it/s]"
     ]
    }
   ],
   "source": [
    "singleGaussianDetections = remove_background_adaptative2(means,stds, data_path + 'vdo.avi',4,2,0.07)"
   ]
  },
  {
   "cell_type": "code",
   "execution_count": 11,
   "metadata": {},
   "outputs": [
    {
     "data": {
      "image/png": "[encoded data removed]",
      "text/plain": [
       "<Figure size 432x288 with 1 Axes>"
      ]
     },
     "metadata": {
      "needs_background": "light"
     },
     "output_type": "display_data"
    }
   ],
   "source": [
    "recs, precs, aps = ap_wo_conf(gt_detect,singleGaussianDetections)\n",
    "plot_prec_recall_curve(np.mean(precs, axis=0), recs[0], f'Precision-Recall curve for Adatative Gaussian - AP {np.mean(aps)}')"
   ]
  }
 ],
 "metadata": {
  "interpreter": {
   "hash": "2bc29f060ed23a123f6d9ca4fac8af0775aca92f5b2f5a596f9ae7b118c743e6"
  },
  "kernelspec": {
   "display_name": "Python 3.8.12 ('Torch')",
   "language": "python",
   "name": "python3"
  },
  "language_info": {
   "codemirror_mode": {
    "name": "ipython",
    "version": 3
   },
   "file_extension": ".py",
   "mimetype": "text/x-python",
   "name": "python",
   "nbconvert_exporter": "python",
   "pygments_lexer": "ipython3",
   "version": "3.8.12"
  },
  "orig_nbformat": 4
 },
 "nbformat": 4,
 "nbformat_minor": 2
}
