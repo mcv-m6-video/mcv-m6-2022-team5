{
 "cells": [
  {
   "cell_type": "code",
   "execution_count": 1,
   "id": "2ff7f11e",
   "metadata": {},
   "outputs": [],
   "source": [
    "data_path = '../datasets/AICity_data/train/S03/c010/'"
   ]
  },
  {
   "cell_type": "code",
   "execution_count": 2,
   "id": "38e64a32",
   "metadata": {},
   "outputs": [],
   "source": [
    "import cv2\n",
    "import numpy as np\n",
    "from matplotlib import pyplot as plt\n",
    "import matplotlib.animation as animation\n",
    "from tqdm import tqdm\n",
    "from PIL import Image\n",
    "from eval_utils import *\n",
    "from video_utils import *\n",
    "from load_utils import *\n",
    "from background_remover import *\n",
    "from lobster import Subsense"
   ]
  },
  {
   "cell_type": "code",
   "execution_count": 3,
   "id": "268fcaa0",
   "metadata": {},
   "outputs": [],
   "source": [
    "def mIoU_calc(IoU):\n",
    "    mIoU = 0\n",
    "    mIoUPerFrame = []\n",
    "    count = 0\n",
    "    for fr, values in IoU.items():\n",
    "        mIoU += np.sum(values)\n",
    "        count += len(values)\n",
    "        mIoUPerFrame.append(np.mean(values))\n",
    "    mIoU /= count\n",
    "    \n",
    "    return mIoU"
   ]
  },
  {
   "cell_type": "code",
   "execution_count": 4,
   "id": "3807d0a0",
   "metadata": {},
   "outputs": [],
   "source": [
    "def drawRectangleOnImage(img, boxes, color=(0, 255, 0)):\n",
    "    for box in boxes:\n",
    "        img = cv2.rectangle(img, (box[0], box[1]), (box[2], box[3]), color, 3)\n",
    "    return img"
   ]
  },
  {
   "cell_type": "code",
   "execution_count": 5,
   "id": "dfb269bc",
   "metadata": {},
   "outputs": [],
   "source": [
    "def getBoxesFromMaskV2(mask):\n",
    "    output = cv2.connectedComponentsWithStats(np.uint8(mask), 8, cv2.CV_32S)\n",
    "    (numLabels, labels, boxes, centroids) = output\n",
    "    detectedElems = []\n",
    "    for box in boxes[1:]: #First box is always the background\n",
    "        if box[4] > 500: #Try to do a better estimation of the minimunm size\n",
    "            b = [box[0], box[1], box[2], box[3]]\n",
    "            detectedElems.append(b)\n",
    "\n",
    "    return detectedElems"
   ]
  },
  {
   "cell_type": "code",
   "execution_count": 6,
   "id": "ae5fd7c2",
   "metadata": {},
   "outputs": [],
   "source": [
    "#############TEST################\n",
    "# cap = cv2.VideoCapture(data_path + 'vdo.avi')\n",
    "  \n",
    "# # initializing subtractor \n",
    "# fgbg = cv2.bgsegm.createBackgroundSubtractorMOG() \n",
    "  \n",
    "# while(1):\n",
    "#     ret, frame = cap.read()       \n",
    "  \n",
    "#     # applying on each frame\n",
    "#     fgmask = fgbg.apply(frame)\n",
    "#     fgmask = cleanMask(fgmask, 5)\n",
    "#     boxes = getBoxesFromMaskV2(fgmask)\n",
    "#     fgmask = drawRectangleOnImage(fgmask, boxes)\n",
    "  \n",
    "#     cv2.imshow('frame', fgmask)\n",
    "#     k = cv2.waitKey(10) & 0xff\n",
    "#     if k == 27:\n",
    "#         break\n",
    "  \n",
    "# cap.release()\n",
    "# cv2.destroyAllWindows()"
   ]
  },
  {
   "cell_type": "code",
   "execution_count": 7,
   "id": "18c21b22",
   "metadata": {},
   "outputs": [],
   "source": [
    "def generate_gif(videoPath, fgbg, videoName='MOG2'):\n",
    "    fig, ax = plt.subplots()\n",
    "    plt.axis('off')\n",
    "    \n",
    "    vidcap = cv2.VideoCapture(videoPath)\n",
    "#     _, image = vidcap.read()\n",
    "    ims = []\n",
    "    num_frames = int(vidcap.get(cv2.CAP_PROP_FRAME_COUNT))\n",
    "#     num_frames = 400\n",
    "\n",
    "    for frame in tqdm(range(1,num_frames//4)):\n",
    "        for i in range(4):\n",
    "            _, image = vidcap.read()\n",
    "        fgmask = fgbg.apply(image)\n",
    "        fgmask = cleanMask(fgmask, 5)\n",
    "        \n",
    "        im = ax.imshow(fgmask, animated=True)\n",
    "        ims.append([im])\n",
    "    # break\n",
    "\n",
    "    ani = animation.ArtistAnimation(fig, ims, interval=10, blit=True, repeat_delay=10000)\n",
    "    ani.save(videoName + \".gif\", writer=animation.PillowWriter(fps=24))"
   ]
  },
  {
   "cell_type": "code",
   "execution_count": 8,
   "id": "387ce7e1",
   "metadata": {},
   "outputs": [],
   "source": [
    "# fgbg = cv2.bgsegm.createBackgroundSubtractorMOG() "
   ]
  },
  {
   "cell_type": "code",
   "execution_count": 9,
   "id": "aa35752c",
   "metadata": {},
   "outputs": [],
   "source": [
    "# fgbg = cv2.createBackgroundSubtractorMOG2()"
   ]
  },
  {
   "cell_type": "code",
   "execution_count": 10,
   "id": "0b59b5b7",
   "metadata": {},
   "outputs": [
    {
     "ename": "OSError",
     "evalue": "no file with expected extension",
     "output_type": "error",
     "traceback": [
      "\u001b[0;31m---------------------------------------------------------------------------\u001b[0m",
      "\u001b[0;31mOSError\u001b[0m                                   Traceback (most recent call last)",
      "\u001b[0;32m<ipython-input-10-49aaef91049a>\u001b[0m in \u001b[0;36m<module>\u001b[0;34m\u001b[0m\n\u001b[0;32m----> 1\u001b[0;31m \u001b[0mfgbg\u001b[0m \u001b[0;34m=\u001b[0m \u001b[0mSubsense\u001b[0m\u001b[0;34m(\u001b[0m\u001b[0;34m)\u001b[0m\u001b[0;34m\u001b[0m\u001b[0;34m\u001b[0m\u001b[0m\n\u001b[0m",
      "\u001b[0;32m~/Desktop/Computer Vision/M6/mcv-m6-2022-team5/week2/lobster.py\u001b[0m in \u001b[0;36m__init__\u001b[0;34m(self, lbsp_thresh, desc_dist_thresh_offset, min_color_dist_thresh, num_bg_samples, num_req_bg_samples, num_samples_for_moving_avg)\u001b[0m\n\u001b[1;32m     27\u001b[0m                         \u001b[0mnum_req_bg_samples\u001b[0m\u001b[0;34m,\u001b[0m\u001b[0;34m\u001b[0m\u001b[0;34m\u001b[0m\u001b[0m\n\u001b[1;32m     28\u001b[0m                         num_samples_for_moving_avg)\n\u001b[0;32m---> 29\u001b[0;31m         \u001b[0mself\u001b[0m\u001b[0;34m.\u001b[0m\u001b[0mlib_subsense\u001b[0m \u001b[0;34m=\u001b[0m \u001b[0mnp\u001b[0m\u001b[0;34m.\u001b[0m\u001b[0mctypeslib\u001b[0m\u001b[0;34m.\u001b[0m\u001b[0mload_library\u001b[0m\u001b[0;34m(\u001b[0m\u001b[0mLIB_NAME\u001b[0m\u001b[0;34m,\u001b[0m \u001b[0mLIB_PATH\u001b[0m\u001b[0;34m)\u001b[0m\u001b[0;34m\u001b[0m\u001b[0;34m\u001b[0m\u001b[0m\n\u001b[0m\u001b[1;32m     30\u001b[0m \u001b[0;34m\u001b[0m\u001b[0m\n\u001b[1;32m     31\u001b[0m         \u001b[0;31m# API: ss_create\u001b[0m\u001b[0;34m\u001b[0m\u001b[0;34m\u001b[0m\u001b[0;34m\u001b[0m\u001b[0m\n",
      "\u001b[0;32m~/Library/Python/3.8/lib/python/site-packages/numpy/ctypeslib.py\u001b[0m in \u001b[0;36mload_library\u001b[0;34m(libname, loader_path)\u001b[0m\n\u001b[1;32m    161\u001b[0m                     \u001b[0;32mraise\u001b[0m\u001b[0;34m\u001b[0m\u001b[0;34m\u001b[0m\u001b[0m\n\u001b[1;32m    162\u001b[0m         \u001b[0;31m## if no successful return in the libname_ext loop:\u001b[0m\u001b[0;34m\u001b[0m\u001b[0;34m\u001b[0m\u001b[0;34m\u001b[0m\u001b[0m\n\u001b[0;32m--> 163\u001b[0;31m         \u001b[0;32mraise\u001b[0m \u001b[0mOSError\u001b[0m\u001b[0;34m(\u001b[0m\u001b[0;34m\"no file with expected extension\"\u001b[0m\u001b[0;34m)\u001b[0m\u001b[0;34m\u001b[0m\u001b[0;34m\u001b[0m\u001b[0m\n\u001b[0m\u001b[1;32m    164\u001b[0m \u001b[0;34m\u001b[0m\u001b[0m\n\u001b[1;32m    165\u001b[0m \u001b[0;34m\u001b[0m\u001b[0m\n",
      "\u001b[0;31mOSError\u001b[0m: no file with expected extension"
     ]
    }
   ],
   "source": [
    "# fgbg = Subsense()"
   ]
  },
  {
   "cell_type": "code",
   "execution_count": null,
   "id": "f711b11d",
   "metadata": {},
   "outputs": [],
   "source": [
    "generate_gif(data_path + 'vdo.avi', fgbg, 'test')"
   ]
  },
  {
   "cell_type": "code",
   "execution_count": null,
   "id": "87462d0c",
   "metadata": {},
   "outputs": [],
   "source": [
    "print(f'mIoU: {mIoU_calc(IoU)}')\n",
    "\n",
    "#Calculating AP:\n",
    "print(f'mAP: {ap}')\n",
    "\n",
    "plot_prec_recall_curve(prec, rec, 'Precision-Recall curve for noised detections')"
   ]
  },
  {
   "cell_type": "code",
   "execution_count": null,
   "id": "5b9b0e95",
   "metadata": {},
   "outputs": [],
   "source": [
    "# gt_detect = readDetections(data_path + 'gt/gt.txt')\n",
    "gt_detect = readDetectionsXML('ai_challenge_s03_c010-full_annotation.xml')"
   ]
  }
 ],
 "metadata": {
  "kernelspec": {
   "display_name": "PyCharm (mcv-m6-2022-team5)",
   "language": "python",
   "name": "pycharm-a52a2c2f"
  },
  "language_info": {
   "codemirror_mode": {
    "name": "ipython",
    "version": 3
   },
   "file_extension": ".py",
   "mimetype": "text/x-python",
   "name": "python",
   "nbconvert_exporter": "python",
   "pygments_lexer": "ipython3",
   "version": "3.8.5"
  }
 },
 "nbformat": 4,
 "nbformat_minor": 5
}
