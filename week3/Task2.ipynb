{
 "cells": [
  {
   "cell_type": "code",
   "execution_count": 1,
   "id": "70f735c1",
   "metadata": {},
   "outputs": [],
   "source": [
    "import time\n",
    "import cv2\n",
    "import pickle as pkl\n",
    "from matplotlib import pyplot as plt\n",
    "import numpy as np\n",
    "import pandas as pd\n",
    "from tqdm import tqdm\n",
    "from IPython import display as dp\n",
    "from collections import deque\n",
    "import matplotlib.animation as animation"
   ]
  },
  {
   "cell_type": "code",
   "execution_count": 2,
   "id": "e5c86160",
   "metadata": {},
   "outputs": [],
   "source": [
    "def drawTrackingOnImage(img, bbox, track=0, line=[], colour=(0, 255, 0)):\n",
    "    b, g, r = colour\n",
    "    img = cv2.rectangle(img, (bbox[0], bbox[1]), (bbox[2], bbox[3]), (int(b), int(g), int(r)), 3)\n",
    "    img = cv2.putText(img, str(track), (bbox[0], bbox[1] - 10),\n",
    "                                cv2.FONT_HERSHEY_SIMPLEX, 0.8, (int(b), int(g), int(r)), 3)\n",
    "    for i in range(1, len(line)):\n",
    "        img = cv2.line(img, line[i - 1], line[i], (int(b), int(g), int(r)), 3)\n",
    "    return img"
   ]
  },
  {
   "cell_type": "code",
   "execution_count": 3,
   "id": "2b2d8102",
   "metadata": {},
   "outputs": [],
   "source": [
    "def get_box_center(bbox):\n",
    "    center = (int(bbox[0]) + ((int(bbox[2]) - int(bbox[0])) // 2)), (int(bbox[1]) + ((int(bbox[3]) - int(bbox[1])) // 2)) # X + Width / 2, Y + Height / 2\n",
    "    return center"
   ]
  },
  {
   "cell_type": "code",
   "execution_count": 4,
   "id": "22cded39",
   "metadata": {},
   "outputs": [],
   "source": [
    "# Detection Pre-Processing \n",
    "\n",
    "# Remove overlaps in the same frame\n",
    "def remove_overlaps(detections_pd, tolerance=0.9):\n",
    "    row_to_remove = []\n",
    "    for detection in detections_pd.get('detection'):\n",
    "        length, _ =detections_pd.shape\n",
    "        for i in range(length):\n",
    "            IoU = detection.IoU(detections_pd.iloc[i]['detection'])\n",
    "            if IoU > tolerance and IoU < 1:\n",
    "                row_to_remove.append(i)\n",
    "                \n",
    "    row_to_remove = np.unique(np.array(row_to_remove))\n",
    "    detections_pd = detections_pd.drop(index=row_to_remove)\n",
    "        \n",
    "    return detections_pd"
   ]
  },
  {
   "cell_type": "code",
   "execution_count": 5,
   "id": "764faff9",
   "metadata": {},
   "outputs": [],
   "source": [
    "# Detection to DataFrame\n",
    "def get_detection_dataframe(detections):\n",
    "    bboxes = []\n",
    "    bsizes = []\n",
    "    lines = deque(maxlen=32)\n",
    "    bdetections = []\n",
    "    tracks = list(range(0, len(detections)))\n",
    "    colours = []\n",
    "    for i in range(len(detections)):\n",
    "        colours.append(tuple(np.random.choice(range(256), size=3).astype('int')))\n",
    "        \n",
    "    updated = [False]*len(detections)\n",
    "    \n",
    "    for detection in detections:\n",
    "        bbox = np.array(detection.getBBox()).astype('int')\n",
    "        bboxes.append(bbox)\n",
    "        \n",
    "        centers = []\n",
    "        centers.append(get_box_center(bbox))\n",
    "        lines.append(centers)\n",
    "\n",
    "        bsize = int(detection.areaOfRec())\n",
    "        bsizes.append(bsize)\n",
    "\n",
    "        bdetections.append(detection)\n",
    "\n",
    "    detec = {\n",
    "        'track': tracks,\n",
    "        'detection': bdetections,\n",
    "        'bbox': bboxes,\n",
    "        'size': bsizes,\n",
    "        'line': lines,\n",
    "        'colour': colours,\n",
    "        'updated': updated\n",
    "    }\n",
    "    detections_pd = pd.DataFrame(detec)\n",
    "    detections_pd = detections_pd.sort_values(by=['size'], ascending=False)\n",
    "    detections_pd = detections_pd.reset_index(drop=True)\n",
    "    \n",
    "    return detections_pd"
   ]
  },
  {
   "cell_type": "code",
   "execution_count": 6,
   "id": "53b0de11",
   "metadata": {},
   "outputs": [],
   "source": [
    "def update_track(detections_pd, next_detections_pd, tolerance=0.5):\n",
    "    detections_pd['updated'] = False\n",
    "    detections_pd = detections_pd.reset_index(drop=True)\n",
    "    \n",
    "    # Loop each new detection\n",
    "    for index, next_detection in next_detections_pd.iterrows():\n",
    "        length, _ = detections_pd.shape\n",
    "        \n",
    "        # Find overlaps with max IoU and update if found\n",
    "        IoUlist = []\n",
    "        for i in range(length):\n",
    "            IoU = next_detection['detection'].IoU(detections_pd.iloc[i]['detection'])\n",
    "            IoUlist.append(IoU)\n",
    "            \n",
    "        indexMax = IoUlist.index(max(IoUlist))\n",
    "            \n",
    "        if max(IoUlist) > 0.5 and detections_pd.at[indexMax,'updated'] != True:\n",
    "            detections_pd.at[indexMax,'detection'] = next_detection['detection']\n",
    "            detections_pd.at[indexMax,'bbox'] = next_detection['bbox']\n",
    "            detections_pd.at[indexMax,'size'] = next_detection['size']\n",
    "            detections_pd.at[indexMax,'line'].append(next_detection['line'][0])\n",
    "            detections_pd.at[indexMax,'updated'] = True\n",
    "            next_detections_pd.at[index, 'updated'] = True\n",
    "    \n",
    "    # Drop detections no longer exist\n",
    "    detections_pd = detections_pd[detections_pd['updated'] == True]\n",
    "                \n",
    "    # Start tracking new detections\n",
    "    counter = 0\n",
    "    if any(next_detections_pd['updated'] == False):\n",
    "        new_pd = next_detections_pd[next_detections_pd['updated']==False]\n",
    "        new_pd = new_pd.reset_index(drop=True)\n",
    "        \n",
    "        # Generate new track number      \n",
    "        for i in range(len(new_pd)):\n",
    "            while counter in detections_pd['track'].tolist():\n",
    "                counter = counter + 1\n",
    "            new_pd.at[i, 'track'] = counter\n",
    "            counter = counter + 1\n",
    "\n",
    "        # Add new tracks\n",
    "        detections_pd = pd.concat([detections_pd, new_pd])\n",
    "            \n",
    "    detections_pd = detections_pd.reset_index(drop=True)\n",
    "    return detections_pd"
   ]
  },
  {
   "cell_type": "code",
   "execution_count": 7,
   "id": "653eb779",
   "metadata": {},
   "outputs": [],
   "source": [
    "# Load paths\n",
    "# detection_path = 'detection_pkls/retinanet_101_detections.pkl'\n",
    "detection_path = 'detection_pkls/maskRCNN_101_detections.pkl'\n",
    "data_path = '../datasets/AICity_data/train/S03/c010/'\n",
    "\n",
    "# Load detections\n",
    "with open(detection_path , 'rb') as f:\n",
    "    all_detections = pkl.load(f)"
   ]
  },
  {
   "cell_type": "code",
   "execution_count": 8,
   "id": "79b2903c",
   "metadata": {},
   "outputs": [
    {
     "ename": "NameError",
     "evalue": "name 'detections_pd' is not defined",
     "output_type": "error",
     "traceback": [
      "\u001b[0;31m---------------------------------------------------------------------------\u001b[0m",
      "\u001b[0;31mNameError\u001b[0m                                 Traceback (most recent call last)",
      "Input \u001b[0;32mIn [8]\u001b[0m, in \u001b[0;36m<cell line: 2>\u001b[0;34m()\u001b[0m\n\u001b[1;32m      1\u001b[0m \u001b[38;5;66;03m# Pre-process the first frame if needed\u001b[39;00m\n\u001b[0;32m----> 2\u001b[0m detections_pd \u001b[38;5;241m=\u001b[39m remove_overlaps(\u001b[43mdetections_pd\u001b[49m, \u001b[38;5;241m0.4\u001b[39m)\n\u001b[1;32m      3\u001b[0m detections_pd\n",
      "\u001b[0;31mNameError\u001b[0m: name 'detections_pd' is not defined"
     ]
    }
   ],
   "source": []
  },
  {
   "cell_type": "code",
   "execution_count": null,
   "id": "56578be9",
   "metadata": {},
   "outputs": [],
   "source": [
    "display = True\n",
    "gif = False\n",
    "\n",
    "if gif:\n",
    "    fig, ax = plt.subplots()\n",
    "    plt.axis('off')\n",
    "\n",
    "ims = []\n",
    "detection_history = []\n",
    "\n",
    "# Get the First Frame\n",
    "detections_pd = get_detection_dataframe(all_detections['0'])\n",
    "\n",
    "# Pre-process the first frame if needed\n",
    "detections_pd = remove_overlaps(detections_pd, 0.4)\n",
    "detections_pd\n",
    "detection_history.append(detections_pd)\n",
    "\n",
    "# Load video\n",
    "vidcap = cv2.VideoCapture(data_path + 'vdo.avi')\n",
    "vidcap.set(1,500)\n",
    "_, image = vidcap.read()\n",
    "num_frames = int(vidcap.get(cv2.CAP_PROP_FRAME_COUNT))\n",
    "\n",
    "# Set plot\n",
    "if display:\n",
    "    plt.ion() \n",
    "    plt.figure(figsize=(20, 12))\n",
    "    plt.axis('off') \n",
    "\n",
    "# Iterate Frames\n",
    "# skip = 1\n",
    "# for frame in tqdm(range(1,num_frames//skip)):\n",
    "#     for i in range(skip):\n",
    "#         _, image = vidcap.read()\n",
    "#     frame = frame*skip\n",
    "\n",
    "for frame in tqdm(range(500,1200)):\n",
    "    _, image = vidcap.read()\n",
    "    \n",
    "    next_detections_pd = get_detection_dataframe(all_detections[str(frame)])\n",
    "    next_detections_pd = remove_overlaps(next_detections_pd =, 0.4)\n",
    "    detections_pd = update_track(detections_pd, next_detections_pd, tolerance=0.5)\n",
    "    detection_history.append(detections_pd)\n",
    "    \n",
    "    for index, row in detections_pd.iterrows():\n",
    "        image = drawTrackingOnImage(image, row['bbox'], track=row['track'], line=row['line'],colour=row['colour'])\n",
    "        \n",
    "    if display:\n",
    "        plt.title('Frame:'+str(frame))\n",
    "        plt.imshow(image)  \n",
    "    \n",
    "    if gif:\n",
    "        im = ax.imshow(image, animated=True)\n",
    "        ims.append([im])\n",
    "        \n",
    "    if display:\n",
    "        dp.clear_output(wait=True)\n",
    "        dp.display(plt.gcf())\n",
    "        time.sleep(0.000001)\n",
    "        plt.cla()\n",
    "\n",
    "if gif:\n",
    "    ani = animation.ArtistAnimation(fig, ims, interval=10, blit=True, repeat_delay=10000)\n",
    "    ani.save('Tracking_with_IoU_overlap_700frames' + \".gif\", writer=animation.PillowWriter(fps=24))\n",
    "    \n",
    "# Open a file and use dump()\n",
    "# with open('tracking_history/tracking_history.pkl', 'wb') as file:\n",
    "#     # A new file will be created\n",
    "#     pkl.dump(detection_history, file)"
   ]
  },
  {
   "cell_type": "markdown",
   "id": "ac9ba99a",
   "metadata": {},
   "source": [
    "# TEST"
   ]
  },
  {
   "cell_type": "code",
   "execution_count": null,
   "id": "0b612d30",
   "metadata": {},
   "outputs": [],
   "source": [
    "# with open('tracking_history/tracking_history.pkl', 'rb') as file:\n",
    "#     # Call load method to deserialze\n",
    "#     tracking_hist = pkl.load(file)"
   ]
  },
  {
   "cell_type": "code",
   "execution_count": null,
   "id": "5ba9cbaf",
   "metadata": {},
   "outputs": [],
   "source": [
    "# tracking_hist[100]"
   ]
  },
  {
   "cell_type": "code",
   "execution_count": null,
   "id": "6cf01a39",
   "metadata": {},
   "outputs": [],
   "source": [
    "# for index, row in detections_pd.iterrows():\n",
    "#     print(row['colour'])\n",
    "#     image = drawRectangleOnImage(image, row['bbox'], track=row['track'],colour=row['colour'])"
   ]
  },
  {
   "cell_type": "code",
   "execution_count": null,
   "id": "56923288",
   "metadata": {},
   "outputs": [],
   "source": [
    "# plt.figure(figsize=(20, 12))\n",
    "# plt.imshow(image)"
   ]
  },
  {
   "cell_type": "code",
   "execution_count": null,
   "id": "ffb41489",
   "metadata": {},
   "outputs": [],
   "source": [
    "#Test......\n",
    "# test_num = 396\n",
    "# detections_pd = get_detection_dataframe(all_detections[str(test_num)])\n",
    "# next_detections_pd = get_detection_dataframe(all_detections[str(test_num+1)])"
   ]
  },
  {
   "cell_type": "code",
   "execution_count": null,
   "id": "9ac95de8",
   "metadata": {},
   "outputs": [],
   "source": [
    "# detections_pd"
   ]
  },
  {
   "cell_type": "code",
   "execution_count": null,
   "id": "ad3026d6",
   "metadata": {},
   "outputs": [],
   "source": [
    "# next_detections_pd"
   ]
  },
  {
   "cell_type": "code",
   "execution_count": null,
   "id": "4a3805b7",
   "metadata": {},
   "outputs": [],
   "source": [
    "# detections_pd = update_track(detections_pd, next_detections_pd, tolerance=0.5)\n",
    "# detections_pd"
   ]
  },
  {
   "cell_type": "code",
   "execution_count": null,
   "id": "f96f8bfe",
   "metadata": {},
   "outputs": [],
   "source": [
    "# next_detections_pd"
   ]
  },
  {
   "cell_type": "code",
   "execution_count": null,
   "id": "66af54af",
   "metadata": {},
   "outputs": [],
   "source": []
  }
 ],
 "metadata": {
  "kernelspec": {
   "display_name": "Python 3 (ipykernel)",
   "language": "python",
   "name": "python3"
  },
  "language_info": {
   "codemirror_mode": {
    "name": "ipython",
    "version": 3
   },
   "file_extension": ".py",
   "mimetype": "text/x-python",
   "name": "python",
   "nbconvert_exporter": "python",
   "pygments_lexer": "ipython3",
   "version": "3.8.12"
  }
 },
 "nbformat": 4,
 "nbformat_minor": 5
}
