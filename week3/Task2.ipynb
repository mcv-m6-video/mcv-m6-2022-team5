{
 "cells": [
  {
   "cell_type": "code",
   "execution_count": 1,
   "id": "bd20abd2",
   "metadata": {},
   "outputs": [],
   "source": [
    "import time\n",
    "import cv2\n",
    "import pickle as pkl\n",
    "from matplotlib import pyplot as plt\n",
    "import numpy as np\n",
    "import pandas as pd\n",
    "from tqdm import tqdm\n",
    "from IPython import display as dp\n",
    "from collections import deque\n",
    "import matplotlib.animation as animation"
   ]
  },
  {
   "cell_type": "code",
   "execution_count": 2,
   "id": "875b2088",
   "metadata": {},
   "outputs": [],
   "source": [
    "def drawTrackingOnImage(img, bbox, track=0, line=[], colour=(0, 255, 0)):\n",
    "    b, g, r = colour\n",
    "    img = cv2.rectangle(img, (bbox[0], bbox[1]), (bbox[2], bbox[3]), (int(b), int(g), int(r)), 3)\n",
    "    img = cv2.putText(img, str(track), (bbox[0], bbox[1] - 10),\n",
    "                                cv2.FONT_HERSHEY_SIMPLEX, 0.8, (int(b), int(g), int(r)), 3)\n",
    "    for i in range(1, len(line)):\n",
    "        img = cv2.line(img, line[i - 1], line[i], (int(b), int(g), int(r)), 3)\n",
    "    return img"
   ]
  },
  {
   "cell_type": "code",
   "execution_count": 3,
   "id": "10d68ee3",
   "metadata": {},
   "outputs": [],
   "source": [
    "def get_box_center(bbox):\n",
    "    center = (int(bbox[0]) + ((int(bbox[2]) - int(bbox[0])) // 2)), (int(bbox[1]) + ((int(bbox[3]) - int(bbox[1])) // 2)) # X + Width / 2, Y + Height / 2\n",
    "    return center"
   ]
  },
  {
   "cell_type": "code",
   "execution_count": 4,
   "id": "e70c9382",
   "metadata": {},
   "outputs": [],
   "source": [
    "# Detection Pre-Processing \n",
    "\n",
    "# Remove overlaps in the same frame\n",
    "def remove_overlaps(detections_pd, tolerance=0.9):\n",
    "    row_to_remove = []\n",
    "    for detection in detections_pd.get('detection'):\n",
    "        length, _ =detections_pd.shape\n",
    "        for i in range(length):\n",
    "            IoU = detection.IoU(detections_pd.iloc[i]['detection'])\n",
    "            if IoU > tolerance and IoU < 1:\n",
    "                row_to_remove.append(i)\n",
    "                \n",
    "    row_to_remove = np.unique(np.array(row_to_remove))\n",
    "    detections_pd = detections_pd.drop(index=row_to_remove)\n",
    "        \n",
    "    return detections_pd"
   ]
  },
  {
   "cell_type": "code",
   "execution_count": 5,
   "id": "5cb77c5c",
   "metadata": {},
   "outputs": [],
   "source": [
    "# Detection to DataFrame\n",
    "def get_detection_dataframe(detections):\n",
    "    bboxes = []\n",
    "    bsizes = []\n",
    "    lines = deque(maxlen=32)\n",
    "    bdetections = []\n",
    "    tracks = list(range(0, len(detections)))\n",
    "    colours = []\n",
    "    for i in range(len(detections)):\n",
    "        colours.append(tuple(np.random.choice(range(256), size=3).astype('int')))\n",
    "        \n",
    "    updated = [False]*len(detections)\n",
    "    \n",
    "    for detection in detections:\n",
    "        bbox = np.array(detection.getBBox()).astype('int')\n",
    "        bboxes.append(bbox)\n",
    "        \n",
    "        centers = []\n",
    "        centers.append(get_box_center(bbox))\n",
    "        lines.append(centers)\n",
    "\n",
    "        bsize = int(detection.areaOfRec())\n",
    "        bsizes.append(bsize)\n",
    "\n",
    "        bdetections.append(detection)\n",
    "\n",
    "    detec = {\n",
    "        'track': tracks,\n",
    "        'detection': bdetections,\n",
    "        'bbox': bboxes,\n",
    "        'size': bsizes,\n",
    "        'line': lines,\n",
    "        'colour': colours,\n",
    "        'updated': updated\n",
    "    }\n",
    "    detections_pd = pd.DataFrame(detec)\n",
    "    detections_pd = detections_pd.sort_values(by=['size'], ascending=False)\n",
    "    detections_pd = detections_pd.reset_index(drop=True)\n",
    "    \n",
    "    return detections_pd"
   ]
  },
  {
   "cell_type": "code",
   "execution_count": 6,
   "id": "82b1f7d2",
   "metadata": {},
   "outputs": [],
   "source": [
    "def update_track(detections_pd, next_detections_pd, tolerance=0.5):\n",
    "    detections_pd['updated'] = False\n",
    "    detections_pd = detections_pd.reset_index(drop=True)\n",
    "    \n",
    "    # Loop each new detection\n",
    "    for index, next_detection in next_detections_pd.iterrows():\n",
    "        length, _ = detections_pd.shape\n",
    "        \n",
    "        # Find overlaps with max IoU and update if found\n",
    "        IoUlist = []\n",
    "        for i in range(length):\n",
    "            IoU = next_detection['detection'].IoU(detections_pd.iloc[i]['detection'])\n",
    "            IoUlist.append(IoU)\n",
    "            \n",
    "        indexMax = IoUlist.index(max(IoUlist))\n",
    "            \n",
    "        if max(IoUlist) > 0.5 and detections_pd.at[indexMax,'updated'] != True:\n",
    "            detections_pd.at[indexMax,'detection'] = next_detection['detection']\n",
    "            detections_pd.at[indexMax,'bbox'] = next_detection['bbox']\n",
    "            detections_pd.at[indexMax,'size'] = next_detection['size']\n",
    "            detections_pd.at[indexMax,'line'].append(next_detection['line'][0])\n",
    "            detections_pd.at[indexMax,'updated'] = True\n",
    "            next_detections_pd.at[index, 'updated'] = True\n",
    "    \n",
    "    # Drop detections no longer exist\n",
    "    detections_pd = detections_pd[detections_pd['updated'] == True]\n",
    "                \n",
    "    # Start tracking new detections\n",
    "    counter = 0\n",
    "    if any(next_detections_pd['updated'] == False):\n",
    "        new_pd = next_detections_pd[next_detections_pd['updated']==False]\n",
    "        new_pd = new_pd.reset_index(drop=True)\n",
    "        \n",
    "        # Generate new track number      \n",
    "        for i in range(len(new_pd)):\n",
    "            while counter in detections_pd['track'].tolist():\n",
    "                counter = counter + 1\n",
    "            new_pd.at[i, 'track'] = counter\n",
    "            counter = counter + 1\n",
    "\n",
    "        # Add new tracks\n",
    "        detections_pd = pd.concat([detections_pd, new_pd])\n",
    "            \n",
    "    detections_pd = detections_pd.reset_index(drop=True)\n",
    "    return detections_pd"
   ]
  },
  {
   "cell_type": "code",
   "execution_count": 9,
   "id": "f46be644",
   "metadata": {},
   "outputs": [],
   "source": [
    "# Load paths\n",
    "# detection_path = 'detection_pkls/retinanet_101_detections.pkl'\n",
    "detection_path = 'retinanet_101_detections_trained.pkl'\n",
    "data_path = '../datasets/AICity_data/train/S03/c010/'\n",
    "\n",
    "# Load detections\n",
    "with open(detection_path , 'rb') as f:\n",
    "    all_detections = pkl.load(f)"
   ]
  },
  {
   "cell_type": "code",
   "execution_count": 12,
   "id": "58c58380",
   "metadata": {},
   "outputs": [
    {
     "ename": "ValueError",
     "evalue": "could not broadcast input array from shape (13,1,2) into shape (13)",
     "output_type": "error",
     "traceback": [
      "\u001b[0;31m---------------------------------------------------------------------------\u001b[0m",
      "\u001b[0;31mValueError\u001b[0m                                Traceback (most recent call last)",
      "\u001b[0;32m<ipython-input-12-b0d5b05490c2>\u001b[0m in \u001b[0;36m<module>\u001b[0;34m\u001b[0m\n\u001b[1;32m     10\u001b[0m \u001b[0;34m\u001b[0m\u001b[0m\n\u001b[1;32m     11\u001b[0m \u001b[0;31m# Get the First Frame\u001b[0m\u001b[0;34m\u001b[0m\u001b[0;34m\u001b[0m\u001b[0;34m\u001b[0m\u001b[0m\n\u001b[0;32m---> 12\u001b[0;31m \u001b[0mdetections_pd\u001b[0m \u001b[0;34m=\u001b[0m \u001b[0mget_detection_dataframe\u001b[0m\u001b[0;34m(\u001b[0m\u001b[0mall_detections\u001b[0m\u001b[0;34m[\u001b[0m\u001b[0;34m'0'\u001b[0m\u001b[0;34m]\u001b[0m\u001b[0;34m)\u001b[0m\u001b[0;34m\u001b[0m\u001b[0;34m\u001b[0m\u001b[0m\n\u001b[0m\u001b[1;32m     13\u001b[0m \u001b[0;34m\u001b[0m\u001b[0m\n\u001b[1;32m     14\u001b[0m \u001b[0;31m# Pre-process the first frame if needed\u001b[0m\u001b[0;34m\u001b[0m\u001b[0;34m\u001b[0m\u001b[0;34m\u001b[0m\u001b[0m\n",
      "\u001b[0;32m<ipython-input-5-41610bc4dce8>\u001b[0m in \u001b[0;36mget_detection_dataframe\u001b[0;34m(detections)\u001b[0m\n\u001b[1;32m     34\u001b[0m         \u001b[0;34m'updated'\u001b[0m\u001b[0;34m:\u001b[0m \u001b[0mupdated\u001b[0m\u001b[0;34m\u001b[0m\u001b[0;34m\u001b[0m\u001b[0m\n\u001b[1;32m     35\u001b[0m     }\n\u001b[0;32m---> 36\u001b[0;31m     \u001b[0mdetections_pd\u001b[0m \u001b[0;34m=\u001b[0m \u001b[0mpd\u001b[0m\u001b[0;34m.\u001b[0m\u001b[0mDataFrame\u001b[0m\u001b[0;34m(\u001b[0m\u001b[0mdetec\u001b[0m\u001b[0;34m)\u001b[0m\u001b[0;34m\u001b[0m\u001b[0;34m\u001b[0m\u001b[0m\n\u001b[0m\u001b[1;32m     37\u001b[0m     \u001b[0mdetections_pd\u001b[0m \u001b[0;34m=\u001b[0m \u001b[0mdetections_pd\u001b[0m\u001b[0;34m.\u001b[0m\u001b[0msort_values\u001b[0m\u001b[0;34m(\u001b[0m\u001b[0mby\u001b[0m\u001b[0;34m=\u001b[0m\u001b[0;34m[\u001b[0m\u001b[0;34m'size'\u001b[0m\u001b[0;34m]\u001b[0m\u001b[0;34m,\u001b[0m \u001b[0mascending\u001b[0m\u001b[0;34m=\u001b[0m\u001b[0;32mFalse\u001b[0m\u001b[0;34m)\u001b[0m\u001b[0;34m\u001b[0m\u001b[0;34m\u001b[0m\u001b[0m\n\u001b[1;32m     38\u001b[0m     \u001b[0mdetections_pd\u001b[0m \u001b[0;34m=\u001b[0m \u001b[0mdetections_pd\u001b[0m\u001b[0;34m.\u001b[0m\u001b[0mreset_index\u001b[0m\u001b[0;34m(\u001b[0m\u001b[0mdrop\u001b[0m\u001b[0;34m=\u001b[0m\u001b[0;32mTrue\u001b[0m\u001b[0;34m)\u001b[0m\u001b[0;34m\u001b[0m\u001b[0;34m\u001b[0m\u001b[0m\n",
      "\u001b[0;32m~/anaconda3/lib/python3.7/site-packages/pandas/core/frame.py\u001b[0m in \u001b[0;36m__init__\u001b[0;34m(self, data, index, columns, dtype, copy)\u001b[0m\n\u001b[1;32m    409\u001b[0m             )\n\u001b[1;32m    410\u001b[0m         \u001b[0;32melif\u001b[0m \u001b[0misinstance\u001b[0m\u001b[0;34m(\u001b[0m\u001b[0mdata\u001b[0m\u001b[0;34m,\u001b[0m \u001b[0mdict\u001b[0m\u001b[0;34m)\u001b[0m\u001b[0;34m:\u001b[0m\u001b[0;34m\u001b[0m\u001b[0;34m\u001b[0m\u001b[0m\n\u001b[0;32m--> 411\u001b[0;31m             \u001b[0mmgr\u001b[0m \u001b[0;34m=\u001b[0m \u001b[0minit_dict\u001b[0m\u001b[0;34m(\u001b[0m\u001b[0mdata\u001b[0m\u001b[0;34m,\u001b[0m \u001b[0mindex\u001b[0m\u001b[0;34m,\u001b[0m \u001b[0mcolumns\u001b[0m\u001b[0;34m,\u001b[0m \u001b[0mdtype\u001b[0m\u001b[0;34m=\u001b[0m\u001b[0mdtype\u001b[0m\u001b[0;34m)\u001b[0m\u001b[0;34m\u001b[0m\u001b[0;34m\u001b[0m\u001b[0m\n\u001b[0m\u001b[1;32m    412\u001b[0m         \u001b[0;32melif\u001b[0m \u001b[0misinstance\u001b[0m\u001b[0;34m(\u001b[0m\u001b[0mdata\u001b[0m\u001b[0;34m,\u001b[0m \u001b[0mma\u001b[0m\u001b[0;34m.\u001b[0m\u001b[0mMaskedArray\u001b[0m\u001b[0;34m)\u001b[0m\u001b[0;34m:\u001b[0m\u001b[0;34m\u001b[0m\u001b[0;34m\u001b[0m\u001b[0m\n\u001b[1;32m    413\u001b[0m             \u001b[0;32mimport\u001b[0m \u001b[0mnumpy\u001b[0m\u001b[0;34m.\u001b[0m\u001b[0mma\u001b[0m\u001b[0;34m.\u001b[0m\u001b[0mmrecords\u001b[0m \u001b[0;32mas\u001b[0m \u001b[0mmrecords\u001b[0m\u001b[0;34m\u001b[0m\u001b[0;34m\u001b[0m\u001b[0m\n",
      "\u001b[0;32m~/anaconda3/lib/python3.7/site-packages/pandas/core/internals/construction.py\u001b[0m in \u001b[0;36minit_dict\u001b[0;34m(data, index, columns, dtype)\u001b[0m\n\u001b[1;32m    255\u001b[0m             \u001b[0marr\u001b[0m \u001b[0;32mif\u001b[0m \u001b[0;32mnot\u001b[0m \u001b[0mis_datetime64tz_dtype\u001b[0m\u001b[0;34m(\u001b[0m\u001b[0marr\u001b[0m\u001b[0;34m)\u001b[0m \u001b[0;32melse\u001b[0m \u001b[0marr\u001b[0m\u001b[0;34m.\u001b[0m\u001b[0mcopy\u001b[0m\u001b[0;34m(\u001b[0m\u001b[0;34m)\u001b[0m \u001b[0;32mfor\u001b[0m \u001b[0marr\u001b[0m \u001b[0;32min\u001b[0m \u001b[0marrays\u001b[0m\u001b[0;34m\u001b[0m\u001b[0;34m\u001b[0m\u001b[0m\n\u001b[1;32m    256\u001b[0m         ]\n\u001b[0;32m--> 257\u001b[0;31m     \u001b[0;32mreturn\u001b[0m \u001b[0marrays_to_mgr\u001b[0m\u001b[0;34m(\u001b[0m\u001b[0marrays\u001b[0m\u001b[0;34m,\u001b[0m \u001b[0mdata_names\u001b[0m\u001b[0;34m,\u001b[0m \u001b[0mindex\u001b[0m\u001b[0;34m,\u001b[0m \u001b[0mcolumns\u001b[0m\u001b[0;34m,\u001b[0m \u001b[0mdtype\u001b[0m\u001b[0;34m=\u001b[0m\u001b[0mdtype\u001b[0m\u001b[0;34m)\u001b[0m\u001b[0;34m\u001b[0m\u001b[0;34m\u001b[0m\u001b[0m\n\u001b[0m\u001b[1;32m    258\u001b[0m \u001b[0;34m\u001b[0m\u001b[0m\n\u001b[1;32m    259\u001b[0m \u001b[0;34m\u001b[0m\u001b[0m\n",
      "\u001b[0;32m~/anaconda3/lib/python3.7/site-packages/pandas/core/internals/construction.py\u001b[0m in \u001b[0;36marrays_to_mgr\u001b[0;34m(arrays, arr_names, index, columns, dtype)\u001b[0m\n\u001b[1;32m     85\u001b[0m     \u001b[0maxes\u001b[0m \u001b[0;34m=\u001b[0m \u001b[0;34m[\u001b[0m\u001b[0mensure_index\u001b[0m\u001b[0;34m(\u001b[0m\u001b[0mcolumns\u001b[0m\u001b[0;34m)\u001b[0m\u001b[0;34m,\u001b[0m \u001b[0mindex\u001b[0m\u001b[0;34m]\u001b[0m\u001b[0;34m\u001b[0m\u001b[0;34m\u001b[0m\u001b[0m\n\u001b[1;32m     86\u001b[0m \u001b[0;34m\u001b[0m\u001b[0m\n\u001b[0;32m---> 87\u001b[0;31m     \u001b[0;32mreturn\u001b[0m \u001b[0mcreate_block_manager_from_arrays\u001b[0m\u001b[0;34m(\u001b[0m\u001b[0marrays\u001b[0m\u001b[0;34m,\u001b[0m \u001b[0marr_names\u001b[0m\u001b[0;34m,\u001b[0m \u001b[0maxes\u001b[0m\u001b[0;34m)\u001b[0m\u001b[0;34m\u001b[0m\u001b[0;34m\u001b[0m\u001b[0m\n\u001b[0m\u001b[1;32m     88\u001b[0m \u001b[0;34m\u001b[0m\u001b[0m\n\u001b[1;32m     89\u001b[0m \u001b[0;34m\u001b[0m\u001b[0m\n",
      "\u001b[0;32m~/anaconda3/lib/python3.7/site-packages/pandas/core/internals/managers.py\u001b[0m in \u001b[0;36mcreate_block_manager_from_arrays\u001b[0;34m(arrays, names, axes)\u001b[0m\n\u001b[1;32m   1697\u001b[0m         \u001b[0;32mreturn\u001b[0m \u001b[0mmgr\u001b[0m\u001b[0;34m\u001b[0m\u001b[0;34m\u001b[0m\u001b[0m\n\u001b[1;32m   1698\u001b[0m     \u001b[0;32mexcept\u001b[0m \u001b[0mValueError\u001b[0m \u001b[0;32mas\u001b[0m \u001b[0me\u001b[0m\u001b[0;34m:\u001b[0m\u001b[0;34m\u001b[0m\u001b[0;34m\u001b[0m\u001b[0m\n\u001b[0;32m-> 1699\u001b[0;31m         \u001b[0mconstruction_error\u001b[0m\u001b[0;34m(\u001b[0m\u001b[0mlen\u001b[0m\u001b[0;34m(\u001b[0m\u001b[0marrays\u001b[0m\u001b[0;34m)\u001b[0m\u001b[0;34m,\u001b[0m \u001b[0marrays\u001b[0m\u001b[0;34m[\u001b[0m\u001b[0;36m0\u001b[0m\u001b[0;34m]\u001b[0m\u001b[0;34m.\u001b[0m\u001b[0mshape\u001b[0m\u001b[0;34m,\u001b[0m \u001b[0maxes\u001b[0m\u001b[0;34m,\u001b[0m \u001b[0me\u001b[0m\u001b[0;34m)\u001b[0m\u001b[0;34m\u001b[0m\u001b[0;34m\u001b[0m\u001b[0m\n\u001b[0m\u001b[1;32m   1700\u001b[0m \u001b[0;34m\u001b[0m\u001b[0m\n\u001b[1;32m   1701\u001b[0m \u001b[0;34m\u001b[0m\u001b[0m\n",
      "\u001b[0;32m~/anaconda3/lib/python3.7/site-packages/pandas/core/internals/managers.py\u001b[0m in \u001b[0;36mconstruction_error\u001b[0;34m(tot_items, block_shape, axes, e)\u001b[0m\n\u001b[1;32m   1713\u001b[0m \u001b[0;34m\u001b[0m\u001b[0m\n\u001b[1;32m   1714\u001b[0m     \u001b[0;32mif\u001b[0m \u001b[0mpassed\u001b[0m \u001b[0;34m==\u001b[0m \u001b[0mimplied\u001b[0m \u001b[0;32mand\u001b[0m \u001b[0me\u001b[0m \u001b[0;32mis\u001b[0m \u001b[0;32mnot\u001b[0m \u001b[0;32mNone\u001b[0m\u001b[0;34m:\u001b[0m\u001b[0;34m\u001b[0m\u001b[0;34m\u001b[0m\u001b[0m\n\u001b[0;32m-> 1715\u001b[0;31m         \u001b[0;32mraise\u001b[0m \u001b[0me\u001b[0m\u001b[0;34m\u001b[0m\u001b[0;34m\u001b[0m\u001b[0m\n\u001b[0m\u001b[1;32m   1716\u001b[0m     \u001b[0;32mif\u001b[0m \u001b[0mblock_shape\u001b[0m\u001b[0;34m[\u001b[0m\u001b[0;36m0\u001b[0m\u001b[0;34m]\u001b[0m \u001b[0;34m==\u001b[0m \u001b[0;36m0\u001b[0m\u001b[0;34m:\u001b[0m\u001b[0;34m\u001b[0m\u001b[0;34m\u001b[0m\u001b[0m\n\u001b[1;32m   1717\u001b[0m         \u001b[0;32mraise\u001b[0m \u001b[0mValueError\u001b[0m\u001b[0;34m(\u001b[0m\u001b[0;34m\"Empty data passed with indices specified.\"\u001b[0m\u001b[0;34m)\u001b[0m\u001b[0;34m\u001b[0m\u001b[0;34m\u001b[0m\u001b[0m\n",
      "\u001b[0;32m~/anaconda3/lib/python3.7/site-packages/pandas/core/internals/managers.py\u001b[0m in \u001b[0;36mcreate_block_manager_from_arrays\u001b[0;34m(arrays, names, axes)\u001b[0m\n\u001b[1;32m   1692\u001b[0m \u001b[0;34m\u001b[0m\u001b[0m\n\u001b[1;32m   1693\u001b[0m     \u001b[0;32mtry\u001b[0m\u001b[0;34m:\u001b[0m\u001b[0;34m\u001b[0m\u001b[0;34m\u001b[0m\u001b[0m\n\u001b[0;32m-> 1694\u001b[0;31m         \u001b[0mblocks\u001b[0m \u001b[0;34m=\u001b[0m \u001b[0mform_blocks\u001b[0m\u001b[0;34m(\u001b[0m\u001b[0marrays\u001b[0m\u001b[0;34m,\u001b[0m \u001b[0mnames\u001b[0m\u001b[0;34m,\u001b[0m \u001b[0maxes\u001b[0m\u001b[0;34m)\u001b[0m\u001b[0;34m\u001b[0m\u001b[0;34m\u001b[0m\u001b[0m\n\u001b[0m\u001b[1;32m   1695\u001b[0m         \u001b[0mmgr\u001b[0m \u001b[0;34m=\u001b[0m \u001b[0mBlockManager\u001b[0m\u001b[0;34m(\u001b[0m\u001b[0mblocks\u001b[0m\u001b[0;34m,\u001b[0m \u001b[0maxes\u001b[0m\u001b[0;34m)\u001b[0m\u001b[0;34m\u001b[0m\u001b[0;34m\u001b[0m\u001b[0m\n\u001b[1;32m   1696\u001b[0m         \u001b[0mmgr\u001b[0m\u001b[0;34m.\u001b[0m\u001b[0m_consolidate_inplace\u001b[0m\u001b[0;34m(\u001b[0m\u001b[0;34m)\u001b[0m\u001b[0;34m\u001b[0m\u001b[0;34m\u001b[0m\u001b[0m\n",
      "\u001b[0;32m~/anaconda3/lib/python3.7/site-packages/pandas/core/internals/managers.py\u001b[0m in \u001b[0;36mform_blocks\u001b[0;34m(arrays, names, axes)\u001b[0m\n\u001b[1;32m   1762\u001b[0m \u001b[0;34m\u001b[0m\u001b[0m\n\u001b[1;32m   1763\u001b[0m     \u001b[0;32mif\u001b[0m \u001b[0mlen\u001b[0m\u001b[0;34m(\u001b[0m\u001b[0mitems_dict\u001b[0m\u001b[0;34m[\u001b[0m\u001b[0;34m\"IntBlock\"\u001b[0m\u001b[0;34m]\u001b[0m\u001b[0;34m)\u001b[0m\u001b[0;34m:\u001b[0m\u001b[0;34m\u001b[0m\u001b[0;34m\u001b[0m\u001b[0m\n\u001b[0;32m-> 1764\u001b[0;31m         \u001b[0mint_blocks\u001b[0m \u001b[0;34m=\u001b[0m \u001b[0m_multi_blockify\u001b[0m\u001b[0;34m(\u001b[0m\u001b[0mitems_dict\u001b[0m\u001b[0;34m[\u001b[0m\u001b[0;34m\"IntBlock\"\u001b[0m\u001b[0;34m]\u001b[0m\u001b[0;34m)\u001b[0m\u001b[0;34m\u001b[0m\u001b[0;34m\u001b[0m\u001b[0m\n\u001b[0m\u001b[1;32m   1765\u001b[0m         \u001b[0mblocks\u001b[0m\u001b[0;34m.\u001b[0m\u001b[0mextend\u001b[0m\u001b[0;34m(\u001b[0m\u001b[0mint_blocks\u001b[0m\u001b[0;34m)\u001b[0m\u001b[0;34m\u001b[0m\u001b[0;34m\u001b[0m\u001b[0m\n\u001b[1;32m   1766\u001b[0m \u001b[0;34m\u001b[0m\u001b[0m\n",
      "\u001b[0;32m~/anaconda3/lib/python3.7/site-packages/pandas/core/internals/managers.py\u001b[0m in \u001b[0;36m_multi_blockify\u001b[0;34m(tuples, dtype)\u001b[0m\n\u001b[1;32m   1844\u001b[0m     \u001b[0;32mfor\u001b[0m \u001b[0mdtype\u001b[0m\u001b[0;34m,\u001b[0m \u001b[0mtup_block\u001b[0m \u001b[0;32min\u001b[0m \u001b[0mgrouper\u001b[0m\u001b[0;34m:\u001b[0m\u001b[0;34m\u001b[0m\u001b[0;34m\u001b[0m\u001b[0m\n\u001b[1;32m   1845\u001b[0m \u001b[0;34m\u001b[0m\u001b[0m\n\u001b[0;32m-> 1846\u001b[0;31m         \u001b[0mvalues\u001b[0m\u001b[0;34m,\u001b[0m \u001b[0mplacement\u001b[0m \u001b[0;34m=\u001b[0m \u001b[0m_stack_arrays\u001b[0m\u001b[0;34m(\u001b[0m\u001b[0mlist\u001b[0m\u001b[0;34m(\u001b[0m\u001b[0mtup_block\u001b[0m\u001b[0;34m)\u001b[0m\u001b[0;34m,\u001b[0m \u001b[0mdtype\u001b[0m\u001b[0;34m)\u001b[0m\u001b[0;34m\u001b[0m\u001b[0;34m\u001b[0m\u001b[0m\n\u001b[0m\u001b[1;32m   1847\u001b[0m \u001b[0;34m\u001b[0m\u001b[0m\n\u001b[1;32m   1848\u001b[0m         \u001b[0mblock\u001b[0m \u001b[0;34m=\u001b[0m \u001b[0mmake_block\u001b[0m\u001b[0;34m(\u001b[0m\u001b[0mvalues\u001b[0m\u001b[0;34m,\u001b[0m \u001b[0mplacement\u001b[0m\u001b[0;34m=\u001b[0m\u001b[0mplacement\u001b[0m\u001b[0;34m)\u001b[0m\u001b[0;34m\u001b[0m\u001b[0;34m\u001b[0m\u001b[0m\n",
      "\u001b[0;32m~/anaconda3/lib/python3.7/site-packages/pandas/core/internals/managers.py\u001b[0m in \u001b[0;36m_stack_arrays\u001b[0;34m(tuples, dtype)\u001b[0m\n\u001b[1;32m   1874\u001b[0m     \u001b[0mstacked\u001b[0m \u001b[0;34m=\u001b[0m \u001b[0mnp\u001b[0m\u001b[0;34m.\u001b[0m\u001b[0mempty\u001b[0m\u001b[0;34m(\u001b[0m\u001b[0mshape\u001b[0m\u001b[0;34m,\u001b[0m \u001b[0mdtype\u001b[0m\u001b[0;34m=\u001b[0m\u001b[0mdtype\u001b[0m\u001b[0;34m)\u001b[0m\u001b[0;34m\u001b[0m\u001b[0;34m\u001b[0m\u001b[0m\n\u001b[1;32m   1875\u001b[0m     \u001b[0;32mfor\u001b[0m \u001b[0mi\u001b[0m\u001b[0;34m,\u001b[0m \u001b[0marr\u001b[0m \u001b[0;32min\u001b[0m \u001b[0menumerate\u001b[0m\u001b[0;34m(\u001b[0m\u001b[0marrays\u001b[0m\u001b[0;34m)\u001b[0m\u001b[0;34m:\u001b[0m\u001b[0;34m\u001b[0m\u001b[0;34m\u001b[0m\u001b[0m\n\u001b[0;32m-> 1876\u001b[0;31m         \u001b[0mstacked\u001b[0m\u001b[0;34m[\u001b[0m\u001b[0mi\u001b[0m\u001b[0;34m]\u001b[0m \u001b[0;34m=\u001b[0m \u001b[0m_asarray_compat\u001b[0m\u001b[0;34m(\u001b[0m\u001b[0marr\u001b[0m\u001b[0;34m)\u001b[0m\u001b[0;34m\u001b[0m\u001b[0;34m\u001b[0m\u001b[0m\n\u001b[0m\u001b[1;32m   1877\u001b[0m \u001b[0;34m\u001b[0m\u001b[0m\n\u001b[1;32m   1878\u001b[0m     \u001b[0;32mreturn\u001b[0m \u001b[0mstacked\u001b[0m\u001b[0;34m,\u001b[0m \u001b[0mplacement\u001b[0m\u001b[0;34m\u001b[0m\u001b[0;34m\u001b[0m\u001b[0m\n",
      "\u001b[0;31mValueError\u001b[0m: could not broadcast input array from shape (13,1,2) into shape (13)"
     ]
    },
    {
     "data": {
      "image/png": "[encoded data removed]",
      "text/plain": [
       "<Figure size 432x288 with 1 Axes>"
      ]
     },
     "metadata": {
      "needs_background": "light"
     },
     "output_type": "display_data"
    }
   ],
   "source": [
    "display = False\n",
    "gif = True\n",
    "\n",
    "if gif:\n",
    "    fig, ax = plt.subplots()\n",
    "    plt.axis('off')\n",
    "\n",
    "ims = []\n",
    "detection_history = []\n",
    "\n",
    "# Get the First Frame\n",
    "detections_pd = get_detection_dataframe(all_detections['0'])\n",
    "\n",
    "# Pre-process the first frame if needed\n",
    "detections_pd = remove_overlaps(detections_pd, 0.9)\n",
    "detection_history.append(detections_pd)\n",
    "\n",
    "# Load video\n",
    "vidcap = cv2.VideoCapture(data_path + 'vdo.avi')\n",
    "if gif:\n",
    "    vidcap.set(1,500)\n",
    "    \n",
    "_, image = vidcap.read()\n",
    "num_frames = int(vidcap.get(cv2.CAP_PROP_FRAME_COUNT))\n",
    "\n",
    "# Set plot\n",
    "if display:\n",
    "    plt.ion() \n",
    "    plt.figure(figsize=(20, 12))\n",
    "    plt.axis('off') \n",
    "\n",
    "# Iterate Frames\n",
    "# skip = 1\n",
    "# for frame in tqdm(range(1,num_frames//skip)):\n",
    "#     for i in range(skip):\n",
    "#         _, image = vidcap.read()\n",
    "#     frame = frame*skip\n",
    "\n",
    "for frame in tqdm(range(1,num_frames-1)):\n",
    "    _, image = vidcap.read()\n",
    "    \n",
    "    next_detections_pd = get_detection_dataframe(all_detections[str(frame)])\n",
    "    next_detections_pd = remove_overlaps(next_detections_pd, 0.9)\n",
    "    detections_pd = update_track(detections_pd, next_detections_pd, tolerance=0.5)\n",
    "    detection_history.append(detections_pd)\n",
    "    \n",
    "    for index, row in detections_pd.iterrows():\n",
    "        image = drawTrackingOnImage(image, row['bbox'], track=row['track'], line=row['line'],colour=row['colour'])\n",
    "        \n",
    "    if display:\n",
    "        plt.title('Frame:'+str(frame))\n",
    "        plt.imshow(image)  \n",
    "    \n",
    "    if gif:\n",
    "        im = ax.imshow(image, animated=True)\n",
    "        ims.append([im])\n",
    "        \n",
    "    if display:\n",
    "        dp.clear_output(wait=True)\n",
    "        dp.display(plt.gcf())\n",
    "        time.sleep(0.000001)\n",
    "        plt.cla()\n",
    "\n",
    "if gif:\n",
    "    ani = animation.ArtistAnimation(fig, ims, interval=10, blit=True, repeat_delay=10000)\n",
    "    ani.save('Tracking_with_IoU_overlap_700frames' + \".gif\", writer=animation.PillowWriter(fps=24))\n",
    "    \n",
    "# Open a file and use dump()\n",
    "# with open('tracking_history/tracking_history.pkl', 'wb') as file:\n",
    "#     # A new file will be created\n",
    "#     pkl.dump(detection_history, file)"
   ]
  },
  {
   "cell_type": "markdown",
   "id": "ff42fa6d",
   "metadata": {},
   "source": [
    "# TEST"
   ]
  },
  {
   "cell_type": "code",
   "execution_count": null,
   "id": "f3707eaf",
   "metadata": {},
   "outputs": [],
   "source": [
    "# with open('tracking_history/tracking_history.pkl', 'rb') as file:\n",
    "#     # Call load method to deserialze\n",
    "#     tracking_hist = pkl.load(file)"
   ]
  },
  {
   "cell_type": "code",
   "execution_count": null,
   "id": "d54ff009",
   "metadata": {},
   "outputs": [],
   "source": [
    "# tracking_hist[100]"
   ]
  },
  {
   "cell_type": "code",
   "execution_count": null,
   "id": "04ac247f",
   "metadata": {},
   "outputs": [],
   "source": [
    "# for index, row in detections_pd.iterrows():\n",
    "#     print(row['colour'])\n",
    "#     image = drawRectangleOnImage(image, row['bbox'], track=row['track'],colour=row['colour'])"
   ]
  },
  {
   "cell_type": "code",
   "execution_count": null,
   "id": "2b50ff27",
   "metadata": {},
   "outputs": [],
   "source": [
    "# plt.figure(figsize=(20, 12))\n",
    "# plt.imshow(image)"
   ]
  },
  {
   "cell_type": "code",
   "execution_count": null,
   "id": "9ad2d3ae",
   "metadata": {},
   "outputs": [],
   "source": [
    "#Test......\n",
    "# test_num = 396\n",
    "# detections_pd = get_detection_dataframe(all_detections[str(test_num)])\n",
    "# next_detections_pd = get_detection_dataframe(all_detections[str(test_num+1)])"
   ]
  },
  {
   "cell_type": "code",
   "execution_count": null,
   "id": "3a739824",
   "metadata": {},
   "outputs": [],
   "source": [
    "# detections_pd"
   ]
  },
  {
   "cell_type": "code",
   "execution_count": null,
   "id": "1149e9f0",
   "metadata": {},
   "outputs": [],
   "source": [
    "# next_detections_pd"
   ]
  },
  {
   "cell_type": "code",
   "execution_count": null,
   "id": "76b64402",
   "metadata": {},
   "outputs": [],
   "source": [
    "# detections_pd = update_track(detections_pd, next_detections_pd, tolerance=0.5)\n",
    "# detections_pd"
   ]
  },
  {
   "cell_type": "code",
   "execution_count": null,
   "id": "cb9b48c3",
   "metadata": {},
   "outputs": [],
   "source": [
    "# next_detections_pd"
   ]
  },
  {
   "cell_type": "code",
   "execution_count": null,
   "id": "7329ea96",
   "metadata": {},
   "outputs": [],
   "source": []
  }
 ],
 "metadata": {
  "kernelspec": {
   "display_name": "Python 3 (ipykernel)",
   "language": "python",
   "name": "python3"
  },
  "language_info": {
   "codemirror_mode": {
    "name": "ipython",
    "version": 3
   },
   "file_extension": ".py",
   "mimetype": "text/x-python",
   "name": "python",
   "nbconvert_exporter": "python",
   "pygments_lexer": "ipython3",
   "version": "3.7.4"
  }
 },
 "nbformat": 4,
 "nbformat_minor": 5
}
