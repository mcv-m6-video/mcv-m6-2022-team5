{
 "cells": [
  {
   "cell_type": "code",
   "execution_count": 2,
   "id": "16ce7a66",
   "metadata": {},
   "outputs": [
    {
     "name": "stdout",
     "output_type": "stream",
     "text": [
      "Collecting git+https://github.com/cheind/py-motmetrics.git\n",
      "  Cloning https://github.com/cheind/py-motmetrics.git to /private/var/folders/h8/jvpg08h90c5bggxybw41glg40000gp/T/pip-req-build-pef195w5\n",
      "  Running command git clone -q https://github.com/cheind/py-motmetrics.git /private/var/folders/h8/jvpg08h90c5bggxybw41glg40000gp/T/pip-req-build-pef195w5\n",
      "  Resolved https://github.com/cheind/py-motmetrics.git to commit b9ca89176f4b095c875312356a68317403e19db7\n",
      "Requirement already satisfied: numpy>=1.12.1 in /opt/anaconda3/lib/python3.9/site-packages (from motmetrics==1.2.0) (1.20.3)\n",
      "Requirement already satisfied: pandas>=0.23.1 in /opt/anaconda3/lib/python3.9/site-packages (from motmetrics==1.2.0) (1.3.4)\n",
      "Requirement already satisfied: scipy>=0.19.0 in /opt/anaconda3/lib/python3.9/site-packages (from motmetrics==1.2.0) (1.7.1)\n",
      "Requirement already satisfied: xmltodict>=0.12.0 in /opt/anaconda3/lib/python3.9/site-packages (from motmetrics==1.2.0) (0.12.0)\n",
      "Requirement already satisfied: python-dateutil>=2.7.3 in /opt/anaconda3/lib/python3.9/site-packages (from pandas>=0.23.1->motmetrics==1.2.0) (2.8.2)\n",
      "Requirement already satisfied: pytz>=2017.3 in /opt/anaconda3/lib/python3.9/site-packages (from pandas>=0.23.1->motmetrics==1.2.0) (2021.3)\n",
      "Requirement already satisfied: six>=1.5 in /opt/anaconda3/lib/python3.9/site-packages (from python-dateutil>=2.7.3->pandas>=0.23.1->motmetrics==1.2.0) (1.16.0)\n"
     ]
    }
   ],
   "source": [
    "!pip install git+https://github.com/cheind/py-motmetrics.git"
   ]
  },
  {
   "cell_type": "code",
   "execution_count": 3,
   "id": "6d86fc18",
   "metadata": {},
   "outputs": [
    {
     "ename": "ModuleNotFoundError",
     "evalue": "No module named 'motmetrics'",
     "output_type": "error",
     "traceback": [
      "\u001b[0;31m---------------------------------------------------------------------------\u001b[0m",
      "\u001b[0;31mModuleNotFoundError\u001b[0m                       Traceback (most recent call last)",
      "\u001b[0;32m/var/folders/h8/jvpg08h90c5bggxybw41glg40000gp/T/ipykernel_73242/1884942035.py\u001b[0m in \u001b[0;36m<module>\u001b[0;34m\u001b[0m\n\u001b[1;32m      5\u001b[0m \u001b[0;32mfrom\u001b[0m \u001b[0mvideo_utils\u001b[0m \u001b[0;32mimport\u001b[0m \u001b[0;34m*\u001b[0m\u001b[0;34m\u001b[0m\u001b[0;34m\u001b[0m\u001b[0m\n\u001b[1;32m      6\u001b[0m \u001b[0;32mfrom\u001b[0m \u001b[0mload_utils\u001b[0m \u001b[0;32mimport\u001b[0m \u001b[0;34m*\u001b[0m\u001b[0;34m\u001b[0m\u001b[0;34m\u001b[0m\u001b[0m\n\u001b[0;32m----> 7\u001b[0;31m \u001b[0;32mfrom\u001b[0m \u001b[0mtracking_utils\u001b[0m \u001b[0;32mimport\u001b[0m \u001b[0;34m*\u001b[0m\u001b[0;34m\u001b[0m\u001b[0;34m\u001b[0m\u001b[0m\n\u001b[0m\u001b[1;32m      8\u001b[0m \u001b[0;34m\u001b[0m\u001b[0m\n\u001b[1;32m      9\u001b[0m \u001b[0mdata_path\u001b[0m \u001b[0;34m=\u001b[0m \u001b[0;34m'../../AICity_data/train/S03/c010/'\u001b[0m\u001b[0;34m\u001b[0m\u001b[0;34m\u001b[0m\u001b[0m\n",
      "\u001b[0;32m~/Desktop/UAB/M6/Project/week3/tracking_utils.py\u001b[0m in \u001b[0;36m<module>\u001b[0;34m\u001b[0m\n\u001b[0;32m----> 1\u001b[0;31m \u001b[0;32mimport\u001b[0m \u001b[0mmotmetrics\u001b[0m \u001b[0;32mas\u001b[0m \u001b[0mmm\u001b[0m\u001b[0;34m\u001b[0m\u001b[0;34m\u001b[0m\u001b[0m\n\u001b[0m\u001b[1;32m      2\u001b[0m \u001b[0;32mimport\u001b[0m \u001b[0mnumpy\u001b[0m \u001b[0;32mas\u001b[0m \u001b[0mnp\u001b[0m\u001b[0;34m\u001b[0m\u001b[0;34m\u001b[0m\u001b[0m\n\u001b[1;32m      3\u001b[0m \u001b[0;34m\u001b[0m\u001b[0m\n\u001b[1;32m      4\u001b[0m \u001b[0;32mdef\u001b[0m \u001b[0mcreate_accumulator\u001b[0m\u001b[0;34m(\u001b[0m\u001b[0;34m)\u001b[0m\u001b[0;34m:\u001b[0m\u001b[0;34m\u001b[0m\u001b[0;34m\u001b[0m\u001b[0m\n\u001b[1;32m      5\u001b[0m     \u001b[0;31m# Creates accumulator\u001b[0m\u001b[0;34m\u001b[0m\u001b[0;34m\u001b[0m\u001b[0;34m\u001b[0m\u001b[0m\n",
      "\u001b[0;31mModuleNotFoundError\u001b[0m: No module named 'motmetrics'"
     ]
    }
   ],
   "source": [
    "import pickle\n",
    "import numpy as np\n",
    "import matplotlib.pyplot as plt\n",
    "from eval_utils import *\n",
    "from video_utils import *\n",
    "from load_utils import *\n",
    "from tracking_utils import *\n",
    "\n",
    "data_path = '../../AICity_data/train/S03/c010/'"
   ]
  },
  {
   "cell_type": "code",
   "execution_count": null,
   "id": "d41898e0",
   "metadata": {},
   "outputs": [],
   "source": [
    "gt_detect = readDetectionsXML('ai_challenge_s03_c010-full_annotation.xml')\n",
    "gt_notParked = getNotParkedCars(gt_detect)"
   ]
  },
  {
   "cell_type": "code",
   "execution_count": null,
   "id": "fea78956",
   "metadata": {},
   "outputs": [],
   "source": [
    "retinanet_101_detections = {}\n",
    "with open('retinanet_101_detections.pkl','rb') as openFile:\n",
    "    retinanet_101_detections = pickle.load(openFile)"
   ]
  }
 ],
 "metadata": {
  "kernelspec": {
   "display_name": "Python 3 (ipykernel)",
   "language": "python",
   "name": "python3"
  },
  "language_info": {
   "codemirror_mode": {
    "name": "ipython",
    "version": 3
   },
   "file_extension": ".py",
   "mimetype": "text/x-python",
   "name": "python",
   "nbconvert_exporter": "python",
   "pygments_lexer": "ipython3",
   "version": "3.8.8"
  }
 },
 "nbformat": 4,
 "nbformat_minor": 5
}
