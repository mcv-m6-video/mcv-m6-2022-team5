{
 "cells": [
  {
   "cell_type": "code",
   "execution_count": 1,
   "id": "6d86fc18",
   "metadata": {},
   "outputs": [],
   "source": [
    "import pickle\n",
    "import numpy as np\n",
    "import pandas as pd\n",
    "import matplotlib.pyplot as plt\n",
    "from eval_utils import *\n",
    "from video_utils import *\n",
    "from load_utils import *\n",
    "from tracking_utils import *\n",
    "from tqdm import tqdm\n",
    "\n",
    "data_path = '../../AICity_data/train/S03/c010/'"
   ]
  },
  {
   "cell_type": "code",
   "execution_count": 2,
   "id": "d41898e0",
   "metadata": {},
   "outputs": [],
   "source": [
    "gt_detect = readDetectionsXML('ai_challenge_s03_c010-full_annotation.xml')\n",
    "gt_notParked = getNotParkedCars(gt_detect)"
   ]
  },
  {
   "cell_type": "code",
   "execution_count": 3,
   "id": "fea78956",
   "metadata": {},
   "outputs": [],
   "source": [
    "retinanet_101_detections = {}\n",
    "with open('./detection_pkls/retinanet_101_detections.pkl','rb') as openFile:\n",
    "    retinanet_101_detections = pickle.load(openFile)"
   ]
  },
  {
   "cell_type": "code",
   "execution_count": 4,
   "id": "44ed9a16",
   "metadata": {},
   "outputs": [],
   "source": [
    "def remove_overlaps(detections_pd, tolerance=0.9):\n",
    "    row_to_remove = []\n",
    "    for detection in detections_pd.get('detection'):\n",
    "        length, _ = detections_pd.shape\n",
    "        for i in range(length):\n",
    "            IoU = detection.IoU(detections_pd.iloc[i]['detection'])\n",
    "            if IoU > tolerance and IoU < 1:\n",
    "                row_to_remove.append(i)\n",
    "                \n",
    "    row_to_remove = np.unique(np.array(row_to_remove))\n",
    "    detections_pd = detections_pd.drop(index=row_to_remove)\n",
    "        \n",
    "    return detections_pd"
   ]
  },
  {
   "cell_type": "code",
   "execution_count": 5,
   "id": "58eaa5c1",
   "metadata": {},
   "outputs": [],
   "source": [
    "def get_detection_dataframe(detections):\n",
    "    # For detetections in one frame!\n",
    "    \n",
    "    bboxes = []\n",
    "    bsizes = []\n",
    "    bdetections = []\n",
    "    tracks = list(range(0, len(detections)))\n",
    "    \n",
    "    colours = []\n",
    "    for i in range(len(detections)):\n",
    "        colours.append(tuple(np.random.choice(range(256), size=3).astype('int')))\n",
    "    \n",
    "    for detection in detections:\n",
    "        bbox = np.array(detection.getBBox()).astype('int')\n",
    "        bboxes.append(bbox)\n",
    "\n",
    "        bsize = int(detection.areaOfRec())\n",
    "        bsizes.append(bsize)\n",
    "\n",
    "        bdetections.append(detection)\n",
    "\n",
    "    detec = {\n",
    "        'track': tracks,\n",
    "        'detection': bdetections,\n",
    "        'bbox': bboxes,\n",
    "        'size': bsizes,\n",
    "        'colour': colours,\n",
    "    }\n",
    "    detections_pd = pd.DataFrame(detec)\n",
    "    # detections_pd = detections_pd.sort_values(by=['size'], ascending=False)\n",
    "    detections_pd = detections_pd.reset_index(drop=True)\n",
    "    \n",
    "    return detections_pd"
   ]
  },
  {
   "cell_type": "code",
   "execution_count": 6,
   "id": "346c64e7",
   "metadata": {},
   "outputs": [],
   "source": [
    "# detections = {}\n",
    "# with open('tracking_history.pkl','rb') as openFile:\n",
    "#     detections = pickle.load(openFile)"
   ]
  },
  {
   "cell_type": "code",
   "execution_count": 9,
   "id": "eda23c07",
   "metadata": {},
   "outputs": [],
   "source": [
    "detections = {}\n",
    "with open('kalman_tracking.pkl','rb') as openFile:\n",
    "    detections = pickle.load(openFile)"
   ]
  },
  {
   "cell_type": "code",
   "execution_count": 10,
   "id": "d6cc7056",
   "metadata": {},
   "outputs": [
    {
     "name": "stderr",
     "output_type": "stream",
     "text": [
      "100%|██████████| 1605/1605 [01:05<00:00, 24.39it/s]\n"
     ]
    },
    {
     "name": "stdout",
     "output_type": "stream",
     "text": [
      "     num_frames  precision    recall       idp       idr      idf1\n",
      "acc        1605   0.845693  0.989941  0.749417  0.877243  0.808307\n"
     ]
    }
   ],
   "source": [
    "total_frames = 2141\n",
    "initial_frame = 535\n",
    "\n",
    "acc = create_accumulator()\n",
    "\n",
    "for frame in tqdm(range(initial_frame, total_frames-1)):\n",
    "    sframe = str(frame)\n",
    "\n",
    "    gt_detections_pd = get_detection_dataframe(gt_detect[sframe])\n",
    "    det_detections_pd = detections[frame]\n",
    "    \n",
    "    gt_object_ids = []\n",
    "    gt_objects_boxes = []\n",
    "    for track in gt_detections_pd['track']:\n",
    "        gt_object_ids.append(track)\n",
    "        x = gt_detections_pd[gt_detections_pd['track'] == track].detection.item().xtl\n",
    "        y = gt_detections_pd[gt_detections_pd['track'] == track].detection.item().ytl\n",
    "        w = gt_detections_pd[gt_detections_pd['track'] == track].detection.item().w\n",
    "        h = gt_detections_pd[gt_detections_pd['track'] == track].detection.item().h\n",
    "        gt_objects_boxes.append([x, y, w, h])\n",
    "\n",
    "    det_object_ids = []\n",
    "    det_objects_boxes = []\n",
    "    for track in det_detections_pd['track']:\n",
    "        det_object_ids.append(track)\n",
    "        x = det_detections_pd[det_detections_pd['track'] == track].detection.item().xtl\n",
    "        y = det_detections_pd[det_detections_pd['track'] == track].detection.item().ytl\n",
    "        w = det_detections_pd[det_detections_pd['track'] == track].detection.item().w\n",
    "        h = det_detections_pd[det_detections_pd['track'] == track].detection.item().h\n",
    "        det_objects_boxes.append([x, y, w, h])\n",
    "\n",
    "    distances = mm.distances.iou_matrix(gt_objects_boxes, det_objects_boxes, max_iou=1)\n",
    "\n",
    "    acc, frame_id = update_accumulator(acc, gt_object_ids, det_object_ids, distances)\n",
    "\n",
    "display_metrics(acc)"
   ]
  }
 ],
 "metadata": {
  "kernelspec": {
   "display_name": "Python 3 (ipykernel)",
   "language": "python",
   "name": "python3"
  },
  "language_info": {
   "codemirror_mode": {
    "name": "ipython",
    "version": 3
   },
   "file_extension": ".py",
   "mimetype": "text/x-python",
   "name": "python",
   "nbconvert_exporter": "python",
   "pygments_lexer": "ipython3",
   "version": "3.9.7"
  }
 },
 "nbformat": 4,
 "nbformat_minor": 5
}
