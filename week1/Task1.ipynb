{
 "cells": [
  {
   "cell_type": "markdown",
   "metadata": {},
   "source": [
    "## Imports and data path"
   ]
  },
  {
   "cell_type": "code",
   "execution_count": 1,
   "metadata": {
    "scrolled": true
   },
   "outputs": [],
   "source": [
    "%load_ext autoreload\n",
    "%reload_ext autoreload\n",
    "from VehicleDetection import VehicleDetection\n",
    "import os\n",
    "import cv2\n",
    "import numpy as np\n",
    "import matplotlib.pyplot as plt\n",
    "import random\n",
    "import copy\n",
    "from eval_utils import *\n",
    "from video_utils import *\n",
    "\n",
    "data_path = '../datasets/AICity_data/train/S03/c010/'\n"
   ]
  },
  {
   "cell_type": "markdown",
   "metadata": {},
   "source": [
    "## Function to read detections files"
   ]
  },
  {
   "cell_type": "code",
   "execution_count": 2,
   "metadata": {},
   "outputs": [],
   "source": [
    "def readDetections(path):\n",
    "  #Generates detection dictionary where the frame number is the key and the values are the info of the corresponding detection/s\n",
    "  \n",
    "    with open(path) as f:\n",
    "        lines = f.readlines()\n",
    "\n",
    "    detections = {}\n",
    "    for line in lines:\n",
    "        data = line.split(',')\n",
    "        if data[0] in detections:\n",
    "            detections[data[0]].append(VehicleDetection(int(data[0]), int(data[1]), float(data[2]), float(data[3]), float(data[4]), float(data[5]), float(data[6])))\n",
    "        else:\n",
    "            detections[data[0]] = [VehicleDetection(int(data[0]), int(data[1]), float(data[2]), float(data[3]), float(data[4]), float(data[5]), float(data[6]))]\n",
    "\n",
    "    return detections"
   ]
  },
  {
   "cell_type": "markdown",
   "metadata": {},
   "source": [
    "## Functions to add noise in box size & placement"
   ]
  },
  {
   "cell_type": "code",
   "execution_count": 3,
   "metadata": {},
   "outputs": [],
   "source": [
    "def resize(d, stdv):\n",
    "    randNoiseVal = np.random.normal(0, stdv, size=(2,))\n",
    "    dAux = copy.deepcopy(d)\n",
    "    dAux.w += randNoiseVal[0]\n",
    "    dAux.h += randNoiseVal[1]\n",
    "    dAux.xtl -= randNoiseVal[0]/2\n",
    "    dAux.ytl -= randNoiseVal[1]/2\n",
    "    dAux.xbr = dAux.xtl + dAux.w\n",
    "    dAux.ybr = dAux.ytl + dAux.h\n",
    "    \n",
    "    return dAux\n",
    "\n",
    "def displacement(d, stdv):\n",
    "    randNoiseVal = np.random.normal(0, stdv, size=(2,))\n",
    "    dAux = copy.deepcopy(d)\n",
    "    dAux.xtl += randNoiseVal[0]\n",
    "    dAux.ytl += randNoiseVal[1]\n",
    "    dAux.xbr = dAux.xtl + dAux.w\n",
    "    dAux.ybr = dAux.ytl + dAux.h\n",
    "    \n",
    "    return dAux"
   ]
  },
  {
   "cell_type": "code",
   "execution_count": 4,
   "metadata": {},
   "outputs": [],
   "source": [
    "def noise(detections, doResize, resizeStdv, doDisplacement, displacementStdv):\n",
    "    newBoxes = {}\n",
    "    for frame, ds, in detections.items():\n",
    "        newBoxes[frame] = []\n",
    "        for d in ds:\n",
    "            if doResize == True:\n",
    "                d = resize(d, resizeStdv)\n",
    "            if doDisplacement == True:\n",
    "                d = displacement(d, displacementStdv)\n",
    "\n",
    "            newBoxes[frame].append(d)\n",
    "\n",
    "    return newBoxes"
   ]
  },
  {
   "cell_type": "markdown",
   "metadata": {},
   "source": [
    "## Functions to delete/generate bounding boxes"
   ]
  },
  {
   "cell_type": "code",
   "execution_count": 5,
   "metadata": {},
   "outputs": [],
   "source": [
    "imgSize = [1920, 1080]\n",
    "minBoxDim = 10\n",
    "maxBoxDim = 200"
   ]
  },
  {
   "cell_type": "code",
   "execution_count": 6,
   "metadata": {},
   "outputs": [],
   "source": [
    "def del_gen(detections, delProb, genProb, genType):\n",
    "    newBoxes = {}\n",
    "\n",
    "    for frame, ds, in detections.items():\n",
    "        newBoxes[frame] = []\n",
    "\n",
    "        # Box deletion\n",
    "        for d in ds:\n",
    "            randNum1 = np.random.rand()\n",
    "            dAux = copy.deepcopy(d)\n",
    "            if randNum1 > delProb:\n",
    "                newBoxes[frame].append(dAux)\n",
    "            else:\n",
    "                pass # Deleted if probability condition is met\n",
    "\n",
    "            # Box generation\n",
    "            randNum2 = np.random.rand()\n",
    "            if randNum2 <= genProb: #Proceed to creation of bounding box if probability condition is met\n",
    "                dNew = copy.deepcopy(dAux)\n",
    "                if genType == \"over\": #Box created as a \"noisy\" version of existing detection\n",
    "                    dNew = resize(dNew)\n",
    "                    dNew = displacement(dNew)\n",
    "                elif genType == \"random\": #Box created based on random placement and size\n",
    "                    dNew.xtl = np.random.uniform(0, imgSize[0]-minBoxDim)\n",
    "                    dNew.ytl = np.random.uniform(0, imgSize[1]-minBoxDim)\n",
    "                    dNew.xbr = np.random.uniform(dNew.xtl+minBoxDim, imgSize[0])\n",
    "                    dNew.ybr = np.random.uniform(dNew.ytl+minBoxDim, imgSize[1])\n",
    "\n",
    "                newBoxes[frame].append(dNew)\n",
    "\n",
    "    return newBoxes"
   ]
  },
  {
   "cell_type": "markdown",
   "metadata": {},
   "source": [
    "## Reading detections"
   ]
  },
  {
   "cell_type": "code",
   "execution_count": 6,
   "metadata": {},
   "outputs": [],
   "source": [
    "gt_detect = readDetections(data_path + 'gt/gt.txt')"
   ]
  },
  {
   "cell_type": "markdown",
   "metadata": {},
   "source": [
    "## Adding noise and generation/deletion of boxes"
   ]
  },
  {
   "cell_type": "code",
   "execution_count": 15,
   "metadata": {},
   "outputs": [],
   "source": [
    "# Adjust settings for alterations:\n",
    "\n",
    "applyNoise = True\n",
    "doResize = True\n",
    "resizeStdv = 30\n",
    "doDisplacement = False\n",
    "displacementStdv = 30\n",
    "\n",
    "applyDelgen = False\n",
    "delProb = 0.1\n",
    "genProb = 0.1\n",
    "genType = \"over\" #Select between over or random"
   ]
  },
  {
   "cell_type": "code",
   "execution_count": 16,
   "metadata": {},
   "outputs": [],
   "source": [
    "def add_alterations(gt_detect, applyNoise, doResize, resizeStdv, doDisplacement, displacementStdv, applyDelgen, delProb, genProb, genType):\n",
    "    gt_altered = gt_detect\n",
    "    if applyNoise == True:\n",
    "        gt_altered = noise(gt_altered, doResize, resizeStdv, doDisplacement, displacementStdv)\n",
    "    if applyDelgen == True:\n",
    "        gt_altered = del_gen(gt_altered, delProb, genProb, genType)\n",
    "    \n",
    "    return gt_altered"
   ]
  },
  {
   "cell_type": "code",
   "execution_count": 17,
   "metadata": {},
   "outputs": [],
   "source": [
    "gt_altered = add_alterations(gt_detect, applyNoise, doResize, resizeStdv, doDisplacement, displacementStdv, applyDelgen, delProb, genProb, genType)"
   ]
  },
  {
   "cell_type": "code",
   "execution_count": 18,
   "metadata": {},
   "outputs": [
    {
     "data": {
      "image/png": "[encoded data removed]",
      "text/plain": [
       "<Figure size 432x288 with 1 Axes>"
      ]
     },
     "metadata": {
      "needs_background": "light"
     },
     "output_type": "display_data"
    }
   ],
   "source": [
    "#solution for noisy GT example\n",
    "rec, prec, ap, tp_Noise = voc_eval(gt_detect, gt_altered, 0.5, True)\n",
    "\n",
    "plot_prec_recall_curve(prec, rec, 'Precision-Recall curve for noised detections')"
   ]
  },
  {
   "cell_type": "code",
   "execution_count": 20,
   "metadata": {},
   "outputs": [
    {
     "name": "stderr",
     "output_type": "stream",
     "text": [
      "100%|██████████████████████████████████████| 2141/2141 [00:19<00:00, 111.18it/s]\n"
     ]
    },
    {
     "ename": "OSError",
     "evalue": "[Errno 28] No space left on device",
     "output_type": "error",
     "traceback": [
      "\u001b[0;31m---------------------------------------------------------------------------\u001b[0m",
      "\u001b[0;31mOSError\u001b[0m                                   Traceback (most recent call last)",
      "\u001b[0;32m/var/folders/h8/jvpg08h90c5bggxybw41glg40000gp/T/ipykernel_5645/3909124911.py\u001b[0m in \u001b[0;36m<module>\u001b[0;34m\u001b[0m\n\u001b[0;32m----> 1\u001b[0;31m \u001b[0mgenerate_videoBB_comparison\u001b[0m\u001b[0;34m(\u001b[0m\u001b[0mdata_path\u001b[0m \u001b[0;34m+\u001b[0m \u001b[0;34m'vdo.avi'\u001b[0m\u001b[0;34m,\u001b[0m \u001b[0mgt_detect\u001b[0m\u001b[0;34m,\u001b[0m \u001b[0mgt_altered\u001b[0m\u001b[0;34m,\u001b[0m \u001b[0;34m'noised_GT'\u001b[0m\u001b[0;34m,\u001b[0m \u001b[0;36m250\u001b[0m\u001b[0;34m,\u001b[0m \u001b[0;36m255\u001b[0m\u001b[0;34m)\u001b[0m\u001b[0;34m\u001b[0m\u001b[0;34m\u001b[0m\u001b[0m\n\u001b[0m",
      "\u001b[0;32m~/Desktop/UAB/M6/Project/week1/video_utils.py\u001b[0m in \u001b[0;36mgenerate_videoBB_comparison\u001b[0;34m(videoPath, gt, predicted, videoName, initialFrame, lastFrame)\u001b[0m\n\u001b[1;32m     59\u001b[0m \u001b[0;34m\u001b[0m\u001b[0m\n\u001b[1;32m     60\u001b[0m     \u001b[0mframe_one\u001b[0m \u001b[0;34m=\u001b[0m \u001b[0mims\u001b[0m\u001b[0;34m[\u001b[0m\u001b[0;36m0\u001b[0m\u001b[0;34m]\u001b[0m\u001b[0;34m\u001b[0m\u001b[0;34m\u001b[0m\u001b[0m\n\u001b[0;32m---> 61\u001b[0;31m     frame_one.save(videoName + \".gif\", format=\"GIF\", append_images=ims,\n\u001b[0m\u001b[1;32m     62\u001b[0m                save_all=True, duration=30, loop=0)\n",
      "\u001b[0;32m~/opt/anaconda3/lib/python3.8/site-packages/PIL/Image.py\u001b[0m in \u001b[0;36msave\u001b[0;34m(self, fp, format, **params)\u001b[0m\n\u001b[1;32m   2233\u001b[0m \u001b[0;34m\u001b[0m\u001b[0m\n\u001b[1;32m   2234\u001b[0m         \u001b[0;32mtry\u001b[0m\u001b[0;34m:\u001b[0m\u001b[0;34m\u001b[0m\u001b[0;34m\u001b[0m\u001b[0m\n\u001b[0;32m-> 2235\u001b[0;31m             \u001b[0msave_handler\u001b[0m\u001b[0;34m(\u001b[0m\u001b[0mself\u001b[0m\u001b[0;34m,\u001b[0m \u001b[0mfp\u001b[0m\u001b[0;34m,\u001b[0m \u001b[0mfilename\u001b[0m\u001b[0;34m)\u001b[0m\u001b[0;34m\u001b[0m\u001b[0;34m\u001b[0m\u001b[0m\n\u001b[0m\u001b[1;32m   2236\u001b[0m         \u001b[0;32mfinally\u001b[0m\u001b[0;34m:\u001b[0m\u001b[0;34m\u001b[0m\u001b[0;34m\u001b[0m\u001b[0m\n\u001b[1;32m   2237\u001b[0m             \u001b[0;31m# do what we can to clean up\u001b[0m\u001b[0;34m\u001b[0m\u001b[0;34m\u001b[0m\u001b[0;34m\u001b[0m\u001b[0m\n",
      "\u001b[0;32m~/opt/anaconda3/lib/python3.8/site-packages/PIL/GifImagePlugin.py\u001b[0m in \u001b[0;36m_save_all\u001b[0;34m(im, fp, filename)\u001b[0m\n\u001b[1;32m    522\u001b[0m \u001b[0;34m\u001b[0m\u001b[0m\n\u001b[1;32m    523\u001b[0m \u001b[0;32mdef\u001b[0m \u001b[0m_save_all\u001b[0m\u001b[0;34m(\u001b[0m\u001b[0mim\u001b[0m\u001b[0;34m,\u001b[0m \u001b[0mfp\u001b[0m\u001b[0;34m,\u001b[0m \u001b[0mfilename\u001b[0m\u001b[0;34m)\u001b[0m\u001b[0;34m:\u001b[0m\u001b[0;34m\u001b[0m\u001b[0;34m\u001b[0m\u001b[0m\n\u001b[0;32m--> 524\u001b[0;31m     \u001b[0m_save\u001b[0m\u001b[0;34m(\u001b[0m\u001b[0mim\u001b[0m\u001b[0;34m,\u001b[0m \u001b[0mfp\u001b[0m\u001b[0;34m,\u001b[0m \u001b[0mfilename\u001b[0m\u001b[0;34m,\u001b[0m \u001b[0msave_all\u001b[0m\u001b[0;34m=\u001b[0m\u001b[0;32mTrue\u001b[0m\u001b[0;34m)\u001b[0m\u001b[0;34m\u001b[0m\u001b[0;34m\u001b[0m\u001b[0m\n\u001b[0m\u001b[1;32m    525\u001b[0m \u001b[0;34m\u001b[0m\u001b[0m\n\u001b[1;32m    526\u001b[0m \u001b[0;34m\u001b[0m\u001b[0m\n",
      "\u001b[0;32m~/opt/anaconda3/lib/python3.8/site-packages/PIL/GifImagePlugin.py\u001b[0m in \u001b[0;36m_save\u001b[0;34m(im, fp, filename, save_all)\u001b[0m\n\u001b[1;32m    533\u001b[0m         \u001b[0mim\u001b[0m\u001b[0;34m.\u001b[0m\u001b[0mencoderinfo\u001b[0m\u001b[0;34m[\u001b[0m\u001b[0;34m\"optimize\"\u001b[0m\u001b[0;34m]\u001b[0m \u001b[0;34m=\u001b[0m \u001b[0mim\u001b[0m\u001b[0;34m.\u001b[0m\u001b[0mencoderinfo\u001b[0m\u001b[0;34m.\u001b[0m\u001b[0mget\u001b[0m\u001b[0;34m(\u001b[0m\u001b[0;34m\"optimize\"\u001b[0m\u001b[0;34m,\u001b[0m \u001b[0;32mTrue\u001b[0m\u001b[0;34m)\u001b[0m\u001b[0;34m\u001b[0m\u001b[0;34m\u001b[0m\u001b[0m\n\u001b[1;32m    534\u001b[0m \u001b[0;34m\u001b[0m\u001b[0m\n\u001b[0;32m--> 535\u001b[0;31m     \u001b[0;32mif\u001b[0m \u001b[0;32mnot\u001b[0m \u001b[0msave_all\u001b[0m \u001b[0;32mor\u001b[0m \u001b[0;32mnot\u001b[0m \u001b[0m_write_multiple_frames\u001b[0m\u001b[0;34m(\u001b[0m\u001b[0mim\u001b[0m\u001b[0;34m,\u001b[0m \u001b[0mfp\u001b[0m\u001b[0;34m,\u001b[0m \u001b[0mpalette\u001b[0m\u001b[0;34m)\u001b[0m\u001b[0;34m:\u001b[0m\u001b[0;34m\u001b[0m\u001b[0;34m\u001b[0m\u001b[0m\n\u001b[0m\u001b[1;32m    536\u001b[0m         \u001b[0m_write_single_frame\u001b[0m\u001b[0;34m(\u001b[0m\u001b[0mim\u001b[0m\u001b[0;34m,\u001b[0m \u001b[0mfp\u001b[0m\u001b[0;34m,\u001b[0m \u001b[0mpalette\u001b[0m\u001b[0;34m)\u001b[0m\u001b[0;34m\u001b[0m\u001b[0;34m\u001b[0m\u001b[0m\n\u001b[1;32m    537\u001b[0m \u001b[0;34m\u001b[0m\u001b[0m\n",
      "\u001b[0;32m~/opt/anaconda3/lib/python3.8/site-packages/PIL/GifImagePlugin.py\u001b[0m in \u001b[0;36m_write_multiple_frames\u001b[0;34m(im, fp, palette)\u001b[0m\n\u001b[1;32m    512\u001b[0m                 \u001b[0mim_frame\u001b[0m \u001b[0;34m=\u001b[0m \u001b[0mim_frame\u001b[0m\u001b[0;34m.\u001b[0m\u001b[0mcrop\u001b[0m\u001b[0;34m(\u001b[0m\u001b[0mframe_data\u001b[0m\u001b[0;34m[\u001b[0m\u001b[0;34m\"bbox\"\u001b[0m\u001b[0;34m]\u001b[0m\u001b[0;34m)\u001b[0m\u001b[0;34m\u001b[0m\u001b[0;34m\u001b[0m\u001b[0m\n\u001b[1;32m    513\u001b[0m                 \u001b[0moffset\u001b[0m \u001b[0;34m=\u001b[0m \u001b[0mframe_data\u001b[0m\u001b[0;34m[\u001b[0m\u001b[0;34m\"bbox\"\u001b[0m\u001b[0;34m]\u001b[0m\u001b[0;34m[\u001b[0m\u001b[0;34m:\u001b[0m\u001b[0;36m2\u001b[0m\u001b[0;34m]\u001b[0m\u001b[0;34m\u001b[0m\u001b[0;34m\u001b[0m\u001b[0m\n\u001b[0;32m--> 514\u001b[0;31m             \u001b[0m_write_frame_data\u001b[0m\u001b[0;34m(\u001b[0m\u001b[0mfp\u001b[0m\u001b[0;34m,\u001b[0m \u001b[0mim_frame\u001b[0m\u001b[0;34m,\u001b[0m \u001b[0moffset\u001b[0m\u001b[0;34m,\u001b[0m \u001b[0mframe_data\u001b[0m\u001b[0;34m[\u001b[0m\u001b[0;34m\"encoderinfo\"\u001b[0m\u001b[0;34m]\u001b[0m\u001b[0;34m)\u001b[0m\u001b[0;34m\u001b[0m\u001b[0;34m\u001b[0m\u001b[0m\n\u001b[0m\u001b[1;32m    515\u001b[0m         \u001b[0;32mreturn\u001b[0m \u001b[0;32mTrue\u001b[0m\u001b[0;34m\u001b[0m\u001b[0;34m\u001b[0m\u001b[0m\n\u001b[1;32m    516\u001b[0m     elif \"duration\" in im.encoderinfo and isinstance(\n",
      "\u001b[0;32m~/opt/anaconda3/lib/python3.8/site-packages/PIL/GifImagePlugin.py\u001b[0m in \u001b[0;36m_write_frame_data\u001b[0;34m(fp, im_frame, offset, params)\u001b[0m\n\u001b[1;32m    830\u001b[0m         \u001b[0m_write_local_header\u001b[0m\u001b[0;34m(\u001b[0m\u001b[0mfp\u001b[0m\u001b[0;34m,\u001b[0m \u001b[0mim_frame\u001b[0m\u001b[0;34m,\u001b[0m \u001b[0moffset\u001b[0m\u001b[0;34m,\u001b[0m \u001b[0;36m0\u001b[0m\u001b[0;34m)\u001b[0m\u001b[0;34m\u001b[0m\u001b[0;34m\u001b[0m\u001b[0m\n\u001b[1;32m    831\u001b[0m \u001b[0;34m\u001b[0m\u001b[0m\n\u001b[0;32m--> 832\u001b[0;31m         ImageFile._save(\n\u001b[0m\u001b[1;32m    833\u001b[0m             \u001b[0mim_frame\u001b[0m\u001b[0;34m,\u001b[0m \u001b[0mfp\u001b[0m\u001b[0;34m,\u001b[0m \u001b[0;34m[\u001b[0m\u001b[0;34m(\u001b[0m\u001b[0;34m\"gif\"\u001b[0m\u001b[0;34m,\u001b[0m \u001b[0;34m(\u001b[0m\u001b[0;36m0\u001b[0m\u001b[0;34m,\u001b[0m \u001b[0;36m0\u001b[0m\u001b[0;34m)\u001b[0m \u001b[0;34m+\u001b[0m \u001b[0mim_frame\u001b[0m\u001b[0;34m.\u001b[0m\u001b[0msize\u001b[0m\u001b[0;34m,\u001b[0m \u001b[0;36m0\u001b[0m\u001b[0;34m,\u001b[0m \u001b[0mRAWMODE\u001b[0m\u001b[0;34m[\u001b[0m\u001b[0mim_frame\u001b[0m\u001b[0;34m.\u001b[0m\u001b[0mmode\u001b[0m\u001b[0;34m]\u001b[0m\u001b[0;34m)\u001b[0m\u001b[0;34m]\u001b[0m\u001b[0;34m\u001b[0m\u001b[0;34m\u001b[0m\u001b[0m\n\u001b[1;32m    834\u001b[0m         )\n",
      "\u001b[0;32m~/opt/anaconda3/lib/python3.8/site-packages/PIL/ImageFile.py\u001b[0m in \u001b[0;36m_save\u001b[0;34m(im, fp, tile, bufsize)\u001b[0m\n\u001b[1;32m    534\u001b[0m                 \u001b[0ml\u001b[0m\u001b[0;34m,\u001b[0m \u001b[0ms\u001b[0m \u001b[0;34m=\u001b[0m \u001b[0me\u001b[0m\u001b[0;34m.\u001b[0m\u001b[0mencode_to_pyfd\u001b[0m\u001b[0;34m(\u001b[0m\u001b[0;34m)\u001b[0m\u001b[0;34m\u001b[0m\u001b[0;34m\u001b[0m\u001b[0m\n\u001b[1;32m    535\u001b[0m             \u001b[0;32melse\u001b[0m\u001b[0;34m:\u001b[0m\u001b[0;34m\u001b[0m\u001b[0;34m\u001b[0m\u001b[0m\n\u001b[0;32m--> 536\u001b[0;31m                 \u001b[0ms\u001b[0m \u001b[0;34m=\u001b[0m \u001b[0me\u001b[0m\u001b[0;34m.\u001b[0m\u001b[0mencode_to_file\u001b[0m\u001b[0;34m(\u001b[0m\u001b[0mfh\u001b[0m\u001b[0;34m,\u001b[0m \u001b[0mbufsize\u001b[0m\u001b[0;34m)\u001b[0m\u001b[0;34m\u001b[0m\u001b[0;34m\u001b[0m\u001b[0m\n\u001b[0m\u001b[1;32m    537\u001b[0m             \u001b[0;32mif\u001b[0m \u001b[0ms\u001b[0m \u001b[0;34m<\u001b[0m \u001b[0;36m0\u001b[0m\u001b[0;34m:\u001b[0m\u001b[0;34m\u001b[0m\u001b[0;34m\u001b[0m\u001b[0m\n\u001b[1;32m    538\u001b[0m                 \u001b[0;32mraise\u001b[0m \u001b[0mOSError\u001b[0m\u001b[0;34m(\u001b[0m\u001b[0;34mf\"encoder error {s} when writing image file\"\u001b[0m\u001b[0;34m)\u001b[0m\u001b[0;34m\u001b[0m\u001b[0;34m\u001b[0m\u001b[0m\n",
      "\u001b[0;31mOSError\u001b[0m: [Errno 28] No space left on device"
     ]
    }
   ],
   "source": [
    "generate_videoBB_comparison(data_path + 'vdo.avi', gt_detect, gt_altered, 'noised_GT', 250, 255)"
   ]
  },
  {
   "cell_type": "markdown",
   "metadata": {},
   "source": [
    "## Evaluating mAP for Mask RCNN, SSD512 and Yolo3"
   ]
  },
  {
   "cell_type": "code",
   "execution_count": 7,
   "metadata": {},
   "outputs": [],
   "source": [
    "yolo3_dect = readDetections(data_path + 'det/det_yolo3.txt')"
   ]
  },
  {
   "cell_type": "code",
   "execution_count": null,
   "metadata": {},
   "outputs": [],
   "source": [
    "rec, prec, ap, tp_yolo3 = voc_eval(gt_detect, yolo3_dect, 0.5, False)\n",
    "\n",
    "plot_prec_recall_curve(prec, rec, f'Precision-Recall curve for yolo3 detections - AP {ap}')"
   ]
  },
  {
   "cell_type": "code",
   "execution_count": 12,
   "metadata": {},
   "outputs": [],
   "source": [
    "ssd512_dect = readDetections(data_path + 'det/det_ssd512.txt')"
   ]
  },
  {
   "cell_type": "code",
   "execution_count": null,
   "metadata": {},
   "outputs": [],
   "source": [
    "rec, prec, ap, tp_SSD512 = voc_eval(gt_detect, ssd512_dect, 0.5, True)\n",
    "\n",
    "plot_prec_recall_curve(prec, rec, f'Precision-Recall curve for ssd512 detections - AP {ap}')"
   ]
  },
  {
   "cell_type": "markdown",
   "metadata": {},
   "source": [
    "## Multiple random shuffle of predictions for cases without confidence values"
   ]
  },
  {
   "cell_type": "code",
   "execution_count": null,
   "metadata": {},
   "outputs": [],
   "source": [
    "N = 10\n",
    "recs, precs, aps = ap_wo_conf(gt_detect, yolo3_dect, N, 0.5)\n",
    "print(f'Average precision {np.mean(aps)}')\n",
    "labels = [('Random trial ' + str(i)) for i in range(N)]\n",
    "plot_multiple_prec_recall_curves(precs, recs, labels)"
   ]
  },
  {
   "cell_type": "markdown",
   "metadata": {},
   "source": [
    "None vs Confidence vs N shuffles"
   ]
  },
  {
   "cell_type": "code",
   "execution_count": 13,
   "metadata": {},
   "outputs": [
    {
     "name": "stdout",
     "output_type": "stream",
     "text": [
      "Average precision 0.257205863040101\n"
     ]
    },
    {
     "data": {
      "image/png": "[encoded data removed]",
      "text/plain": [
       "<Figure size 432x288 with 1 Axes>"
      ]
     },
     "metadata": {
      "needs_background": "light"
     },
     "output_type": "display_data"
    }
   ],
   "source": [
    "#No confidence\n",
    "rec_nc, prec_nc, ap_nc, _ = voc_eval(gt_detect, yolo3_dect, 0.5, False)\n",
    "\n",
    "#No confidence but multiple shuffles\n",
    "N = 10\n",
    "recs, precs, aps = ap_wo_conf(gt_detect, yolo3_dect, N, 0.5)\n",
    "print(f'Average precision {np.mean(aps)}')\n",
    "precs_array = np.array(precs)\n",
    "precs_average = np.mean(precs, axis=0)\n",
    "\n",
    "#Confiedence\n",
    "rec_c, prec_c, ap_c, _ = voc_eval(gt_detect, yolo3_dect, 0.5, True)\n",
    "\n",
    "\n",
    "plot_multiple_prec_recall_curves([prec_nc, precs_average, prec_c], recs[0:3], ['No confidence', f'{N}-Shuffle', 'Confidence'], 'YOLO3 Precision comparison')"
   ]
  },
  {
   "cell_type": "code",
   "execution_count": null,
   "metadata": {},
   "outputs": [],
   "source": [
    "#No confidence\n",
    "rec_nc, prec_nc, ap_nc, _ = voc_eval(gt_detect, ssd512_dect, 0.5, False)\n",
    "\n",
    "#No confidence but multiple shuffles\n",
    "N = 10\n",
    "recs, precs, aps = ap_wo_conf(gt_detect, ssd512_dect, N, 0.5)\n",
    "print(f'Average precision {np.mean(aps)}')\n",
    "precs_array = np.array(precs)\n",
    "precs_average = np.mean(precs, axis=0)\n",
    "\n",
    "#Confiedence\n",
    "rec_c, prec_c, ap_c, _ = voc_eval(gt_detect, ssd512_dect, 0.5, True)\n",
    "\n",
    "\n",
    "plot_multiple_prec_recall_curves([prec_nc, precs_average, prec_c], recs[0:3], ['No confidence', f'{N}-Shuffle', 'Confidence'], 'YOLO3 Precision comparison')"
   ]
  }
 ],
 "metadata": {
  "interpreter": {
   "hash": "2bc29f060ed23a123f6d9ca4fac8af0775aca92f5b2f5a596f9ae7b118c743e6"
  },
  "kernelspec": {
   "display_name": "Python 3 (ipykernel)",
   "language": "python",
   "name": "python3"
  },
  "language_info": {
   "codemirror_mode": {
    "name": "ipython",
    "version": 3
   },
   "file_extension": ".py",
   "mimetype": "text/x-python",
   "name": "python",
   "nbconvert_exporter": "python",
   "pygments_lexer": "ipython3",
   "version": "3.8.8"
  }
 },
 "nbformat": 4,
 "nbformat_minor": 2
}
