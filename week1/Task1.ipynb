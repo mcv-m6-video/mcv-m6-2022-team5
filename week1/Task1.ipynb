{
 "cells": [
  {
   "cell_type": "markdown",
   "metadata": {},
   "source": [
    "## Imports and data path"
   ]
  },
  {
   "cell_type": "code",
   "execution_count": 1,
   "metadata": {
    "scrolled": true
   },
   "outputs": [],
   "source": [
    "%load_ext autoreload\n",
    "%reload_ext autoreload\n",
    "from VehicleDetection import VehicleDetection\n",
    "import os\n",
    "import cv2\n",
    "import numpy as np\n",
    "import matplotlib.pyplot as plt\n",
    "import random\n",
    "import copy\n",
    "import statistics\n",
    "from eval_utils import *\n",
    "from video_utils import *\n",
    "from load_utils import *\n",
    "\n",
    "data_path = '../../datasets/AICity_data/train/S03/c010/'"
   ]
  },
  {
   "cell_type": "markdown",
   "metadata": {},
   "source": [
    "## Functions to add noise in box size & placement"
   ]
  },
  {
   "cell_type": "code",
   "execution_count": 2,
   "metadata": {},
   "outputs": [],
   "source": [
    "def resize(d, stdv):\n",
    "    randNoiseVal = np.random.normal(0, stdv, size=(2,))\n",
    "    dAux = copy.deepcopy(d)\n",
    "    dAux.w += randNoiseVal[0]\n",
    "    dAux.h += randNoiseVal[1]\n",
    "    dAux.xtl -= randNoiseVal[0]/2\n",
    "    dAux.ytl -= randNoiseVal[1]/2\n",
    "    dAux.xbr = dAux.xtl + dAux.w\n",
    "    dAux.ybr = dAux.ytl + dAux.h\n",
    "    \n",
    "    return dAux\n",
    "\n",
    "def displacement(d, stdv):\n",
    "    randNoiseVal = np.random.normal(0, stdv, size=(2,))\n",
    "    dAux = copy.deepcopy(d)\n",
    "    dAux.xtl += randNoiseVal[0]\n",
    "    dAux.ytl += randNoiseVal[1]\n",
    "    dAux.xbr = dAux.xtl + dAux.w\n",
    "    dAux.ybr = dAux.ytl + dAux.h\n",
    "    \n",
    "    return dAux"
   ]
  },
  {
   "cell_type": "code",
   "execution_count": 3,
   "metadata": {},
   "outputs": [],
   "source": [
    "def noise(detections, doResize, resizeStdv, doDisplacement, displacementStdv):\n",
    "    newBoxes = {}\n",
    "    for frame, ds, in detections.items():\n",
    "        newBoxes[frame] = []\n",
    "        for d in ds:\n",
    "            if doResize == True:\n",
    "                d = resize(d, resizeStdv)\n",
    "            if doDisplacement == True:\n",
    "                d = displacement(d, displacementStdv)\n",
    "\n",
    "            newBoxes[frame].append(d)\n",
    "\n",
    "    return newBoxes"
   ]
  },
  {
   "cell_type": "markdown",
   "metadata": {},
   "source": [
    "## Functions to delete/generate bounding boxes"
   ]
  },
  {
   "cell_type": "code",
   "execution_count": 4,
   "metadata": {},
   "outputs": [],
   "source": [
    "imgSize = [1920, 1080]\n",
    "minBoxDim = 10\n",
    "maxBoxDim = 200"
   ]
  },
  {
   "cell_type": "code",
   "execution_count": 5,
   "metadata": {},
   "outputs": [],
   "source": [
    "def del_gen(detections, delProb, genProb, genType, resizeStdv, displacementStdv):\n",
    "    newBoxes = {}\n",
    "\n",
    "    for frame, ds, in detections.items():\n",
    "        newBoxes[frame] = []\n",
    "\n",
    "        # Box deletion\n",
    "        for d in ds:\n",
    "            randNum1 = np.random.rand()\n",
    "            dAux = copy.deepcopy(d)\n",
    "            if randNum1 > delProb:\n",
    "                newBoxes[frame].append(dAux)\n",
    "            else:\n",
    "                pass # Deleted if probability condition is met\n",
    "\n",
    "            # Box generation\n",
    "            randNum2 = np.random.rand()\n",
    "            if randNum2 <= genProb: #Proceed to creation of bounding box if probability condition is met\n",
    "                dNew = copy.deepcopy(dAux)\n",
    "                if genType == \"over\": #Box created as a \"noisy\" version of existing detection\n",
    "                    dNew = resize(dNew, resizeStdv)\n",
    "                    dNew = displacement(dNew, displacementStdv)\n",
    "                elif genType == \"random\": #Box created based on random placement and size\n",
    "                    dNew.xtl = np.random.uniform(0, imgSize[0]-minBoxDim)\n",
    "                    dNew.ytl = np.random.uniform(0, imgSize[1]-minBoxDim)\n",
    "                    dNew.xbr = np.random.uniform(dNew.xtl+minBoxDim, imgSize[0])\n",
    "                    dNew.ybr = np.random.uniform(dNew.ytl+minBoxDim, imgSize[1])\n",
    "\n",
    "                newBoxes[frame].append(dNew)\n",
    "\n",
    "    return newBoxes"
   ]
  },
  {
   "cell_type": "markdown",
   "metadata": {},
   "source": [
    "## Reading detections"
   ]
  },
  {
   "cell_type": "code",
   "execution_count": 6,
   "metadata": {},
   "outputs": [],
   "source": [
    "# gt_detect = readDetections(data_path + 'gt/gt.txt')\n",
    "gt_detect = readDetectionsXML('ai_challenge_s03_c010-full_annotation.xml')"
   ]
  },
  {
   "cell_type": "markdown",
   "metadata": {},
   "source": [
    "## Adding noise and generation/deletion of boxes"
   ]
  },
  {
   "cell_type": "code",
   "execution_count": 7,
   "metadata": {},
   "outputs": [],
   "source": [
    "# Adjust settings for alterations:\n",
    "\n",
    "applyNoise = True\n",
    "doResize = True\n",
    "resizeStdv = 30\n",
    "doDisplacement = False\n",
    "displacementStdv = 30\n",
    "\n",
    "applyDelgen = False\n",
    "delProb = 0.1\n",
    "genProb = 0.1\n",
    "genType = \"over\" #Select between over or random"
   ]
  },
  {
   "cell_type": "code",
   "execution_count": 20,
   "metadata": {},
   "outputs": [],
   "source": [
    "def add_alterations(gt_detect, applyNoise = False, doResize = False, resizeStdv = 0, doDisplacement = False, displacementStdv = 0, applyDelgen = False, delProb = 0, genProb = 0, genType = \"over\"):\n",
    "    gt_altered = gt_detect\n",
    "    if applyNoise == True:\n",
    "        gt_altered = noise(gt_altered, doResize, resizeStdv, doDisplacement, displacementStdv)\n",
    "    if applyDelgen == True:\n",
    "        gt_altered = del_gen(gt_altered, delProb, genProb, genType, resizeStdv, displacementStdv)\n",
    "    \n",
    "    return gt_altered"
   ]
  },
  {
   "cell_type": "code",
   "execution_count": 38,
   "metadata": {},
   "outputs": [],
   "source": [
    "gt_altered = add_alterations(gt_detect, applyNoise, doResize, resizeStdv, doDisplacement, displacementStdv, applyDelgen, delProb, genProb, genType)"
   ]
  },
  {
   "cell_type": "markdown",
   "metadata": {},
   "source": [
    "### Example results for \"noisy\" case"
   ]
  },
  {
   "cell_type": "code",
   "execution_count": 52,
   "metadata": {},
   "outputs": [
    {
     "name": "stdout",
     "output_type": "stream",
     "text": [
      "mIoU: 1.0\n",
      "mAP: 1.0000000000000002\n"
     ]
    },
    {
     "data": {
      "image/png": "[encoded data removed]",
      "text/plain": [
       "<Figure size 432x288 with 1 Axes>"
      ]
     },
     "metadata": {
      "needs_background": "light"
     },
     "output_type": "display_data"
    }
   ],
   "source": [
    "#solution for noisy GT example\n",
    "rec, prec, ap, tp_Noise, IoU_tp = voc_eval(gt_detect, gt_altered, 0.5, True)\n",
    "\n",
    "#Calculating mIoU:\n",
    "def mIoU_calc(IoU_tp):\n",
    "    mIoU = 0\n",
    "    mIoUPerFrame = []\n",
    "    count = 0\n",
    "    for fr, values in IoU_tp.items():\n",
    "        mIoU += np.sum(values)\n",
    "        count += len(values)\n",
    "        mIoUPerFrame.append(np.mean(values))\n",
    "    try:\n",
    "        mIoU /= count\n",
    "    except:\n",
    "        mIoU = 0\n",
    "    return mIoU\n",
    "\n",
    "print(f'mIoU: {mIoU_calc(IoU_tp)}')\n",
    "\n",
    "#Calculating mAP:\n",
    "print(f'mAP: {ap}')\n",
    "\n",
    "plot_prec_recall_curve(prec, rec, 'Precision-Recall curve for noised detections')"
   ]
  },
  {
   "cell_type": "markdown",
   "metadata": {},
   "source": [
    "### Testing different stdvs for Resize only"
   ]
  },
  {
   "cell_type": "code",
   "execution_count": 51,
   "metadata": {},
   "outputs": [
    {
     "ename": "ValueError",
     "evalue": "not enough values to unpack (expected 6, got 5)",
     "output_type": "error",
     "traceback": [
      "\u001b[0;31m---------------------------------------------------------------------------\u001b[0m",
      "\u001b[0;31mValueError\u001b[0m                                Traceback (most recent call last)",
      "\u001b[0;32m/var/folders/h8/jvpg08h90c5bggxybw41glg40000gp/T/ipykernel_17754/2639898302.py\u001b[0m in \u001b[0;36m<module>\u001b[0;34m\u001b[0m\n\u001b[1;32m      6\u001b[0m \u001b[0;32mfor\u001b[0m \u001b[0mstdv\u001b[0m \u001b[0;32min\u001b[0m \u001b[0mstdvs\u001b[0m\u001b[0;34m:\u001b[0m\u001b[0;34m\u001b[0m\u001b[0;34m\u001b[0m\u001b[0m\n\u001b[1;32m      7\u001b[0m     \u001b[0mgt_altered\u001b[0m \u001b[0;34m=\u001b[0m \u001b[0mgt_altered\u001b[0m \u001b[0;34m=\u001b[0m \u001b[0madd_alterations\u001b[0m\u001b[0;34m(\u001b[0m\u001b[0mgt_detect\u001b[0m\u001b[0;34m,\u001b[0m \u001b[0mapplyNoise\u001b[0m \u001b[0;34m=\u001b[0m \u001b[0;32mTrue\u001b[0m\u001b[0;34m,\u001b[0m \u001b[0mdoResize\u001b[0m \u001b[0;34m=\u001b[0m \u001b[0;32mTrue\u001b[0m\u001b[0;34m,\u001b[0m \u001b[0mresizeStdv\u001b[0m \u001b[0;34m=\u001b[0m \u001b[0mstdv\u001b[0m\u001b[0;34m)\u001b[0m\u001b[0;34m\u001b[0m\u001b[0;34m\u001b[0m\u001b[0m\n\u001b[0;32m----> 8\u001b[0;31m     \u001b[0mrec\u001b[0m\u001b[0;34m,\u001b[0m \u001b[0mprec\u001b[0m\u001b[0;34m,\u001b[0m \u001b[0map\u001b[0m\u001b[0;34m,\u001b[0m \u001b[0mtp_Noise\u001b[0m\u001b[0;34m,\u001b[0m \u001b[0mIoU\u001b[0m\u001b[0;34m,\u001b[0m \u001b[0mIoU_tp\u001b[0m \u001b[0;34m=\u001b[0m \u001b[0mvoc_eval\u001b[0m\u001b[0;34m(\u001b[0m\u001b[0mgt_detect\u001b[0m\u001b[0;34m,\u001b[0m \u001b[0mgt_altered\u001b[0m\u001b[0;34m,\u001b[0m \u001b[0;36m0.5\u001b[0m\u001b[0;34m,\u001b[0m \u001b[0;32mTrue\u001b[0m\u001b[0;34m)\u001b[0m\u001b[0;34m\u001b[0m\u001b[0;34m\u001b[0m\u001b[0m\n\u001b[0m\u001b[1;32m      9\u001b[0m     \u001b[0mmIoUlist\u001b[0m\u001b[0;34m.\u001b[0m\u001b[0mappend\u001b[0m\u001b[0;34m(\u001b[0m\u001b[0mmIoU_calc\u001b[0m\u001b[0;34m(\u001b[0m\u001b[0mIoU\u001b[0m\u001b[0;34m)\u001b[0m\u001b[0;34m)\u001b[0m\u001b[0;34m\u001b[0m\u001b[0;34m\u001b[0m\u001b[0m\n\u001b[1;32m     10\u001b[0m     \u001b[0mmAPlist\u001b[0m\u001b[0;34m.\u001b[0m\u001b[0mappend\u001b[0m\u001b[0;34m(\u001b[0m\u001b[0map\u001b[0m\u001b[0;34m)\u001b[0m\u001b[0;34m\u001b[0m\u001b[0;34m\u001b[0m\u001b[0m\n",
      "\u001b[0;31mValueError\u001b[0m: not enough values to unpack (expected 6, got 5)"
     ]
    }
   ],
   "source": [
    "# Testing different standard deviation values (only resize)\n",
    "stdvs = range(0, 210, 10)\n",
    "mIoUlist = []\n",
    "mAPlist = []\n",
    "\n",
    "for stdv in stdvs:\n",
    "    gt_altered = gt_altered = add_alterations(gt_detect, applyNoise = True, doResize = True, resizeStdv = stdv)\n",
    "    rec, prec, ap, tp_Noise, IoU, IoU_tp = voc_eval(gt_detect, gt_altered, 0.5, True)\n",
    "    mIoUlist.append(mIoU_calc(IoU))\n",
    "    mAPlist.append(ap)\n",
    "\n",
    "plt.plot(stdvs, mIoUlist, 'r', label='mIoU')\n",
    "plt.plot(stdvs, mAPlist, 'b', label='mAP')\n",
    "plt.xlabel(\"stdv_w=stdv_h\")\n",
    "plt.legend()\n",
    "plt.show()"
   ]
  },
  {
   "cell_type": "markdown",
   "metadata": {},
   "source": [
    "### Testing different stdvs for Displacement only"
   ]
  },
  {
   "cell_type": "code",
   "execution_count": 31,
   "metadata": {},
   "outputs": [
    {
     "data": {
      "image/png": "[encoded data removed]",
      "text/plain": [
       "<Figure size 432x288 with 1 Axes>"
      ]
     },
     "metadata": {
      "needs_background": "light"
     },
     "output_type": "display_data"
    }
   ],
   "source": [
    "stdvs = range(0, 210, 10)\n",
    "mIoUlist = []\n",
    "mAPlist = []\n",
    "\n",
    "for stdv in stdvs:\n",
    "    gt_altered = gt_altered = add_alterations(gt_detect, applyNoise = True, doDisplacement = True, displacementStdv = stdv)\n",
    "    rec, prec, ap, tp_Noise, IoU_tp = voc_eval(gt_detect, gt_altered, 0.5, True)\n",
    "    mIoUlist.append(mIoU_calc(IoU_tp))\n",
    "    mAPlist.append(ap)\n",
    "\n",
    "plt.plot(stdvs, mIoUlist, 'r', label='mIoU')\n",
    "plt.plot(stdvs, mAPlist, 'b', label='mAP')\n",
    "plt.xlabel(\"stdv_x=stdv_y\")\n",
    "plt.legend()\n",
    "plt.show()"
   ]
  },
  {
   "cell_type": "markdown",
   "metadata": {},
   "source": [
    "### Testing different probabilities for box Deletion only"
   ]
  },
  {
   "cell_type": "code",
   "execution_count": 48,
   "metadata": {},
   "outputs": [
    {
     "data": {
      "image/png": "[encoded data removed]",
      "text/plain": [
       "<Figure size 432x288 with 1 Axes>"
      ]
     },
     "metadata": {
      "needs_background": "light"
     },
     "output_type": "display_data"
    }
   ],
   "source": [
    "probs = [x * 0.01 for x in range(0, 105, 5)]\n",
    "mIoUlist = []\n",
    "mAPlist = []\n",
    "\n",
    "for prob in probs:\n",
    "    gt_altered = gt_altered = add_alterations(gt_detect, applyDelgen = True, delProb = prob)\n",
    "    rec, prec, ap, tp_Noise, IoU_tp = voc_eval(gt_detect, gt_altered, 0.5, True)\n",
    "    mIoUlist.append(mIoU_calc(IoU_tp))\n",
    "    mAPlist.append(ap)\n",
    "\n",
    "plt.plot(probs, mIoUlist, 'r', label='mIoU')\n",
    "plt.plot(probs, mAPlist, 'b', label='mAP')\n",
    "plt.xlabel(\"probDel\")\n",
    "plt.legend()\n",
    "plt.show()"
   ]
  },
  {
   "cell_type": "markdown",
   "metadata": {},
   "source": [
    "### Testing different probabilities for box Generation (over existing boxes) only"
   ]
  },
  {
   "cell_type": "code",
   "execution_count": null,
   "metadata": {},
   "outputs": [],
   "source": [
    "probs = [x * 0.01 for x in range(0, 105, 5)]\n",
    "mIoUlist = []\n",
    "mAPlist = []\n",
    "\n",
    "for prob in probs:\n",
    "    gt_altered = gt_altered = add_alterations(gt_detect, applyDelgen = True, delProb = prob)\n",
    "    rec, prec, ap, tp_Noise, IoU_tp = voc_eval(gt_detect, gt_altered, 0.5, True)\n",
    "    mIoUlist.append(mIoU_calc(IoU_tp))\n",
    "    mAPlist.append(ap)\n",
    "\n",
    "plt.plot(probs, mIoUlist, 'r', label='mIoU')\n",
    "plt.plot(probs, mAPlist, 'b', label='mAP')\n",
    "plt.xlabel(\"probDel\")\n",
    "plt.legend()\n",
    "plt.show()"
   ]
  },
  {
   "cell_type": "code",
   "execution_count": null,
   "metadata": {},
   "outputs": [],
   "source": [
    "# generate_videoBB_comparison(data_path + 'vdo.avi', gt_detect, gt_altered, 'noised_GT', 250, 255)"
   ]
  },
  {
   "cell_type": "markdown",
   "metadata": {},
   "source": [
    "## Evaluating mAP for Mask RCNN, SSD512 and Yolo3"
   ]
  },
  {
   "cell_type": "code",
   "execution_count": null,
   "metadata": {},
   "outputs": [],
   "source": [
    "yolo3_dect = readDetections(data_path + 'det/det_yolo3.txt')"
   ]
  },
  {
   "cell_type": "code",
   "execution_count": null,
   "metadata": {},
   "outputs": [],
   "source": [
    "rec, prec, ap, tp_yolo3 = voc_eval(gt_detect, yolo3_dect, 0.5, False)\n",
    "\n",
    "plot_prec_recall_curve(prec, rec, f'Precision-Recall curve for yolo3 detections - AP {ap}')"
   ]
  },
  {
   "cell_type": "code",
   "execution_count": null,
   "metadata": {},
   "outputs": [],
   "source": [
    "ssd512_dect = readDetections(data_path + 'det/det_ssd512.txt')"
   ]
  },
  {
   "cell_type": "code",
   "execution_count": null,
   "metadata": {},
   "outputs": [],
   "source": [
    "rec, prec, ap, tp_SSD512 = voc_eval(gt_detect, ssd512_dect, 0.5, True)\n",
    "\n",
    "plot_prec_recall_curve(prec, rec, f'Precision-Recall curve for ssd512 detections - AP {ap}')"
   ]
  },
  {
   "cell_type": "code",
   "execution_count": null,
   "metadata": {},
   "outputs": [],
   "source": [
    "mask_rcnn_dect = readDetections(data_path + 'det/det_mask_rcnn.txt')"
   ]
  },
  {
   "cell_type": "code",
   "execution_count": null,
   "metadata": {},
   "outputs": [],
   "source": [
    "rec, prec, ap, tp_mask_rcnn = voc_eval(gt_detect, mask_rcnn_dect, 0.5, True)\n",
    "\n",
    "plot_prec_recall_curve(prec, rec, f'Precision-Recall curve for Mask RCNN detections - AP {ap}')"
   ]
  },
  {
   "cell_type": "markdown",
   "metadata": {},
   "source": [
    "## Multiple random shuffle of predictions for cases without confidence values"
   ]
  },
  {
   "cell_type": "code",
   "execution_count": null,
   "metadata": {},
   "outputs": [],
   "source": [
    "N = 10\n",
    "recs, precs, aps = ap_wo_conf(gt_detect, yolo3_dect, N, 0.5)\n",
    "print(f'Average precision {np.mean(aps)}')\n",
    "labels = [('Random trial ' + str(i)) for i in range(N)]\n",
    "plot_multiple_prec_recall_curves(precs, recs, labels)"
   ]
  },
  {
   "cell_type": "markdown",
   "metadata": {},
   "source": [
    "None vs Confidence vs N shuffles"
   ]
  },
  {
   "cell_type": "code",
   "execution_count": null,
   "metadata": {},
   "outputs": [],
   "source": [
    "#No confidence\n",
    "rec_nc, prec_nc, ap_nc, _ = voc_eval(gt_detect, yolo3_dect, 0.5, False)\n",
    "\n",
    "#No confidence but multiple shuffles\n",
    "N = 10\n",
    "recs, precs, aps = ap_wo_conf(gt_detect, yolo3_dect, N, 0.5)\n",
    "print(f'Average precision {np.mean(aps)}')\n",
    "precs_array = np.array(precs)\n",
    "precs_average = np.mean(precs, axis=0)\n",
    "\n",
    "#Confiedence\n",
    "rec_c, prec_c, ap_c, _ = voc_eval(gt_detect, yolo3_dect, 0.5, True)\n",
    "\n",
    "\n",
    "plot_multiple_prec_recall_curves([prec_nc, precs_average, prec_c], recs[0:3], ['No confidence', f'{N}-Shuffle', 'Confidence'], 'YOLO3 Precision comparison')"
   ]
  },
  {
   "cell_type": "code",
   "execution_count": null,
   "metadata": {},
   "outputs": [],
   "source": [
    "#No confidence\n",
    "rec_nc, prec_nc, ap_nc, _ = voc_eval(gt_detect, ssd512_dect, 0.5, False)\n",
    "\n",
    "#No confidence but multiple shuffles\n",
    "N = 10\n",
    "recs, precs, aps = ap_wo_conf(gt_detect, ssd512_dect, N, 0.5)\n",
    "print(f'Average precision {np.mean(aps)}')\n",
    "precs_array = np.array(precs)\n",
    "precs_average = np.mean(precs, axis=0)\n",
    "\n",
    "#Confiedence\n",
    "rec_c, prec_c, ap_c, _ = voc_eval(gt_detect, ssd512_dect, 0.5, True)\n",
    "\n",
    "\n",
    "plot_multiple_prec_recall_curves([prec_nc, precs_average, prec_c], recs[0:3], ['No confidence', f'{N}-Shuffle', 'Confidence'], 'YOLO3 Precision comparison')"
   ]
  },
  {
   "cell_type": "code",
   "execution_count": null,
   "metadata": {},
   "outputs": [],
   "source": [
    "# generate_videoBB_comparison(data_path + 'vdo.avi', tp_SSD512, tp_SSD512, 'noised_GT', 1, 500)"
   ]
  }
 ],
 "metadata": {
  "interpreter": {
   "hash": "2bc29f060ed23a123f6d9ca4fac8af0775aca92f5b2f5a596f9ae7b118c743e6"
  },
  "kernelspec": {
   "display_name": "Python 3 (ipykernel)",
   "language": "python",
   "name": "python3"
  },
  "language_info": {
   "codemirror_mode": {
    "name": "ipython",
    "version": 3
   },
   "file_extension": ".py",
   "mimetype": "text/x-python",
   "name": "python",
   "nbconvert_exporter": "python",
   "pygments_lexer": "ipython3",
   "version": "3.8.8"
  }
 },
 "nbformat": 4,
 "nbformat_minor": 2
}
