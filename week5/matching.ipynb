{
 "cells": [
  {
   "cell_type": "markdown",
   "metadata": {},
   "source": [
    "## Imports"
   ]
  },
  {
   "cell_type": "code",
   "execution_count": 7,
   "metadata": {},
   "outputs": [
    {
     "name": "stdout",
     "output_type": "stream",
     "text": [
      "{}\n"
     ]
    }
   ],
   "source": [
    "import pickle\n",
    "import matching_utils"
   ]
  },
  {
   "cell_type": "markdown",
   "metadata": {},
   "source": [
    "## Load detections"
   ]
  },
  {
   "cell_type": "code",
   "execution_count": null,
   "metadata": {},
   "outputs": [],
   "source": [
    "# Open the file in binary mode\n",
    "with open('/home/group05/mcv-m6-2022-team5/week5/sort_bbox_seq3_c13.pkl', 'rb') as file:\n",
    "      \n",
    "    # Call load method to deserialze\n",
    "    myvar = pickle.load(file)\n",
    "  \n",
    "    print(myvar)"
   ]
  }
 ],
 "metadata": {
  "interpreter": {
   "hash": "8a06b03c6bfe6118fa541b7052cbbb3273904788e7ba2b479b6ba2f1ee0ca0d0"
  },
  "kernelspec": {
   "display_name": "Python 3.7.4 ('M5env')",
   "language": "python",
   "name": "python3"
  },
  "language_info": {
   "codemirror_mode": {
    "name": "ipython",
    "version": 3
   },
   "file_extension": ".py",
   "mimetype": "text/x-python",
   "name": "python",
   "nbconvert_exporter": "python",
   "pygments_lexer": "ipython3",
   "version": "3.7.4"
  },
  "orig_nbformat": 4
 },
 "nbformat": 4,
 "nbformat_minor": 2
}
