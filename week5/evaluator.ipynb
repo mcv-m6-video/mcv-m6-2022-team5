{
 "cells": [
  {
   "cell_type": "code",
   "execution_count": 1,
   "metadata": {},
   "outputs": [],
   "source": [
    "import cv2\n",
    "import numpy as np\n",
    "import pandas as pd\n",
    "import pickle as pkl\n",
    "import imageio\n",
    "from tqdm import tqdm\n",
    "from tracking_utils import *\n",
    "import pickle as pkl\n",
    "from load_utils import *\n",
    "from eval_utils import *\n",
    "from sort import *\n",
    "from VehicleDetection import *"
   ]
  },
  {
   "cell_type": "code",
   "execution_count": 2,
   "metadata": {},
   "outputs": [],
   "source": [
    "# SELECT USED MODEL\n",
    "model = 'faster'\n",
    "\n",
    "# SELECT SEQUENCE TO EVALUATE\n",
    "S = 'seq1'\n",
    "\n",
    "# SELECT CAMERA TO EVALUATE\n",
    "C = 'c03'\n",
    "\n",
    "# SET NUMBER OF FRAMES\n",
    "num_frames = int(readFrameCount(S, C))"
   ]
  },
  {
   "cell_type": "code",
   "execution_count": 4,
   "metadata": {},
   "outputs": [],
   "source": [
    "# Load GT detections\n",
    "gt_detect_path = f'./cam_pred_gt/{S}_{C}_gt.pkl'\n",
    "\n",
    "# Load computed detections\n",
    "detection_path = f'./cam_pred/{S}_{model}_{C}_wt07.pkl'\n",
    "\n",
    "with open(detection_path, 'rb') as f:\n",
    "    all_detections = pkl.load(f)\n",
    "\n",
    "with open(gt_detect_path, 'rb') as f:\n",
    "    all_gt_detections = pkl.load(f)"
   ]
  },
  {
   "cell_type": "markdown",
   "metadata": {},
   "source": [
    "## Box intersection tracking"
   ]
  },
  {
   "cell_type": "code",
   "execution_count": 4,
   "metadata": {},
   "outputs": [],
   "source": [
    "def update_track3(detections_pd, previous_detections_pd, tolerance = 0.5, of = None, imgs = None):\n",
    "    detections_pd['updated'] = False\n",
    "    detections_pd = detections_pd.reset_index(drop=True)\n",
    "\n",
    "    previous_tracks = []\n",
    "\n",
    "    for index, previous_detection in previous_detections_pd.iterrows():\n",
    "        # Calculating IoUs\n",
    "        IoUlist = []\n",
    "\n",
    "        length, _ = detections_pd.shape\n",
    "\n",
    "        for i in range(length):\n",
    "            IoU = previous_detection['detection'].IoU(detections_pd.iloc[i]['detection'])\n",
    "            IoUlist.append(IoU)\n",
    "\n",
    "        indexMax = IoUlist.index(max(IoUlist))\n",
    "\n",
    "        # Updating detection tracks based on best IoU matches\n",
    "        if max(IoUlist) > tolerance and detections_pd.at[indexMax, 'updated'] != True:\n",
    "            detections_pd.at[indexMax, 'track'] = previous_detection['track']\n",
    "            detections_pd.at[indexMax, 'colour'] = previous_detection['colour']\n",
    "            for line in previous_detection['line']:\n",
    "                if line != detections_pd.at[indexMax,'line'][0]:\n",
    "                    detections_pd.at[indexMax,'line'].append(line)\n",
    "            detections_pd.at[indexMax, 'updated'] = True\n",
    "\n",
    "        previous_tracks.append(previous_detection['track'])\n",
    "\n",
    "    # Create new tracks for unmatched detections\n",
    "    idxs = detections_pd.index[detections_pd['updated'] == False].tolist()\n",
    "    track_check = max(previous_tracks)+1\n",
    "    for ind in idxs:\n",
    "        detections_pd.at[ind, 'track'] = track_check\n",
    "        track_check += 1\n",
    "            \n",
    "    return detections_pd"
   ]
  },
  {
   "cell_type": "code",
   "execution_count": 5,
   "metadata": {},
   "outputs": [
    {
     "name": "stderr",
     "output_type": "stream",
     "text": [
      "100%|██████████| 1995/1995 [01:06<00:00, 29.99it/s] \n"
     ]
    }
   ],
   "source": [
    "detection_history = []\n",
    "\n",
    "# Get the first frame\n",
    "detections_prev_pd = get_detection_dataframe(all_detections['0'], firstFrame = True)\n",
    "\n",
    "# Pre-process the first frame if needed\n",
    "detections_prev_pd = remove_overlaps(detections_prev_pd, 0.85)\n",
    "detection_history.append(detections_prev_pd)\n",
    "\n",
    "past_frame = 0\n",
    "\n",
    "for frame in tqdm(range(1, num_frames)):\n",
    "    current_frame = frame\n",
    "\n",
    "    detections_pd = get_detection_dataframe(all_detections[str(frame)])\n",
    "    detections_pd = remove_overlaps(detections_pd, 0.85)\n",
    "    detections_pd = update_track3(detections_pd, detections_prev_pd, tolerance=0.2, imgs=[past_frame, current_frame])\n",
    "    detection_history.append(detections_pd)\n",
    "    detections_prev_pd = detections_pd\n",
    "\n",
    "    past_frame = current_frame\n",
    "\n",
    "pkl.dump(detection_history, open(f'./tracking_results/tracking_history_{S}_{C}.pkl', 'wb'))"
   ]
  },
  {
   "cell_type": "code",
   "execution_count": 6,
   "metadata": {},
   "outputs": [],
   "source": [
    "detections = {}\n",
    "with open(f'./tracking_results/tracking_history_{S}_{C}.pkl','rb') as openFile:\n",
    "    detections = pkl.load(openFile)"
   ]
  },
  {
   "cell_type": "markdown",
   "metadata": {},
   "source": [
    "## Kalman"
   ]
  },
  {
   "cell_type": "code",
   "execution_count": 24,
   "metadata": {},
   "outputs": [
    {
     "name": "stderr",
     "output_type": "stream",
     "text": [
      "Tracking objects each frame...: 100%|██████████| 1996/1996 [00:29<00:00, 68.17it/s] \n"
     ]
    }
   ],
   "source": [
    "# Load video frames\n",
    "results = {}\n",
    "\n",
    "mot_tracker = Sort(max_age=10, min_hits=3, iou_threshold=0.3) # Sort Kalman tracker with default values\n",
    "\n",
    "# Iterate Frames\n",
    "for frame in tqdm(range(num_frames), desc = \"Tracking objects each frame...\"):\n",
    "    dets = []\n",
    "\n",
    "    detections = get_detection_dataframe(all_detections[str(frame)], iclLineAndUpdate = False, firstFrame = True).sort_values(\"track\") # Load detections\n",
    "    detections = remove_overlaps(detections, 0.85)\n",
    "\n",
    "    for (track_id, det, bbox, size, colour) in detections.itertuples(index=False): # Iter All Detections\n",
    "        dets.append(np.array(bbox))\n",
    "\n",
    "    trackers = mot_tracker.update(np.array(dets)) # Update tracker with current detections\n",
    "\n",
    "    for d in trackers: # Store new bboxes\n",
    "        d = d.astype(np.int32)\n",
    "        if frame not in results:\n",
    "            results[frame] = {d[4] % 100: {\"bbox\": [d[0], d[1], d[2], d[3]]}}\n",
    "        else:\n",
    "            results[frame][d[4] % 100] = {\"bbox\": [d[0], d[1], d[2], d[3]]}\n",
    "\n",
    "            \n",
    "# Save Results to Disk\n",
    "pkl.dump(results, open(f\"./tracking_results/sort_bbox_{S}_{C}.pkl\", \"wb\"))"
   ]
  },
  {
   "cell_type": "code",
   "execution_count": 25,
   "metadata": {},
   "outputs": [],
   "source": [
    "# Pkl to pd.DataFrame\n",
    "colours = np.random.rand(100, 3) #Generate Random Colors\n",
    "old_pkl = pkl.load(open(f\"./tracking_results/sort_bbox_{S}_{C}.pkl\", \"rb\"))\n",
    "new_pkl = []\n",
    "df = None\n",
    "\n",
    "for frame in old_pkl.keys():\n",
    "    new_data = {\"frame\": [],\"track\": [], \"bbox\": [], \"colour\": [], \"size\": [], \"detection\": []}\n",
    "    old_data = old_pkl[frame]\n",
    "    \n",
    "    for track_id in old_data.keys():\n",
    "        new_data[\"track\"].append(track_id)\n",
    "        bbox = old_data[track_id][\"bbox\"]\n",
    "        new_data[\"bbox\"].append(bbox)\n",
    "        new_data[\"frame\"].append(\"Frame {}\".format(frame))\n",
    "        new_data[\"colour\"].append(np.round(colours[track_id]*255).astype(np.uint8))\n",
    "        new_data[\"size\"].append(int(np.abs(bbox[0] - bbox[2]) * np.abs(bbox[1] - bbox[3])))\n",
    "        new_data[\"detection\"].append(VehicleDetection(frame=frame, ID=track_id, width=np.abs(bbox[0] - bbox[2]), conf=0.5,\n",
    "                                                      height=np.abs(bbox[1] - bbox[3]), left=bbox[0], right=bbox[2], top=bbox[1], bot=bbox[3]))\n",
    "    \n",
    "    df = pd.DataFrame.from_dict(new_data).sort_values(by=\"track\")\n",
    "\n",
    "    new_pkl.append(df)\n",
    "\n",
    "pkl.dump(new_pkl, open(f\"./tracking_results/kalman_tracking_{S}_{C}.pkl\", \"wb\"))"
   ]
  },
  {
   "cell_type": "code",
   "execution_count": 26,
   "metadata": {},
   "outputs": [],
   "source": [
    "detections = {}\n",
    "with open(f'./tracking_results/kalman_tracking_{S}_{C}.pkl','rb') as openFile:\n",
    "    detections = pkl.load(openFile)"
   ]
  },
  {
   "cell_type": "markdown",
   "metadata": {},
   "source": [
    "## Evaluation"
   ]
  },
  {
   "cell_type": "code",
   "execution_count": 27,
   "metadata": {},
   "outputs": [],
   "source": [
    "total_frames = num_frames\n",
    "initial_frame = 0"
   ]
  },
  {
   "cell_type": "markdown",
   "metadata": {},
   "source": [
    "### Post-processing on tracked detections"
   ]
  },
  {
   "cell_type": "code",
   "execution_count": 28,
   "metadata": {},
   "outputs": [],
   "source": [
    "# Checking minimum width and height of ground truth box detections\n",
    "minW_gt = np.inf\n",
    "minH_gt = np.inf\n",
    "\n",
    "for frame in all_gt_detections:\n",
    "    for detection in all_gt_detections[frame]:\n",
    "        if detection.w < minW_gt:\n",
    "            minW_gt = detection.w\n",
    "        if detection.h < minH_gt:\n",
    "            minH_gt = detection.h\n",
    "\n",
    "# Removing detections that are under these minimum values (minus an optional margin)\n",
    "i = initial_frame\n",
    "\n",
    "minW = 1.00*minW_gt\n",
    "minH = 1.00*minH_gt\n",
    "\n",
    "while i < total_frames:\n",
    "    for index, detection in detections[i].iterrows():\n",
    "        indxs_to_erase = []\n",
    "        if detection['detection'].w < minW and detection['detection'].h < minH:\n",
    "            indxs_to_erase.append(index)\n",
    "        detections[i].drop(indxs_to_erase, inplace = True)\n",
    "    detections[i] = detections[i].reset_index(drop=True)\n",
    "    i += 1"
   ]
  },
  {
   "cell_type": "code",
   "execution_count": 29,
   "metadata": {},
   "outputs": [],
   "source": [
    "# Discarding box detections that are in contact with the video's edges\n",
    "video_path = '../../AICity_data/train/S01/c003/vdo.avi' #MAKE ADAPTIVE\n",
    "vidcap = cv2.VideoCapture(video_path)\n",
    "_, image = vidcap.read()\n",
    "\n",
    "i = initial_frame\n",
    "while i < total_frames:\n",
    "    for index, detection in detections[i].iterrows():\n",
    "        indxs_to_erase = []\n",
    "        if detection['detection'].xtl < 15 or detection['detection'].xbr > image.shape[1]-15 or detection['detection'].ytl < 15 or detection['detection'].ybr > image.shape[0]-15:\n",
    "            indxs_to_erase.append(index)\n",
    "        detections[i].drop(indxs_to_erase, inplace = True)\n",
    "    detections[i] = detections[i].reset_index(drop=True)\n",
    "    i += 1"
   ]
  },
  {
   "cell_type": "code",
   "execution_count": 30,
   "metadata": {},
   "outputs": [],
   "source": [
    "# Discarding tracks with less than 5 frames of duration\n",
    "min_frames = 5\n",
    "\n",
    "i = initial_frame + 1\n",
    "\n",
    "detections[0]['life'] = 1\n",
    "\n",
    "while i < total_frames:\n",
    "    detections[i]['life'] = 1\n",
    "    length, _ = detections[i].shape\n",
    "    \n",
    "    for j in range(length):\n",
    "\n",
    "        continuity = False\n",
    "\n",
    "        track = detections[i].iloc[j]['track']\n",
    "\n",
    "        for index_prev, detection_prev in detections[i-1].iterrows():\n",
    "            if track == detection_prev['track']:\n",
    "                detections[i].at[j, 'life'] = detection_prev['life'] + 1\n",
    "\n",
    "        try:\n",
    "            for index_next, detection_next in detections[i+1].iterrows():\n",
    "                if track == detection_next['track']:\n",
    "                    continuity = True\n",
    "        except:\n",
    "            pass\n",
    "\n",
    "        if continuity == False and detections[i].iloc[j]['life'] < min_frames:\n",
    "            a = detections[i].iloc[j]['life']-1\n",
    "\n",
    "            while a >= 0:\n",
    "                track_index = detections[i-int(a)].index[detections[i-int(a)]['track'] == track].tolist()\n",
    "                detections[i-int(a)].at[track_index, 'life'] = -1\n",
    "                a -= 1\n",
    "\n",
    "    detections[i] = detections[i][detections[i]['life'] != -1]\n",
    "\n",
    "    # indexes_to_drop = detections[i].index[detections[i]['life'] == -1].tolist()\n",
    "    # detections[i].drop(indexes_to_drop, inplace = True)\n",
    "    # detections[i] = detections[i].reset_index(drop=True)\n",
    "\n",
    "    i += 1"
   ]
  },
  {
   "cell_type": "code",
   "execution_count": 31,
   "metadata": {},
   "outputs": [],
   "source": [
    "# Discarding tracks that remain static throughout the entire sequence\n",
    "tracks_to_discard = []\n",
    "\n",
    "for detection in detections[total_frames-1].iterrows():\n",
    "    track = detection[1]['track']\n",
    "    detection_final = detection[1]['detection']\n",
    "\n",
    "    if track in detections[0]['track']:\n",
    "        detection_initial = detections[0][detections[0]['track'] == track]['detection']\n",
    "        IoU_with_first_instance = detection_initial.IoU(detection_final)\n",
    "        if IoU_with_first_instance > 0.5:\n",
    "            tracks_to_discard.append(track)"
   ]
  },
  {
   "cell_type": "code",
   "execution_count": 32,
   "metadata": {},
   "outputs": [
    {
     "name": "stderr",
     "output_type": "stream",
     "text": [
      "100%|██████████| 1996/1996 [00:19<00:00, 99.89it/s] "
     ]
    },
    {
     "name": "stdout",
     "output_type": "stream",
     "text": [
      "seq1 c03 results:\n",
      "     num_frames  precision    recall       idp       idr      idf1\n",
      "acc        1996   0.861887  0.869104  0.739166  0.745354  0.742247\n"
     ]
    },
    {
     "name": "stderr",
     "output_type": "stream",
     "text": [
      "\n"
     ]
    }
   ],
   "source": [
    "acc = create_accumulator()\n",
    "\n",
    "for frame in tqdm(range(initial_frame, total_frames)):\n",
    "    detections[frame] = detections[frame][detections[frame]['life'] != -1]\n",
    "    for track_to_discard in tracks_to_discard:\n",
    "        detections[frame] = detections[frame][detections[frame]['track'] != track_to_discard]\n",
    "    acc, frame_id = tracking_acc(frame, all_gt_detections, detections, acc, max_iou=1)\n",
    "\n",
    "print(f'{S} {C} results:')\n",
    "display_metrics(acc)"
   ]
  },
  {
   "cell_type": "markdown",
   "metadata": {},
   "source": [
    "## GIF generation"
   ]
  },
  {
   "cell_type": "code",
   "execution_count": 13,
   "metadata": {},
   "outputs": [],
   "source": [
    "video_path = '../../AICity_data/train/S01/c003/vdo.avi'"
   ]
  },
  {
   "cell_type": "code",
   "execution_count": 35,
   "metadata": {},
   "outputs": [],
   "source": [
    "# SHOW GROUND TRUTH\n",
    "s_gt = True\n",
    "\n",
    "# SHOW DETECTIONS\n",
    "s_detections = True\n",
    "\n",
    "# SHOW TRACKS\n",
    "s_tracks = False"
   ]
  },
  {
   "cell_type": "code",
   "execution_count": 36,
   "metadata": {},
   "outputs": [
    {
     "name": "stderr",
     "output_type": "stream",
     "text": [
      "100%|██████████| 399/399 [00:04<00:00, 83.46it/s]\n"
     ]
    }
   ],
   "source": [
    "# Generating a tracking GIF for a frame interval\n",
    "gif1 = True\n",
    "initial_gif_frame = 0 #700\n",
    "final_gif_frame = 400 #750\n",
    "scaling = 0.5\n",
    "\n",
    "ims = []\n",
    "\n",
    "vidcap = cv2.VideoCapture(video_path)\n",
    "vidcap.set(1,initial_gif_frame)\n",
    "\n",
    "if gif1:\n",
    "    _, initial_image = vidcap.read()\n",
    "\n",
    "    for i in tqdm(range(initial_gif_frame+1, final_gif_frame)):\n",
    "        _, image = vidcap.read()\n",
    "\n",
    "        detections_pd = get_detection_dataframe(all_detections[str(i)])\n",
    "\n",
    "        gt_detections_pd = get_detection_dataframe(all_gt_detections[str(i+1)])\n",
    "\n",
    "        image = cv2.cvtColor(image, cv2.COLOR_BGR2RGB)\n",
    "\n",
    "        # Plot ground truth in blue\n",
    "        if s_gt == True:\n",
    "            for index, row in gt_detections_pd.iterrows():\n",
    "                image = drawTrackingOnImage(image, row['bbox'], colour=(0, 0, 255), showTracking = False)\n",
    "\n",
    "        # Plot current detections in green\n",
    "        if s_detections == True:\n",
    "            for index, row in detections_pd.iterrows():\n",
    "                image = drawTrackingOnImage(image, row['bbox'], colour=(0, 255, 0), showTracking = False)\n",
    "\n",
    "        # Plot tracks in different colors\n",
    "        if s_tracks == True:\n",
    "            for index, row in detections[i].iterrows():\n",
    "                image = drawTrackingOnImage(image, row['bbox'], track=row['track'], colour=row['colour'])\n",
    "            \n",
    "        image = cv2.resize(image, (int(image.shape[1]*scaling), int(image.shape[0]*scaling)), interpolation = cv2.INTER_AREA)\n",
    "\n",
    "        ims.append(image)\n",
    "\n",
    "    imageio.mimsave('tracking.gif', ims, fps=20, duration = 0.3)"
   ]
  }
 ],
 "metadata": {
  "interpreter": {
   "hash": "2bc29f060ed23a123f6d9ca4fac8af0775aca92f5b2f5a596f9ae7b118c743e6"
  },
  "kernelspec": {
   "display_name": "Python 3.8.12 ('Torch')",
   "language": "python",
   "name": "python3"
  },
  "language_info": {
   "codemirror_mode": {
    "name": "ipython",
    "version": 3
   },
   "file_extension": ".py",
   "mimetype": "text/x-python",
   "name": "python",
   "nbconvert_exporter": "python",
   "pygments_lexer": "ipython3",
   "version": "3.9.7"
  },
  "orig_nbformat": 4
 },
 "nbformat": 4,
 "nbformat_minor": 2
}
