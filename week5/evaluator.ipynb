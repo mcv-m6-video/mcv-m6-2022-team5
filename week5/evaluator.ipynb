{
 "cells": [
  {
   "cell_type": "code",
   "execution_count": 1,
   "metadata": {},
   "outputs": [],
   "source": [
    "import cv2\n",
    "import numpy as np\n",
    "import pandas as pd\n",
    "import pickle as pkl\n",
    "import imageio\n",
    "from matplotlib import pyplot as plt\n",
    "from tqdm import tqdm\n",
    "from tracking_utils import *\n",
    "import matplotlib.animation as animation\n",
    "import pickle as pkl\n",
    "from load_utils import *\n",
    "from eval_utils import *\n",
    "from sort import *\n",
    "from VehicleDetection import *"
   ]
  },
  {
   "cell_type": "code",
   "execution_count": 2,
   "metadata": {},
   "outputs": [],
   "source": [
    "import warnings\n",
    "warnings.filterwarnings(\"ignore\")"
   ]
  },
  {
   "cell_type": "code",
   "execution_count": 3,
   "metadata": {},
   "outputs": [],
   "source": [
    "# SELECT USED MODEL\n",
    "model = 'faster'\n",
    "\n",
    "# SELECT SEQUENCE TO EVALUATE\n",
    "S = 'seq1'\n",
    "\n",
    "# SELECT CAMERA TO EVALUATE\n",
    "C = 'c03'\n",
    "\n",
    "# SET NUMBER OF FRAMES\n",
    "num_frames = int(readFrameCount(S, C))"
   ]
  },
  {
   "cell_type": "code",
   "execution_count": 4,
   "metadata": {},
   "outputs": [],
   "source": [
    "# Load GT detections\n",
    "gt_detect_path = f'./cam_pred_gt/{S}_{C}_gt.pkl'\n",
    "\n",
    "# Load computed detections\n",
    "detection_path = f'./cam_pred/{S}_{model}_{C}.pkl'\n",
    "\n",
    "with open(detection_path, 'rb') as f:\n",
    "    all_detections = pkl.load(f)\n",
    "\n",
    "with open(gt_detect_path, 'rb') as f:\n",
    "    all_gt_detections = pkl.load(f)\n"
   ]
  },
  {
   "cell_type": "markdown",
   "metadata": {},
   "source": [
    "## Box intersection tracking"
   ]
  },
  {
   "cell_type": "code",
   "execution_count": 6,
   "metadata": {},
   "outputs": [],
   "source": [
    "def update_track3(detections_pd, previous_detections_pd, tolerance = 0.5, of = None, imgs = None):\n",
    "    detections_pd['updated'] = False\n",
    "    detections_pd = detections_pd.reset_index(drop=True)\n",
    "\n",
    "    previous_tracks = []\n",
    "\n",
    "    for index, previous_detection in previous_detections_pd.iterrows():\n",
    "        # Calculating IoUs\n",
    "        IoUlist = []\n",
    "\n",
    "        length, _ = detections_pd.shape\n",
    "\n",
    "        for i in range(length):\n",
    "            IoU = previous_detection['detection'].IoU(detections_pd.iloc[i]['detection'])\n",
    "            IoUlist.append(IoU)\n",
    "\n",
    "        indexMax = IoUlist.index(max(IoUlist))\n",
    "\n",
    "        # Updating detection tracks based on best IoU matches\n",
    "        if max(IoUlist) > tolerance and detections_pd.at[indexMax, 'updated'] != True:\n",
    "            detections_pd.at[indexMax, 'track'] = previous_detection['track']\n",
    "            detections_pd.at[indexMax, 'colour'] = previous_detection['colour']\n",
    "            for line in previous_detection['line']:\n",
    "                if line != detections_pd.at[indexMax,'line'][0]:\n",
    "                    detections_pd.at[indexMax,'line'].append(line)\n",
    "            detections_pd.at[indexMax, 'updated'] = True\n",
    "\n",
    "        previous_tracks.append(previous_detection['track'])\n",
    "\n",
    "    # Create new tracks for unmatched detections\n",
    "    idxs = detections_pd.index[detections_pd['updated'] == False].tolist()\n",
    "    track_check = 1\n",
    "    for ind in idxs:\n",
    "        while track_check in previous_tracks:\n",
    "            track_check += 1\n",
    "        detections_pd.at[ind, 'track'] = track_check\n",
    "        previous_tracks.append(track_check)\n",
    "            \n",
    "    return detections_pd"
   ]
  },
  {
   "cell_type": "code",
   "execution_count": 7,
   "metadata": {},
   "outputs": [
    {
     "name": "stderr",
     "output_type": "stream",
     "text": [
      "100%|██████████| 1995/1995 [00:37<00:00, 53.70it/s] \n"
     ]
    }
   ],
   "source": [
    "detection_history = []\n",
    "\n",
    "# Get the first frame\n",
    "detections_prev_pd = get_detection_dataframe(all_detections['0'], firstFrame = True)\n",
    "\n",
    "# Pre-process the first frame if needed\n",
    "#detections_prev_pd = remove_overlaps(detections_prev_pd, 0.9)\n",
    "detection_history.append(detections_prev_pd)\n",
    "\n",
    "past_frame = 0\n",
    "\n",
    "for frame in tqdm(range(1, num_frames)):\n",
    "    current_frame = frame\n",
    "\n",
    "    detections_pd = get_detection_dataframe(all_detections[str(frame)])\n",
    "    #detections_pd = remove_overlaps(detections_pd, 0.9)\n",
    "    detections_pd = update_track3(detections_pd, detections_prev_pd, tolerance=0.0, imgs=[past_frame, current_frame])\n",
    "    detection_history.append(detections_pd)\n",
    "    detections_prev_pd = detections_pd\n",
    "\n",
    "    past_frame = current_frame\n",
    "\n",
    "pkl.dump(detection_history, open(f'./tracking_results/tracking_history_{S}_{C}.pkl', 'wb'))"
   ]
  },
  {
   "cell_type": "code",
   "execution_count": 8,
   "metadata": {},
   "outputs": [],
   "source": [
    "detections = {}\n",
    "with open(f'./tracking_results/tracking_history_{S}_{C}.pkl','rb') as openFile:\n",
    "    detections = pkl.load(openFile)"
   ]
  },
  {
   "cell_type": "markdown",
   "metadata": {},
   "source": [
    "## Kalman"
   ]
  },
  {
   "cell_type": "code",
   "execution_count": 8,
   "metadata": {},
   "outputs": [
    {
     "name": "stderr",
     "output_type": "stream",
     "text": [
      "Tracking objects each frame...: 100%|██████████| 1996/1996 [00:10<00:00, 197.40it/s]\n"
     ]
    }
   ],
   "source": [
    "# Load video frames\n",
    "results = {}\n",
    "\n",
    "mot_tracker = Sort(max_age=10, min_hits=3, iou_threshold=0.3) # Sort Kalman tracker with default values\n",
    "\n",
    "# Iterate Frames\n",
    "for frame in tqdm(range(num_frames), desc = \"Tracking objects each frame...\"):\n",
    "    dets = []\n",
    "\n",
    "    detections = get_detection_dataframe(all_detections[str(frame)], iclLineAndUpdate = False, firstFrame = True).sort_values(\"track\") # Load detections\n",
    "\n",
    "    for (track_id, det, bbox, size, colour) in detections.itertuples(index=False): # Iter All Detections\n",
    "        dets.append(np.array(bbox))\n",
    "\n",
    "    trackers = mot_tracker.update(np.array(dets)) # Update tracker with current detections\n",
    "\n",
    "    for d in trackers: # Store new bboxes\n",
    "        d = d.astype(np.int32)\n",
    "        if frame not in results:\n",
    "            results[frame] = {d[4] % 100: {\"bbox\": [d[0], d[1], d[2], d[3]]}}\n",
    "        else:\n",
    "            results[frame][d[4] % 100] = {\"bbox\": [d[0], d[1], d[2], d[3]]}\n",
    "\n",
    "            \n",
    "# Save Results to Disk\n",
    "pkl.dump(results, open(f\"./tracking_results/sort_bbox_{S}_{C}.pkl\", \"wb\"))"
   ]
  },
  {
   "cell_type": "code",
   "execution_count": 9,
   "metadata": {},
   "outputs": [],
   "source": [
    "# Pkl to pd.DataFrame\n",
    "colours = np.random.rand(100, 3) #Generate Random Colors\n",
    "old_pkl = pkl.load(open(f\"./tracking_results/sort_bbox_{S}_{C}.pkl\", \"rb\"))\n",
    "new_pkl = []\n",
    "df = None\n",
    "\n",
    "for frame in old_pkl.keys():\n",
    "    new_data = {\"frame\": [],\"track\": [], \"bbox\": [], \"colour\": [], \"size\": [], \"detection\": []}\n",
    "    old_data = old_pkl[frame]\n",
    "    \n",
    "    for track_id in old_data.keys():\n",
    "        new_data[\"track\"].append(track_id)\n",
    "        bbox = old_data[track_id][\"bbox\"]\n",
    "        new_data[\"bbox\"].append(bbox)\n",
    "        new_data[\"frame\"].append(\"Frame {}\".format(frame))\n",
    "        new_data[\"colour\"].append(np.round(colours[track_id]*255).astype(np.uint8))\n",
    "        new_data[\"size\"].append(int(np.abs(bbox[0] - bbox[2]) * np.abs(bbox[1] - bbox[3])))\n",
    "        new_data[\"detection\"].append(VehicleDetection(frame=frame, ID=track_id, width=np.abs(bbox[0] - bbox[2]), conf=0.5,\n",
    "                                                      height=np.abs(bbox[1] - bbox[3]), left=bbox[0], right=bbox[2], top=bbox[1], bot=bbox[3]))\n",
    "    \n",
    "    df = pd.DataFrame.from_dict(new_data).sort_values(by=\"track\")\n",
    "\n",
    "    new_pkl.append(df)\n",
    "\n",
    "pkl.dump(new_pkl, open(f\"./tracking_results/kalman_tracking_{S}_{C}.pkl\", \"wb\"))"
   ]
  },
  {
   "cell_type": "code",
   "execution_count": 21,
   "metadata": {},
   "outputs": [],
   "source": [
    "detections = {}\n",
    "with open(f'./tracking_results/kalman_tracking_{S}_{C}.pkl','rb') as openFile:\n",
    "    detections = pkl.load(openFile)"
   ]
  },
  {
   "cell_type": "markdown",
   "metadata": {},
   "source": [
    "## Evaluation"
   ]
  },
  {
   "cell_type": "code",
   "execution_count": 9,
   "metadata": {},
   "outputs": [],
   "source": [
    "total_frames = num_frames\n",
    "initial_frame = 0"
   ]
  },
  {
   "cell_type": "markdown",
   "metadata": {},
   "source": [
    "### Post-processing on tracked detections"
   ]
  },
  {
   "cell_type": "code",
   "execution_count": 10,
   "metadata": {},
   "outputs": [],
   "source": [
    "# Checking minimum width and height of ground truth box detections\n",
    "minW_gt = np.inf\n",
    "minH_gt = np.inf\n",
    "\n",
    "for frame in all_gt_detections:\n",
    "    for detection in all_gt_detections[frame]:\n",
    "        if detection.w < minW_gt:\n",
    "            minW_gt = detection.w\n",
    "        if detection.h < minH_gt:\n",
    "            minH_gt = detection.h\n",
    "\n",
    "# Removing detections that are under these minimum values (minus an optional margin)\n",
    "i = initial_frame\n",
    "\n",
    "minW = 1.00*minW_gt\n",
    "minH = 1.00*minH_gt\n",
    "\n",
    "while i < total_frames:\n",
    "    for index, detection in detections[i].iterrows():\n",
    "        indxs_to_erase = []\n",
    "        if detection['detection'].w < minW and detection['detection'].h < minH:\n",
    "            indxs_to_erase.append(index)\n",
    "        detections[i].drop(indxs_to_erase, inplace = True)\n",
    "    i += 1"
   ]
  },
  {
   "cell_type": "code",
   "execution_count": 11,
   "metadata": {},
   "outputs": [],
   "source": [
    "# Discarding tracks with less than 5 frames of duration\n",
    "i = initial_frame + 1\n",
    "\n",
    "detections[0]['life'] = 0\n",
    "\n",
    "while i < total_frames:\n",
    "    detections[i]['life'] = 0\n",
    "    length, _ = detections[i].shape\n",
    "    \n",
    "    for j in range(length):\n",
    "        track = detections[i].iloc[j]['track']\n",
    "\n",
    "        for index_prev, detection_prev in detections[i-1].iterrows():\n",
    "            if track == detection_prev['track']:\n",
    "                detections[i].at[j, 'life'] = detection_prev['life'] + 1\n",
    "    i += 1"
   ]
  },
  {
   "cell_type": "code",
   "execution_count": 14,
   "metadata": {},
   "outputs": [
    {
     "data": {
      "text/html": [
       "<div>\n",
       "<style scoped>\n",
       "    .dataframe tbody tr th:only-of-type {\n",
       "        vertical-align: middle;\n",
       "    }\n",
       "\n",
       "    .dataframe tbody tr th {\n",
       "        vertical-align: top;\n",
       "    }\n",
       "\n",
       "    .dataframe thead th {\n",
       "        text-align: right;\n",
       "    }\n",
       "</style>\n",
       "<table border=\"1\" class=\"dataframe\">\n",
       "  <thead>\n",
       "    <tr style=\"text-align: right;\">\n",
       "      <th></th>\n",
       "      <th>track</th>\n",
       "      <th>detection</th>\n",
       "      <th>bbox</th>\n",
       "      <th>size</th>\n",
       "      <th>line</th>\n",
       "      <th>colour</th>\n",
       "      <th>updated</th>\n",
       "      <th>opt_flow</th>\n",
       "      <th>life</th>\n",
       "    </tr>\n",
       "  </thead>\n",
       "  <tbody>\n",
       "    <tr>\n",
       "      <th>0</th>\n",
       "      <td>1</td>\n",
       "      <td>Frame 780, TL [1387.57421875,668.7413330078125...</td>\n",
       "      <td>[1387, 668, 1909, 1076]</td>\n",
       "      <td>213212</td>\n",
       "      <td>[(1648, 872), (1652, 872), (1653, 872), (1652,...</td>\n",
       "      <td>(199, 231, 103)</td>\n",
       "      <td>True</td>\n",
       "      <td>0</td>\n",
       "      <td>32</td>\n",
       "    </tr>\n",
       "    <tr>\n",
       "      <th>1</th>\n",
       "      <td>9</td>\n",
       "      <td>Frame 780, TL [1365.433349609375,219.195556640...</td>\n",
       "      <td>[1365, 219, 1494, 322]</td>\n",
       "      <td>13403</td>\n",
       "      <td>[(1429, 270), (1436, 274), (1441, 279), (1444,...</td>\n",
       "      <td>(138, 11, 116)</td>\n",
       "      <td>True</td>\n",
       "      <td>0</td>\n",
       "      <td>39</td>\n",
       "    </tr>\n",
       "    <tr>\n",
       "      <th>2</th>\n",
       "      <td>7</td>\n",
       "      <td>Frame 780, TL [666.788818359375,220.7062835693...</td>\n",
       "      <td>[666, 220, 766, 319]</td>\n",
       "      <td>9941</td>\n",
       "      <td>[(716, 269), (716, 270), (717, 269), (717, 270...</td>\n",
       "      <td>(169, 232, 176)</td>\n",
       "      <td>True</td>\n",
       "      <td>0</td>\n",
       "      <td>70</td>\n",
       "    </tr>\n",
       "    <tr>\n",
       "      <th>3</th>\n",
       "      <td>4</td>\n",
       "      <td>Frame 780, TL [480.0438537597656,248.885604858...</td>\n",
       "      <td>[480, 248, 590, 336]</td>\n",
       "      <td>9649</td>\n",
       "      <td>[(535, 292), (535, 293), (535, 291), (535, 290...</td>\n",
       "      <td>(75, 230, 195)</td>\n",
       "      <td>True</td>\n",
       "      <td>0</td>\n",
       "      <td>32</td>\n",
       "    </tr>\n",
       "    <tr>\n",
       "      <th>4</th>\n",
       "      <td>6</td>\n",
       "      <td>Frame 780, TL [840.200927734375,202.0245208740...</td>\n",
       "      <td>[840, 202, 937, 296]</td>\n",
       "      <td>9185</td>\n",
       "      <td>[(888, 249), (888, 248), (889, 247), (888, 247...</td>\n",
       "      <td>(158, 233, 239)</td>\n",
       "      <td>True</td>\n",
       "      <td>0</td>\n",
       "      <td>557</td>\n",
       "    </tr>\n",
       "    <tr>\n",
       "      <th>5</th>\n",
       "      <td>10</td>\n",
       "      <td>Frame 780, TL [855.48974609375,185.50578308105...</td>\n",
       "      <td>[855, 185, 952, 267]</td>\n",
       "      <td>7939</td>\n",
       "      <td>[(903, 226), (902, 227), (903, 227), (901, 226...</td>\n",
       "      <td>(135, 154, 157)</td>\n",
       "      <td>True</td>\n",
       "      <td>0</td>\n",
       "      <td>126</td>\n",
       "    </tr>\n",
       "    <tr>\n",
       "      <th>6</th>\n",
       "      <td>3</td>\n",
       "      <td>Frame 780, TL [534.5546264648438,203.976135253...</td>\n",
       "      <td>[534, 203, 628, 287]</td>\n",
       "      <td>7885</td>\n",
       "      <td>[(581, 245), (581, 244), (582, 244), (581, 243...</td>\n",
       "      <td>(151, 58, 71)</td>\n",
       "      <td>True</td>\n",
       "      <td>0</td>\n",
       "      <td>1</td>\n",
       "    </tr>\n",
       "  </tbody>\n",
       "</table>\n",
       "</div>"
      ],
      "text/plain": [
       "   track                                          detection  \\\n",
       "0      1  Frame 780, TL [1387.57421875,668.7413330078125...   \n",
       "1      9  Frame 780, TL [1365.433349609375,219.195556640...   \n",
       "2      7  Frame 780, TL [666.788818359375,220.7062835693...   \n",
       "3      4  Frame 780, TL [480.0438537597656,248.885604858...   \n",
       "4      6  Frame 780, TL [840.200927734375,202.0245208740...   \n",
       "5     10  Frame 780, TL [855.48974609375,185.50578308105...   \n",
       "6      3  Frame 780, TL [534.5546264648438,203.976135253...   \n",
       "\n",
       "                      bbox    size  \\\n",
       "0  [1387, 668, 1909, 1076]  213212   \n",
       "1   [1365, 219, 1494, 322]   13403   \n",
       "2     [666, 220, 766, 319]    9941   \n",
       "3     [480, 248, 590, 336]    9649   \n",
       "4     [840, 202, 937, 296]    9185   \n",
       "5     [855, 185, 952, 267]    7939   \n",
       "6     [534, 203, 628, 287]    7885   \n",
       "\n",
       "                                                line           colour  \\\n",
       "0  [(1648, 872), (1652, 872), (1653, 872), (1652,...  (199, 231, 103)   \n",
       "1  [(1429, 270), (1436, 274), (1441, 279), (1444,...   (138, 11, 116)   \n",
       "2  [(716, 269), (716, 270), (717, 269), (717, 270...  (169, 232, 176)   \n",
       "3  [(535, 292), (535, 293), (535, 291), (535, 290...   (75, 230, 195)   \n",
       "4  [(888, 249), (888, 248), (889, 247), (888, 247...  (158, 233, 239)   \n",
       "5  [(903, 226), (902, 227), (903, 227), (901, 226...  (135, 154, 157)   \n",
       "6  [(581, 245), (581, 244), (582, 244), (581, 243...    (151, 58, 71)   \n",
       "\n",
       "   updated  opt_flow  life  \n",
       "0     True         0    32  \n",
       "1     True         0    39  \n",
       "2     True         0    70  \n",
       "3     True         0    32  \n",
       "4     True         0   557  \n",
       "5     True         0   126  \n",
       "6     True         0     1  "
      ]
     },
     "execution_count": 14,
     "metadata": {},
     "output_type": "execute_result"
    }
   ],
   "source": [
    "detections[780]"
   ]
  },
  {
   "cell_type": "code",
   "execution_count": null,
   "metadata": {},
   "outputs": [],
   "source": [
    "#DOUBLECHECK ENTIRE FUNCTION (INCLUDING INDEXING)\n",
    "\n",
    "i = initial_frame\n",
    "\n",
    "while i < total_frames:\n",
    "    detections[i]['parked'] = False\n",
    "    for index_prev, previous_detection in detections[i-1].iterrows():\n",
    "        length, _ = detections[i].shape\n",
    "        for j in range(length):\n",
    "            IoU = previous_detection['detection'].IoU(detections[i].iloc[j]['detection'])\n",
    "            if IoU > 0.95:\n",
    "                detections[i].at[j, 'parked'] = True\n",
    "    i += 1"
   ]
  },
  {
   "cell_type": "code",
   "execution_count": 10,
   "metadata": {},
   "outputs": [
    {
     "name": "stderr",
     "output_type": "stream",
     "text": [
      "100%|██████████| 1995/1995 [00:25<00:00, 77.05it/s] "
     ]
    },
    {
     "name": "stdout",
     "output_type": "stream",
     "text": [
      "seq1 c03 results:\n",
      "     num_frames  precision    recall       idp       idr      idf1\n",
      "acc        1827   0.676382  0.967307  0.489356  0.699837  0.575969\n"
     ]
    },
    {
     "name": "stderr",
     "output_type": "stream",
     "text": [
      "\n"
     ]
    }
   ],
   "source": [
    "acc = create_accumulator()\n",
    "\n",
    "for frame in tqdm(range(initial_frame, total_frames-1)):\n",
    "    #detections[frame] = detections[frame][detections[frame]['parked'] == False]\n",
    "    if str(frame+1) in all_gt_detections:\n",
    "        acc, frame_id = tracking_acc(frame, all_gt_detections, detections, acc)\n",
    "\n",
    "print(f'{S} {C} results:')\n",
    "display_metrics(acc)"
   ]
  },
  {
   "cell_type": "markdown",
   "metadata": {},
   "source": [
    "## GIF generation"
   ]
  },
  {
   "cell_type": "code",
   "execution_count": 15,
   "metadata": {},
   "outputs": [],
   "source": [
    "video_path = '../../AICity_data/train/S01/c003/vdo.avi'"
   ]
  },
  {
   "cell_type": "code",
   "execution_count": 16,
   "metadata": {},
   "outputs": [],
   "source": [
    "# SHOW GROUND TRUTH\n",
    "s_gt = True\n",
    "\n",
    "# SHOW DETECTIONS\n",
    "s_detections = False\n",
    "\n",
    "# SHOW TRACKS\n",
    "s_tracks = True"
   ]
  },
  {
   "cell_type": "code",
   "execution_count": 18,
   "metadata": {},
   "outputs": [
    {
     "name": "stderr",
     "output_type": "stream",
     "text": [
      "100%|██████████| 49/49 [00:00<00:00, 76.34it/s]\n"
     ]
    }
   ],
   "source": [
    "# Generating a tracking GIF for a frame interval\n",
    "gif1 = True\n",
    "initial_gif_frame = 300\n",
    "final_gif_frame = 350\n",
    "scaling = 0.5\n",
    "\n",
    "ims = []\n",
    "\n",
    "vidcap = cv2.VideoCapture(video_path)\n",
    "vidcap.set(1,initial_gif_frame)\n",
    "\n",
    "if gif1:\n",
    "    _, initial_image = vidcap.read()\n",
    "\n",
    "    for i in tqdm(range(initial_gif_frame+1, final_gif_frame)):\n",
    "        _, image = vidcap.read()\n",
    "\n",
    "        detections_pd = get_detection_dataframe(all_detections[str(i)])\n",
    "        #detections_pd_prev = get_detection_dataframe(all_detections[str(i)])\n",
    "\n",
    "        gt_detections_pd = get_detection_dataframe(all_gt_detections[str(i+1)])\n",
    "\n",
    "        # Plot ground truth in blue\n",
    "        if s_gt == True:\n",
    "            for index, row in gt_detections_pd.iterrows():\n",
    "                image = drawTrackingOnImage(image, row['bbox'], colour=(255, 0, 0), showTracking = False)\n",
    "\n",
    "        # Plot current detections in green\n",
    "        if s_detections == True:\n",
    "            for index, row in detections_pd.iterrows():\n",
    "                image = drawTrackingOnImage(image, row['bbox'], colour=(0, 255, 0), showTracking = False)\n",
    "\n",
    "        # Plot tracks in different colors\n",
    "        if s_tracks == True:\n",
    "            for index, row in detections[i].iterrows():\n",
    "                image = drawTrackingOnImage(image, row['bbox'], track=row['track'], colour=row['colour'])\n",
    "            \n",
    "        image = cv2.cvtColor(image, cv2.COLOR_BGR2RGB)\n",
    "        image = cv2.resize(image, (int(image.shape[1]*scaling), int(image.shape[0]*scaling)), interpolation = cv2.INTER_AREA)\n",
    "\n",
    "        ims.append(image)\n",
    "\n",
    "    imageio.mimsave('tracking.gif', ims, fps=20, duration = 0.3)"
   ]
  }
 ],
 "metadata": {
  "interpreter": {
   "hash": "2bc29f060ed23a123f6d9ca4fac8af0775aca92f5b2f5a596f9ae7b118c743e6"
  },
  "kernelspec": {
   "display_name": "Python 3.8.12 ('Torch')",
   "language": "python",
   "name": "python3"
  },
  "language_info": {
   "codemirror_mode": {
    "name": "ipython",
    "version": 3
   },
   "file_extension": ".py",
   "mimetype": "text/x-python",
   "name": "python",
   "nbconvert_exporter": "python",
   "pygments_lexer": "ipython3",
   "version": "3.7.4"
  },
  "orig_nbformat": 4
 },
 "nbformat": 4,
 "nbformat_minor": 2
}
