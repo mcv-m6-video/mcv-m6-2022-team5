{
 "cells": [
  {
   "cell_type": "code",
   "execution_count": 1,
   "metadata": {},
   "outputs": [],
   "source": [
    "import cv2\n",
    "import numpy as np\n",
    "import pandas as pd\n",
    "import pickle as pkl\n",
    "import imageio\n",
    "from matplotlib import pyplot as plt\n",
    "from tqdm import tqdm\n",
    "from tracking_utils import *\n",
    "import matplotlib.animation as animation\n",
    "import pickle as pkl\n",
    "from load_utils import *\n",
    "from eval_utils import *\n",
    "from sort import *\n",
    "from VehicleDetection import *"
   ]
  },
  {
   "cell_type": "code",
   "execution_count": 2,
   "metadata": {},
   "outputs": [],
   "source": [
    "import warnings\n",
    "warnings.filterwarnings(\"ignore\")"
   ]
  },
  {
   "cell_type": "code",
   "execution_count": 3,
   "metadata": {},
   "outputs": [],
   "source": [
    "# SELECT USED MODEL\n",
    "model = 'faster'\n",
    "\n",
    "# SELECT SEQUENCE TO EVALUATE\n",
    "S = 'seq1'\n",
    "\n",
    "# SELECT CAMERA TO EVALUATE\n",
    "C = 'c03'\n",
    "\n",
    "# SET NUMBER OF FRAMES\n",
    "num_frames = int(readFrameCount(S, C))"
   ]
  },
  {
   "cell_type": "code",
   "execution_count": 4,
   "metadata": {},
   "outputs": [],
   "source": [
    "# Load GT detections\n",
    "gt_detect_path = f'./cam_pred_gt/{S}_{C}_gt.pkl'\n",
    "\n",
    "# Load computed detections\n",
    "detection_path = f'./cam_pred/{S}_{model}_{C}.pkl'\n",
    "\n",
    "with open(detection_path, 'rb') as f:\n",
    "    all_detections = pkl.load(f)\n",
    "\n",
    "with open(gt_detect_path, 'rb') as f:\n",
    "    all_gt_detections = pkl.load(f)\n"
   ]
  },
  {
   "cell_type": "markdown",
   "metadata": {},
   "source": [
    "## Box intersection tracking"
   ]
  },
  {
   "cell_type": "code",
   "execution_count": 6,
   "metadata": {},
   "outputs": [],
   "source": [
    "def update_track3(detections_pd, previous_detections_pd, tolerance = 0.5, of = None, imgs = None):\n",
    "    detections_pd['updated'] = False\n",
    "    detections_pd = detections_pd.reset_index(drop=True)\n",
    "\n",
    "    previous_tracks = []\n",
    "\n",
    "    for index, previous_detection in previous_detections_pd.iterrows():\n",
    "        # Calculating IoUs\n",
    "        IoUlist = []\n",
    "\n",
    "        length, _ = detections_pd.shape\n",
    "\n",
    "        for i in range(length):\n",
    "            IoU = previous_detection['detection'].IoU(detections_pd.iloc[i]['detection'])\n",
    "            IoUlist.append(IoU)\n",
    "\n",
    "        indexMax = IoUlist.index(max(IoUlist))\n",
    "\n",
    "        # Updating detection tracks based on best IoU matches\n",
    "        if max(IoUlist) > tolerance and detections_pd.at[indexMax, 'updated'] != True:\n",
    "            detections_pd.at[indexMax, 'track'] = previous_detection['track']\n",
    "            detections_pd.at[indexMax, 'colour'] = previous_detection['colour']\n",
    "            for line in previous_detection['line']:\n",
    "                if line != detections_pd.at[indexMax,'line'][0]:\n",
    "                    detections_pd.at[indexMax,'line'].append(line)\n",
    "            detections_pd.at[indexMax, 'updated'] = True\n",
    "\n",
    "        previous_tracks.append(previous_detection['track'])\n",
    "\n",
    "    # Create new tracks for unmatched detections\n",
    "    idxs = detections_pd.index[detections_pd['updated'] == False].tolist()\n",
    "    track_check = 1\n",
    "    for ind in idxs:\n",
    "        while track_check in previous_tracks:\n",
    "            track_check += 1\n",
    "        detections_pd.at[ind, 'track'] = track_check\n",
    "        previous_tracks.append(track_check)\n",
    "            \n",
    "    return detections_pd"
   ]
  },
  {
   "cell_type": "code",
   "execution_count": 7,
   "metadata": {},
   "outputs": [
    {
     "name": "stderr",
     "output_type": "stream",
     "text": [
      "100%|██████████| 1995/1995 [00:37<00:00, 53.70it/s] \n"
     ]
    }
   ],
   "source": [
    "detection_history = []\n",
    "\n",
    "# Get the first frame\n",
    "detections_prev_pd = get_detection_dataframe(all_detections['0'], firstFrame = True)\n",
    "\n",
    "# Pre-process the first frame if needed\n",
    "#detections_prev_pd = remove_overlaps(detections_prev_pd, 0.9)\n",
    "detection_history.append(detections_prev_pd)\n",
    "\n",
    "past_frame = 0\n",
    "\n",
    "for frame in tqdm(range(1, num_frames)):\n",
    "    current_frame = frame\n",
    "\n",
    "    detections_pd = get_detection_dataframe(all_detections[str(frame)])\n",
    "    #detections_pd = remove_overlaps(detections_pd, 0.9)\n",
    "    detections_pd = update_track3(detections_pd, detections_prev_pd, tolerance=0.0, imgs=[past_frame, current_frame])\n",
    "    detection_history.append(detections_pd)\n",
    "    detections_prev_pd = detections_pd\n",
    "\n",
    "    past_frame = current_frame\n",
    "\n",
    "pkl.dump(detection_history, open(f'./tracking_results/tracking_history_{S}_{C}.pkl', 'wb'))"
   ]
  },
  {
   "cell_type": "code",
   "execution_count": 363,
   "metadata": {},
   "outputs": [],
   "source": [
    "detections = {}\n",
    "with open(f'./tracking_results/tracking_history_{S}_{C}.pkl','rb') as openFile:\n",
    "    detections = pkl.load(openFile)"
   ]
  },
  {
   "cell_type": "markdown",
   "metadata": {},
   "source": [
    "## Kalman"
   ]
  },
  {
   "cell_type": "code",
   "execution_count": 8,
   "metadata": {},
   "outputs": [
    {
     "name": "stderr",
     "output_type": "stream",
     "text": [
      "Tracking objects each frame...: 100%|██████████| 1996/1996 [00:10<00:00, 197.40it/s]\n"
     ]
    }
   ],
   "source": [
    "# Load video frames\n",
    "results = {}\n",
    "\n",
    "mot_tracker = Sort(max_age=10, min_hits=3, iou_threshold=0.3) # Sort Kalman tracker with default values\n",
    "\n",
    "# Iterate Frames\n",
    "for frame in tqdm(range(num_frames), desc = \"Tracking objects each frame...\"):\n",
    "    dets = []\n",
    "\n",
    "    detections = get_detection_dataframe(all_detections[str(frame)], iclLineAndUpdate = False, firstFrame = True).sort_values(\"track\") # Load detections\n",
    "\n",
    "    for (track_id, det, bbox, size, colour) in detections.itertuples(index=False): # Iter All Detections\n",
    "        dets.append(np.array(bbox))\n",
    "\n",
    "    trackers = mot_tracker.update(np.array(dets)) # Update tracker with current detections\n",
    "\n",
    "    for d in trackers: # Store new bboxes\n",
    "        d = d.astype(np.int32)\n",
    "        if frame not in results:\n",
    "            results[frame] = {d[4] % 100: {\"bbox\": [d[0], d[1], d[2], d[3]]}}\n",
    "        else:\n",
    "            results[frame][d[4] % 100] = {\"bbox\": [d[0], d[1], d[2], d[3]]}\n",
    "\n",
    "            \n",
    "# Save Results to Disk\n",
    "pkl.dump(results, open(f\"./tracking_results/sort_bbox_{S}_{C}.pkl\", \"wb\"))"
   ]
  },
  {
   "cell_type": "code",
   "execution_count": 9,
   "metadata": {},
   "outputs": [],
   "source": [
    "# Pkl to pd.DataFrame\n",
    "colours = np.random.rand(100, 3) #Generate Random Colors\n",
    "old_pkl = pkl.load(open(f\"./tracking_results/sort_bbox_{S}_{C}.pkl\", \"rb\"))\n",
    "new_pkl = []\n",
    "df = None\n",
    "\n",
    "for frame in old_pkl.keys():\n",
    "    new_data = {\"frame\": [],\"track\": [], \"bbox\": [], \"colour\": [], \"size\": [], \"detection\": []}\n",
    "    old_data = old_pkl[frame]\n",
    "    \n",
    "    for track_id in old_data.keys():\n",
    "        new_data[\"track\"].append(track_id)\n",
    "        bbox = old_data[track_id][\"bbox\"]\n",
    "        new_data[\"bbox\"].append(bbox)\n",
    "        new_data[\"frame\"].append(\"Frame {}\".format(frame))\n",
    "        new_data[\"colour\"].append(np.round(colours[track_id]*255).astype(np.uint8))\n",
    "        new_data[\"size\"].append(int(np.abs(bbox[0] - bbox[2]) * np.abs(bbox[1] - bbox[3])))\n",
    "        new_data[\"detection\"].append(VehicleDetection(frame=frame, ID=track_id, width=np.abs(bbox[0] - bbox[2]), conf=0.5,\n",
    "                                                      height=np.abs(bbox[1] - bbox[3]), left=bbox[0], right=bbox[2], top=bbox[1], bot=bbox[3]))\n",
    "    \n",
    "    df = pd.DataFrame.from_dict(new_data).sort_values(by=\"track\")\n",
    "\n",
    "    new_pkl.append(df)\n",
    "\n",
    "pkl.dump(new_pkl, open(f\"./tracking_results/kalman_tracking_{S}_{C}.pkl\", \"wb\"))"
   ]
  },
  {
   "cell_type": "code",
   "execution_count": 21,
   "metadata": {},
   "outputs": [],
   "source": [
    "detections = {}\n",
    "with open(f'./tracking_results/kalman_tracking_{S}_{C}.pkl','rb') as openFile:\n",
    "    detections = pkl.load(openFile)"
   ]
  },
  {
   "cell_type": "markdown",
   "metadata": {},
   "source": [
    "## Evaluation"
   ]
  },
  {
   "cell_type": "code",
   "execution_count": 274,
   "metadata": {},
   "outputs": [],
   "source": [
    "total_frames = num_frames\n",
    "initial_frame = 0"
   ]
  },
  {
   "cell_type": "markdown",
   "metadata": {},
   "source": [
    "### Post-processing on tracked detections"
   ]
  },
  {
   "cell_type": "code",
   "execution_count": 364,
   "metadata": {},
   "outputs": [],
   "source": [
    "# Checking minimum width and height of ground truth box detections\n",
    "minW_gt = np.inf\n",
    "minH_gt = np.inf\n",
    "\n",
    "for frame in all_gt_detections:\n",
    "    for detection in all_gt_detections[frame]:\n",
    "        if detection.w < minW_gt:\n",
    "            minW_gt = detection.w\n",
    "        if detection.h < minH_gt:\n",
    "            minH_gt = detection.h\n",
    "\n",
    "# Removing detections that are under these minimum values (minus an optional margin)\n",
    "i = initial_frame\n",
    "\n",
    "minW = 1.00*minW_gt\n",
    "minH = 1.00*minH_gt\n",
    "\n",
    "while i < total_frames:\n",
    "    for index, detection in detections[i].iterrows():\n",
    "        indxs_to_erase = []\n",
    "        if detection['detection'].w < minW and detection['detection'].h < minH:\n",
    "            indxs_to_erase.append(index)\n",
    "        detections[i].drop(indxs_to_erase, inplace = True)\n",
    "    detections[i] = detections[i].reset_index(drop=True)\n",
    "    i += 1"
   ]
  },
  {
   "cell_type": "code",
   "execution_count": 366,
   "metadata": {},
   "outputs": [],
   "source": [
    "# Discarding tracks with less than 4 frames of duration\n",
    "min_frames = 4\n",
    "\n",
    "i = initial_frame + 1\n",
    "\n",
    "detections[0]['life'] = 1\n",
    "\n",
    "while i < total_frames-1:\n",
    "    detections[i]['life'] = 1\n",
    "    length, _ = detections[i].shape\n",
    "    \n",
    "    for j in range(length):\n",
    "\n",
    "        continuity = False\n",
    "\n",
    "        track = detections[i].iloc[j]['track']\n",
    "\n",
    "        for index_prev, detection_prev in detections[i-1].iterrows():\n",
    "            if track == detection_prev['track']:\n",
    "                detections[i].at[j, 'life'] = detection_prev['life'] + 1\n",
    "\n",
    "        for index_next, detection_next in detections[i+1].iterrows():\n",
    "            if track == detection_next['track']:\n",
    "                continuity = True\n",
    "\n",
    "        if continuity == False and detections[i].iloc[j]['life'] < min_frames:\n",
    "            a = detections[i].iloc[j]['life']-1\n",
    "\n",
    "            while a >= 0:\n",
    "                track_index = detections[i-int(a)].index[detections[i-int(a)]['track'] == track].tolist()\n",
    "                detections[i-int(a)].at[track_index, 'life'] = -1\n",
    "                a -= 1\n",
    "\n",
    "    indexes_to_drop = detections[i].index[detections[i]['life'] == -1].tolist()\n",
    "    detections[i].drop(indexes_to_drop, inplace = True)\n",
    "    detections[i] = detections[i].reset_index(drop=True)\n",
    "\n",
    "    i += 1"
   ]
  },
  {
   "cell_type": "code",
   "execution_count": 360,
   "metadata": {},
   "outputs": [
    {
     "data": {
      "text/html": [
       "<div>\n",
       "<style scoped>\n",
       "    .dataframe tbody tr th:only-of-type {\n",
       "        vertical-align: middle;\n",
       "    }\n",
       "\n",
       "    .dataframe tbody tr th {\n",
       "        vertical-align: top;\n",
       "    }\n",
       "\n",
       "    .dataframe thead th {\n",
       "        text-align: right;\n",
       "    }\n",
       "</style>\n",
       "<table border=\"1\" class=\"dataframe\">\n",
       "  <thead>\n",
       "    <tr style=\"text-align: right;\">\n",
       "      <th></th>\n",
       "      <th>track</th>\n",
       "      <th>detection</th>\n",
       "      <th>bbox</th>\n",
       "      <th>size</th>\n",
       "      <th>line</th>\n",
       "      <th>colour</th>\n",
       "      <th>updated</th>\n",
       "      <th>opt_flow</th>\n",
       "    </tr>\n",
       "  </thead>\n",
       "  <tbody>\n",
       "    <tr>\n",
       "      <th>0</th>\n",
       "      <td>4</td>\n",
       "      <td>Frame 177, TL [1.7660102844238281,749.78247070...</td>\n",
       "      <td>[1, 749, 164, 1056]</td>\n",
       "      <td>50015</td>\n",
       "      <td>[(82, 902)]</td>\n",
       "      <td>(28, 117, 81)</td>\n",
       "      <td>False</td>\n",
       "      <td>0</td>\n",
       "    </tr>\n",
       "  </tbody>\n",
       "</table>\n",
       "</div>"
      ],
      "text/plain": [
       "   track                                          detection  \\\n",
       "0      4  Frame 177, TL [1.7660102844238281,749.78247070...   \n",
       "\n",
       "                  bbox   size         line         colour  updated  opt_flow  \n",
       "0  [1, 749, 164, 1056]  50015  [(82, 902)]  (28, 117, 81)    False         0  "
      ]
     },
     "execution_count": 360,
     "metadata": {},
     "output_type": "execute_result"
    }
   ],
   "source": [
    "detections[177]"
   ]
  },
  {
   "cell_type": "code",
   "execution_count": 379,
   "metadata": {},
   "outputs": [
    {
     "name": "stderr",
     "output_type": "stream",
     "text": [
      "100%|██████████| 1995/1995 [00:25<00:00, 78.60it/s] "
     ]
    },
    {
     "name": "stdout",
     "output_type": "stream",
     "text": [
      "seq1 c03 results:\n",
      "     num_frames  precision    recall       idp       idr      idf1\n",
      "acc        1827   0.686289  0.962403  0.495264  0.694524  0.578209\n"
     ]
    },
    {
     "name": "stderr",
     "output_type": "stream",
     "text": [
      "\n"
     ]
    }
   ],
   "source": [
    "acc = create_accumulator()\n",
    "\n",
    "for frame in tqdm(range(initial_frame, total_frames-1)):\n",
    "    # detections[frame] = detections[frame][detections[frame]['life'] != -1]\n",
    "    if str(frame+1) in all_gt_detections:\n",
    "        acc, frame_id = tracking_acc(frame, all_gt_detections, detections, acc)\n",
    "\n",
    "print(f'{S} {C} results:')\n",
    "display_metrics(acc)"
   ]
  },
  {
   "cell_type": "markdown",
   "metadata": {},
   "source": [
    "## GIF generation"
   ]
  },
  {
   "cell_type": "code",
   "execution_count": 257,
   "metadata": {},
   "outputs": [],
   "source": [
    "video_path = '../../AICity_data/train/S01/c003/vdo.avi'"
   ]
  },
  {
   "cell_type": "code",
   "execution_count": 258,
   "metadata": {},
   "outputs": [],
   "source": [
    "# SHOW GROUND TRUTH\n",
    "s_gt = True\n",
    "\n",
    "# SHOW DETECTIONS\n",
    "s_detections = False\n",
    "\n",
    "# SHOW TRACKS\n",
    "s_tracks = True"
   ]
  },
  {
   "cell_type": "code",
   "execution_count": 315,
   "metadata": {},
   "outputs": [
    {
     "name": "stderr",
     "output_type": "stream",
     "text": [
      "100%|██████████| 29/29 [00:00<00:00, 55.48it/s]\n"
     ]
    }
   ],
   "source": [
    "# Generating a tracking GIF for a frame interval\n",
    "gif1 = True\n",
    "initial_gif_frame = 160\n",
    "final_gif_frame = 190\n",
    "scaling = 0.5\n",
    "\n",
    "ims = []\n",
    "\n",
    "vidcap = cv2.VideoCapture(video_path)\n",
    "vidcap.set(1,initial_gif_frame)\n",
    "\n",
    "if gif1:\n",
    "    _, initial_image = vidcap.read()\n",
    "\n",
    "    for i in tqdm(range(initial_gif_frame+1, final_gif_frame)):\n",
    "        _, image = vidcap.read()\n",
    "\n",
    "        detections_pd = get_detection_dataframe(all_detections[str(i)])\n",
    "        #detections_pd_prev = get_detection_dataframe(all_detections[str(i)])\n",
    "\n",
    "        gt_detections_pd = get_detection_dataframe(all_gt_detections[str(i+1)])\n",
    "\n",
    "        # Plot ground truth in blue\n",
    "        if s_gt == True:\n",
    "            for index, row in gt_detections_pd.iterrows():\n",
    "                image = drawTrackingOnImage(image, row['bbox'], colour=(255, 0, 0), showTracking = False)\n",
    "\n",
    "        # Plot current detections in green\n",
    "        if s_detections == True:\n",
    "            for index, row in detections_pd.iterrows():\n",
    "                image = drawTrackingOnImage(image, row['bbox'], colour=(0, 255, 0), showTracking = False)\n",
    "\n",
    "        # Plot tracks in different colors\n",
    "        if s_tracks == True:\n",
    "            for index, row in detections[i].iterrows():\n",
    "                image = drawTrackingOnImage(image, row['bbox'], track=row['track'], colour=row['colour'])\n",
    "            \n",
    "        image = cv2.cvtColor(image, cv2.COLOR_BGR2RGB)\n",
    "        image = cv2.resize(image, (int(image.shape[1]*scaling), int(image.shape[0]*scaling)), interpolation = cv2.INTER_AREA)\n",
    "\n",
    "        ims.append(image)\n",
    "\n",
    "    imageio.mimsave('tracking.gif', ims, fps=20, duration = 0.3)"
   ]
  }
 ],
 "metadata": {
  "interpreter": {
   "hash": "2bc29f060ed23a123f6d9ca4fac8af0775aca92f5b2f5a596f9ae7b118c743e6"
  },
  "kernelspec": {
   "display_name": "Python 3.8.12 ('Torch')",
   "language": "python",
   "name": "python3"
  },
  "language_info": {
   "codemirror_mode": {
    "name": "ipython",
    "version": 3
   },
   "file_extension": ".py",
   "mimetype": "text/x-python",
   "name": "python",
   "nbconvert_exporter": "python",
   "pygments_lexer": "ipython3",
   "version": "3.7.4"
  },
  "orig_nbformat": 4
 },
 "nbformat": 4,
 "nbformat_minor": 2
}
