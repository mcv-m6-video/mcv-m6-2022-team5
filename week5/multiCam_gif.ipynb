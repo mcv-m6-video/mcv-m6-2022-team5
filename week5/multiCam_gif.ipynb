{
 "cells": [
  {
   "cell_type": "code",
   "execution_count": 1,
   "metadata": {},
   "outputs": [],
   "source": [
    "import matplotlib\n",
    "matplotlib.use('TkAgg')\n",
    "import matplotlib.pyplot as plt\n",
    "from mpl_toolkits.axes_grid1 import ImageGrid\n",
    "from PIL import Image\n",
    "\n",
    "import cv2\n",
    "import numpy as np\n",
    "import pandas as pd\n",
    "import pickle as pkl\n",
    "import imageio\n",
    "from tqdm import tqdm\n",
    "from tracking_utils import *\n",
    "from VehicleDetection import *\n",
    "import glob\n",
    "from video_utils import *"
   ]
  },
  {
   "cell_type": "code",
   "execution_count": 2,
   "metadata": {},
   "outputs": [],
   "source": [
    "gt_detect_path = '/home/group05/mcv-m6-2022-team5/week5/cam_pred_gt/seq3_*_gt.pkl'\n",
    "\n",
    "all_gt_detections = []\n",
    "\n",
    "# load gt\n",
    "for file_name in sorted(glob.glob(gt_detect_path)):\n",
    "    with open(file_name,'rb') as openFile:\n",
    "        gt_detections = pkl.load(openFile)\n",
    "        # print(gt_detections)\n",
    "        all_gt_detections.append(gt_detections)"
   ]
  },
  {
   "cell_type": "code",
   "execution_count": 23,
   "metadata": {},
   "outputs": [],
   "source": [
    "## load all detections to list\n",
    "path  = '/home/group05/mcv-m6-2022-team5/week5/tracking_results/kalman_tracking_seq3_*_pp.pkl'\n",
    "detections_list = []\n",
    "\n",
    "# load data\n",
    "for file_name in sorted(glob.glob(path)):\n",
    "    with open(file_name,'rb') as openFile:\n",
    "        detections = pkl.load(openFile)\n",
    "        detections_list.append(detections)"
   ]
  },
  {
   "cell_type": "code",
   "execution_count": 28,
   "metadata": {},
   "outputs": [
    {
     "data": {
      "text/html": [
       "<div>\n",
       "<style scoped>\n",
       "    .dataframe tbody tr th:only-of-type {\n",
       "        vertical-align: middle;\n",
       "    }\n",
       "\n",
       "    .dataframe tbody tr th {\n",
       "        vertical-align: top;\n",
       "    }\n",
       "\n",
       "    .dataframe thead th {\n",
       "        text-align: right;\n",
       "    }\n",
       "</style>\n",
       "<table border=\"1\" class=\"dataframe\">\n",
       "  <thead>\n",
       "    <tr style=\"text-align: right;\">\n",
       "      <th></th>\n",
       "      <th>frame</th>\n",
       "      <th>track</th>\n",
       "      <th>bbox</th>\n",
       "      <th>colour</th>\n",
       "      <th>size</th>\n",
       "      <th>detection</th>\n",
       "      <th>life</th>\n",
       "      <th>initial_position_x</th>\n",
       "      <th>initial_position_y</th>\n",
       "      <th>static</th>\n",
       "    </tr>\n",
       "  </thead>\n",
       "  <tbody>\n",
       "    <tr>\n",
       "      <th>1</th>\n",
       "      <td>Frame 995</td>\n",
       "      <td>2</td>\n",
       "      <td>[659, 630, 856, 743]</td>\n",
       "      <td>[230, 123, 254]</td>\n",
       "      <td>22261</td>\n",
       "      <td>Frame 995, TL [659,630], BR [856,743], Confide...</td>\n",
       "      <td>996</td>\n",
       "      <td>743.0</td>\n",
       "      <td>678.0</td>\n",
       "      <td>False</td>\n",
       "    </tr>\n",
       "    <tr>\n",
       "      <th>3</th>\n",
       "      <td>Frame 995</td>\n",
       "      <td>28</td>\n",
       "      <td>[1663, 953, 1748, 1032]</td>\n",
       "      <td>[127, 128, 103]</td>\n",
       "      <td>6715</td>\n",
       "      <td>Frame 995, TL [1663,953], BR [1748,1032], Conf...</td>\n",
       "      <td>1</td>\n",
       "      <td>1705.0</td>\n",
       "      <td>992.0</td>\n",
       "      <td>False</td>\n",
       "    </tr>\n",
       "  </tbody>\n",
       "</table>\n",
       "</div>"
      ],
      "text/plain": [
       "       frame  track                     bbox           colour   size  \\\n",
       "1  Frame 995      2     [659, 630, 856, 743]  [230, 123, 254]  22261   \n",
       "3  Frame 995     28  [1663, 953, 1748, 1032]  [127, 128, 103]   6715   \n",
       "\n",
       "                                           detection  life  \\\n",
       "1  Frame 995, TL [659,630], BR [856,743], Confide...   996   \n",
       "3  Frame 995, TL [1663,953], BR [1748,1032], Conf...     1   \n",
       "\n",
       "   initial_position_x  initial_position_y static  \n",
       "1               743.0               678.0  False  \n",
       "3              1705.0               992.0  False  "
      ]
     },
     "execution_count": 28,
     "metadata": {},
     "output_type": "execute_result"
    }
   ],
   "source": [
    "detections_list[1][995]"
   ]
  },
  {
   "cell_type": "code",
   "execution_count": 3,
   "metadata": {},
   "outputs": [],
   "source": [
    "sequence = 'S03'\n",
    "cams = [('c010', 8715), ('c011', 8457), ('c012', 5879), ('c013', 0), ('c014', 5042), ('c015', 8492)]"
   ]
  },
  {
   "cell_type": "code",
   "execution_count": 4,
   "metadata": {},
   "outputs": [],
   "source": [
    "# SHOW GROUND TRUTH\n",
    "s_gt = True\n",
    "\n",
    "# SHOW DETECTIONS\n",
    "s_detections = True\n",
    "\n",
    "# SHOW TRACKS\n",
    "s_tracks = False\n",
    "\n",
    "video_path = '/home/group05/mcv-m6-2022-team5/datasets/aic19-track1-mtmc-train/train/S03/{}/vdo.avi'"
   ]
  },
  {
   "cell_type": "code",
   "execution_count": 37,
   "metadata": {},
   "outputs": [
    {
     "name": "stdout",
     "output_type": "stream",
     "text": [
      "(1080, 1920, 3)\n"
     ]
    },
    {
     "name": "stderr",
     "output_type": "stream",
     "text": [
      "100%|██████████| 2141/2141 [00:12<00:00, 168.50it/s]\n"
     ]
    },
    {
     "name": "stdout",
     "output_type": "stream",
     "text": [
      "(1920, 2560, 3)\n"
     ]
    },
    {
     "name": "stderr",
     "output_type": "stream",
     "text": [
      "100%|██████████| 2279/2279 [00:25<00:00, 90.22it/s] \n"
     ]
    },
    {
     "name": "stdout",
     "output_type": "stream",
     "text": [
      "(1920, 2560, 3)\n"
     ]
    },
    {
     "name": "stderr",
     "output_type": "stream",
     "text": [
      "100%|██████████| 2422/2422 [00:26<00:00, 91.58it/s] \n"
     ]
    },
    {
     "name": "stdout",
     "output_type": "stream",
     "text": [
      "(1920, 2560, 3)\n"
     ]
    },
    {
     "name": "stderr",
     "output_type": "stream",
     "text": [
      "100%|██████████| 2415/2415 [00:26<00:00, 91.01it/s] \n"
     ]
    },
    {
     "name": "stdout",
     "output_type": "stream",
     "text": [
      "(1080, 1920, 3)\n"
     ]
    },
    {
     "name": "stderr",
     "output_type": "stream",
     "text": [
      "100%|██████████| 2332/2332 [00:14<00:00, 165.48it/s]\n"
     ]
    },
    {
     "name": "stdout",
     "output_type": "stream",
     "text": [
      "(1080, 1920, 3)\n"
     ]
    },
    {
     "name": "stderr",
     "output_type": "stream",
     "text": [
      "100%|██████████| 1928/1928 [00:08<00:00, 233.37it/s]\n"
     ]
    }
   ],
   "source": [
    "scaling = 0.5\n",
    "\n",
    "ims = []\n",
    "shapes = []\n",
    "camId = 0\n",
    "for cam, timstamp in cams:\n",
    "    final_video_path = video_path.format(cam)\n",
    "    vidcap = cv2.VideoCapture(final_video_path)\n",
    "    num_frames = int(vidcap.get(cv2.CAP_PROP_FRAME_COUNT))\n",
    "\n",
    "    _, initial_image = vidcap.read()\n",
    "    shapes.append(initial_image.shape)\n",
    "    print(initial_image.shape)\n",
    "    camAuxIms = []\n",
    "    for i in tqdm(range(num_frames)):\n",
    "        _, image = vidcap.read()\n",
    "        currentTime = vidcap.get(cv2.CAP_PROP_POS_MSEC)\n",
    "        if currentTime > timstamp:\n",
    "            if str(i) in all_gt_detections[camId]:\n",
    "                image = cv2.cvtColor(image, cv2.COLOR_BGR2RGB)\n",
    "                color = (0,255,0)\n",
    "                image = drawBoxes(image, all_gt_detections[camId][str(i)], color)\n",
    "\n",
    "                for indexDf, row in detections_list[camId][i].iterrows():\n",
    "                    color = row['colour']\n",
    "                    image = drawBoxes(image, [row['detection']], [int(color[0]), int(color[1]), int(color[2])])\n",
    "            # image = cv2.resize(image, (int(image.shape[1]*scaling), int(image.shape[0]*scaling)), interpolation = cv2.INTER_AREA)\n",
    "            camAuxIms.append(image)\n",
    "    ims.append(camAuxIms)\n",
    "    camId += 1"
   ]
  },
  {
   "cell_type": "code",
   "execution_count": 38,
   "metadata": {},
   "outputs": [
    {
     "name": "stderr",
     "output_type": "stream",
     "text": [
      "  0%|          | 0/150 [00:00<?, ?it/s]/home/group05/anaconda3/envs/M5env/lib/python3.7/site-packages/ipykernel_launcher.py:18: UserWarning: This figure includes Axes that are not compatible with tight_layout, so results might be incorrect.\n",
      "100%|██████████| 150/150 [03:01<00:00,  1.21s/it]\n"
     ]
    }
   ],
   "source": [
    "\n",
    "gif_ims = []\n",
    "lens = [len(vid) for vid in ims]\n",
    "# for i in tqdm(range(min(lens))):\n",
    "for i in tqdm(range(550, 700)):\n",
    "    imageArray = [ims[camInd][i] for camInd in range(len(ims))]\n",
    "    fig = plt.figure(figsize=(20., 20.))\n",
    "    grid = ImageGrid(fig, 111,  # similar to subplot(111)\n",
    "                    nrows_ncols=(2, 3),  # creates 3x2 grid of axes\n",
    "                    axes_pad=0.1,  # pad between axes in inch.\n",
    "                    )\n",
    "\n",
    "    for ax, im in zip(grid, imageArray):\n",
    "        # Iterating over the grid returns the Axes.\n",
    "        ax.imshow(im)\n",
    "        ax.axis('off')\n",
    "    # plt.savefig('foo.png', bbox_inches='tight')\n",
    "    fig.canvas.draw()\n",
    "    fig.tight_layout()\n",
    "    img = Image.frombytes('RGB', \n",
    "        fig.canvas.get_width_height(),fig.canvas.tostring_rgb())\n",
    "    gif_ims.append(img)\n",
    "    # gif_ims.append(cv2.cvtColor(cv2.imread('foo.png'), cv2.COLOR_BGR2RGB))\n",
    "    plt.clf()\n",
    "    plt.close()\n",
    "\n"
   ]
  },
  {
   "cell_type": "code",
   "execution_count": 39,
   "metadata": {},
   "outputs": [],
   "source": [
    "imageio.mimsave('tracking_gt_tracks.gif', (gif_ims), fps=20)"
   ]
  }
 ],
 "metadata": {
  "interpreter": {
   "hash": "8a06b03c6bfe6118fa541b7052cbbb3273904788e7ba2b479b6ba2f1ee0ca0d0"
  },
  "kernelspec": {
   "display_name": "Python 3.7.4 ('M5env')",
   "language": "python",
   "name": "python3"
  },
  "language_info": {
   "codemirror_mode": {
    "name": "ipython",
    "version": 3
   },
   "file_extension": ".py",
   "mimetype": "text/x-python",
   "name": "python",
   "nbconvert_exporter": "python",
   "pygments_lexer": "ipython3",
   "version": "3.7.4"
  },
  "orig_nbformat": 4
 },
 "nbformat": 4,
 "nbformat_minor": 2
}
